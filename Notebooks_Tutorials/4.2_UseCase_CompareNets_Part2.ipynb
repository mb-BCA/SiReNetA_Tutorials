{
 "cells": [
  {
   "cell_type": "markdown",
   "metadata": {},
   "source": [
    "# 4. Use Case on Comparing Networks\n",
    "\n",
    "Authors: **Gorka Zamora-López** and **Matthieu Gilson**\n",
    "\n",
    "---------------------\n",
    "\n",
    "This notebook is part of an introductory tutorial for the use of *Stimulus-Response Network Analysis* ([SiReNetA](https://github.com/mb-BCA/SiReNetA)) to study the structure of complex networks:\n",
    "1. *[Getting Started and Overview](1_GettingStarted.ipynb)*\n",
    "2. *[Calculating Response to Stimulus and Metrics](2_Basics_StimRespMetrics.ipynb)*\n",
    "3. *[Canonical Models](3_Basics_CanonMods.ipynb)*\n",
    "4. **[Comparing Networks](4_UseCase_CompareNets.ipynb)**\n",
    "5. *[Network Distance](5_UseCase_NetDist.ipynb)*\n",
    "6. *[Weighted Networks](6_UseCase_WeighteNets.ipynb)* \n",
    "\n",
    "---------------------\n",
    "\n",
    "### Outline of use case\n",
    "* Reproduce Fig 3 of [Zamora-López and Gilson (2024) Chaos](https://doi.org/10.1063/5.0202241)\n",
    "* Show the equivalence between graph distance for discrete cascade and time-to-peak distance for leaky cascade for several binary graphs.\n",
    "* \n",
    "\n",
    "---------------------"
   ]
  },
  {
   "cell_type": "markdown",
   "metadata": {},
   "source": [
    "## Import libraries"
   ]
  },
  {
   "cell_type": "code",
   "execution_count": 1,
   "metadata": {},
   "outputs": [],
   "source": [
    "try:\n",
    "    import galib\n",
    "except ImportError:\n",
    "    %pip install git+https://github.com/gorkazl/pyGAlib.git@master    "
   ]
  },
  {
   "cell_type": "code",
   "execution_count": 2,
   "metadata": {},
   "outputs": [],
   "source": [
    "# Python standard library imports\n",
    "from timeit import default_timer as timer\n",
    "\n",
    "# Third party imports\n",
    "import matplotlib.pyplot as plt\n",
    "%matplotlib inline\n",
    "import numpy as np\n",
    "import numpy.linalg\n",
    "\n",
    "import galib\n",
    "import sireneta as sna\n",
    "\n",
    "# Import local libraries\n"
   ]
  },
  {
   "cell_type": "code",
   "execution_count": null,
   "metadata": {},
   "outputs": [],
   "source": []
  },
  {
   "cell_type": "markdown",
   "metadata": {},
   "source": [
    "<br>\n",
    "\n",
    "## 1. Properties of the original graphs (before normalization)\n",
    "\n",
    "Write me here. Short introduction.\n",
    "\n",
    "\n",
    "Begin by choosing the type of network to generate between three graph models:\n",
    "- **Random**: Random graph of $G(N,L)$ class, with prespecified number of links.\n",
    "- **Lattice**: A 1-dimensional ring lattice.\n",
    "- **ScaleFree**: Random graph with scale-free-like degree distribution. For the small sizes here employed (N ≤ 500 nodes) the resulting degree distribution will be skewed but not fully scale-free."
   ]
  },
  {
   "cell_type": "code",
   "execution_count": 19,
   "metadata": {},
   "outputs": [],
   "source": [
    "# Define the colors for plots later\n",
    "#cols = ['deepskyblue', '#1f77b4', 'red', '#d62728']\n",
    "cols = ['#1f77b4', '#ff7f0e', '#2ca02c', '#d62728', '#9467bd', '#8c564b']\n",
    "\n",
    "# Define the default scale for the plots\n",
    "plt.rcParams['figure.dpi'] = 72"
   ]
  },
  {
   "cell_type": "code",
   "execution_count": null,
   "metadata": {},
   "outputs": [],
   "source": []
  },
  {
   "cell_type": "code",
   "execution_count": 4,
   "metadata": {},
   "outputs": [],
   "source": [
    "# Define basic parameters for the graphs\n",
    "N1 = 200\n",
    "N2 = 500\n",
    "dens1 = 0.06\n",
    "dens2 = 0.1\n",
    "L1s = int(round( 0.5*dens1*N1*(N1-1) ))\n",
    "L1d = int(round( 0.5*dens2*N1*(N1-1) ))\n",
    "L2s = int(round( 0.5*dens1*N2*(N2-1) ))\n",
    "L2d = int(round( 0.5*dens2*N2*(N2-1) ))\n",
    "z1s = 6; z1d = 10\n",
    "z2s = 15; z2d = 25\n",
    "\n",
    "# Create three networks, of different class and different sizes / densities\n",
    "net1 = galib.models.RandomGraph(N1, L1s).astype(float64)\n",
    "net2 = galib.models.Lattice1D(N1, z1d).astype(float64)\n",
    "net3 = galib.models.ScaleFreeGraph(N2, L2s).astype(float64)\n",
    "\n",
    "# Make sure the networks are connected\n",
    "indeg1 = net1.sum(axis=0);  outdeg1 = net1.sum(axis=1)\n",
    "indeg2 = net2.sum(axis=0);  outdeg2 = net2.sum(axis=1)\n",
    "indeg3 = net3.sum(axis=0);  outdeg3 = net3.sum(axis=1)\n",
    "assert 0 not in [indeg1.min(), indeg2.min(), indeg3.min()], 'Disconnected graph found'\n"
   ]
  },
  {
   "cell_type": "code",
   "execution_count": null,
   "metadata": {},
   "outputs": [],
   "source": []
  },
  {
   "cell_type": "code",
   "execution_count": 5,
   "metadata": {},
   "outputs": [],
   "source": [
    "def SpectralRadius(eigenvalues):\n",
    "    \"\"\"Finds the eigenvalue with largest norm in the imaginary space.\"\"\"\n",
    "    \n",
    "    N = len(eigenvalues)\n",
    "    evnorms = np.zeros(N, float64)\n",
    "    for i in range(N):\n",
    "        evnorms[i] = numpy.linalg.norm(eigenvalues[i])\n",
    "    maxradius = evnorms.max()\n",
    "\n",
    "    return maxradius"
   ]
  },
  {
   "cell_type": "code",
   "execution_count": 40,
   "metadata": {
    "scrolled": true
   },
   "outputs": [],
   "source": [
    "# Compute the eigenvalues of the four networks\n",
    "evs1 = numpy.linalg.eigvals(net1)\n",
    "evs2 = numpy.linalg.eigvals(net2)\n",
    "evs3 = numpy.linalg.eigvals(net3)\n",
    "\n",
    "# Find the largest eigenvalues, and the corresponding critical τ for each network\n",
    "evmax1 = SpectralRadius(evs1); taumax1 = 1.0 / evmax1\n",
    "evmax2 = SpectralRadius(evs2); taumax2 = 1.0 / evmax2\n",
    "evmax3 = SpectralRadius(evs3); taumax3 = 1.0 / evmax3\n",
    "\n",
    "# Normalize the networks\n",
    "nnet1 = net1 / evmax1\n",
    "nnet2 = net2 / evmax2\n",
    "nnet3 = net3 / evmax3\n",
    "\n",
    "# Compute the eigenvalues of the normalised networks\n",
    "nevs1 = numpy.linalg.eigvals(nnet1)\n",
    "nevs2 = numpy.linalg.eigvals(nnet2)\n",
    "nevs3 = numpy.linalg.eigvals(nnet3)\n",
    "\n",
    "# Find the largest eigenvalues, and the new critical τ for each network\n",
    "nevmax1 = SpectralRadius(nevs1); ntaumax1 = 1.0 / nevmax1\n",
    "nevmax2 = SpectralRadius(nevs2); ntaumax2 = 1.0 / nevmax2\n",
    "nevmax3 = SpectralRadius(nevs3); ntaumax3 = 1.0 / nevmax3\n"
   ]
  },
  {
   "cell_type": "code",
   "execution_count": 41,
   "metadata": {},
   "outputs": [
    {
     "name": "stdout",
     "output_type": "stream",
     "text": [
      "BEFORE NORMALIZATION ...\n",
      "\t\tSpectral radius\t\tLargest tau\n",
      "net #1 (rand):  12.89676\t\t0.07754\n",
      "net #2 (latt):  20.00000\t\t0.05000\n",
      "net #3 (scfr):  44.70711\t\t0.02237\n",
      "\n",
      "AFTER NORMALIZATION ...\n",
      "\t\tSpectral radius\t\tLargest tau\n",
      "net #1 (rand):   1.00000\t\t1.00000\n",
      "net #2 (latt):   1.00000\t\t1.00000\n",
      "net #3 (scfr):   1.00000\t\t1.00000\n"
     ]
    }
   ],
   "source": [
    "# Print some feedback: spectral radius and corresponding critical 'tau's\n",
    "print( 'BEFORE NORMALIZATION ...')\n",
    "print( '\\t\\tSpectral radius\\t\\tLargest tau' )\n",
    "print( 'net #1 (rand):  %3.5f\\t\\t%2.5f'  %(evmax1, taumax1) )\n",
    "print( 'net #2 (latt):  %3.5f\\t\\t%2.5f'  %(evmax2, taumax2) )\n",
    "print( 'net #3 (scfr):  %3.5f\\t\\t%2.5f'  %(evmax3, taumax3) )\n",
    "\n",
    "# Print some feedback: spectral radius and corresponding critical 'tau's\n",
    "print( '\\nAFTER NORMALIZATION ...')\n",
    "print( '\\t\\tSpectral radius\\t\\tLargest tau' )\n",
    "print( 'net #1 (rand):   %3.5f\\t\\t%2.5f'  %(nevmax1, ntaumax1) )\n",
    "print( 'net #2 (latt):   %3.5f\\t\\t%2.5f'  %(nevmax2, ntaumax2) )\n",
    "print( 'net #3 (scfr):   %3.5f\\t\\t%2.5f'  %(nevmax3, ntaumax3) )"
   ]
  },
  {
   "cell_type": "code",
   "execution_count": null,
   "metadata": {},
   "outputs": [],
   "source": []
  },
  {
   "cell_type": "code",
   "execution_count": 56,
   "metadata": {},
   "outputs": [
    {
     "data": {
      "image/png": "[encoded data removed]",
      "text/plain": [
       "<Figure size 648x273.6 with 2 Axes>"
      ]
     },
     "metadata": {},
     "output_type": "display_data"
    }
   ],
   "source": [
    "# Plot the eigenvalues for comparison\n",
    "plt.figure(figsize=(9,3.8))\n",
    "\n",
    "# BEFORE normalization\n",
    "ax1 = plt.subplot(1,2,1)\n",
    "ax1.spines[['top','right']].set_visible(False)\n",
    "ax1.get_yaxis().set_visible(False)\n",
    "plt.title( 'Before normalization', fontsize=16 )\n",
    "\n",
    "plt.scatter(evs1.real, 0.03 + evs1.imag, c=cols[0], label='Random')\n",
    "plt.scatter(evs2.real, 0.02 + evs2.imag, c=cols[1], label='Lattice')\n",
    "plt.scatter(evs3.real, 0.01 + evs3.imag, c=cols[2], label='Scale-free')\n",
    "\n",
    "plt.scatter(evmax1, 0.03, marker='x', s=100, lw=3, c=cols[0])\n",
    "plt.scatter(evmax2, 0.02, marker='x', s=100, lw=3, c=cols[1])\n",
    "plt.scatter(evmax3, 0.01, marker='x', s=100, lw=3, c=cols[2])\n",
    "\n",
    "plt.ylim(0.005,0.032)\n",
    "plt.tick_params( labelsize=16 )\n",
    "\n",
    "plt.legend(frameon=False, loc='upper right', fontsize=12)\n",
    "\n",
    "\n",
    "# AFTER normalization\n",
    "ax2 = plt.subplot(1,2,2)\n",
    "ax2.spines[['top','right']].set_visible(False)\n",
    "ax2.get_yaxis().set_visible(False)\n",
    "plt.title( 'After normalization', fontsize=16 )\n",
    "\n",
    "plt.scatter(nevs1.real, 0.03 + nevs1.imag, c=cols[0], label='Random')\n",
    "plt.scatter(nevs2.real, 0.02 + nevs2.imag, c=cols[1], label='Lattice')\n",
    "plt.scatter(nevs3.real, 0.01 + nevs3.imag, c=cols[2], label='Scale-free')\n",
    "\n",
    "plt.scatter(nevmax1, 0.03, marker='x', s=100, lw=3, c=cols[0])\n",
    "plt.scatter(nevmax2, 0.02, marker='x', s=100, lw=3, c=cols[1])\n",
    "plt.scatter(nevmax3, 0.01, marker='x', s=100, lw=3, c=cols[2])\n",
    "\n",
    "plt.ylim(0.005,0.032)\n",
    "plt.tick_params( labelsize=16 )\n",
    "\n",
    "plt.tight_layout()\n"
   ]
  },
  {
   "cell_type": "code",
   "execution_count": null,
   "metadata": {},
   "outputs": [],
   "source": []
  },
  {
   "cell_type": "code",
   "execution_count": 43,
   "metadata": {},
   "outputs": [
    {
     "name": "stdout",
     "output_type": "stream",
     "text": [
      "\n",
      "Calculating the dynamic communicability tensors from t=0 to t=0.6, with step=0.005 ...\n",
      "6.138177856999846 seconds\n"
     ]
    }
   ],
   "source": [
    "# 1) COMPUTE THE DYNAMIC COMMUNICABILITY AND CALCULATE SOME PROPERTIES\n",
    "# 1.1) Define the simulation parameters\n",
    "# Define the temporal resolution\n",
    "tfinal = 0.6\n",
    "dt = 0.005\n",
    "tpoints = arange(0.0, tfinal+0.1*dt, dt)\n",
    "nsteps = len(tpoints)\n",
    "\n",
    "# Set the decay time-constants τ, proportional to taumax\n",
    "tauratio = 0.8\n",
    "tau1 = tauratio * taumax1\n",
    "tau2 = tauratio * taumax2\n",
    "tau3 = tauratio * taumax3\n",
    "\n",
    "# Define the inputs to every node\n",
    "stim = 1.0\n",
    "\n",
    "# 1.3) Calculate the evolution of communicability over time for the nets\n",
    "print('\\nCalculating the dynamic communicability tensors from t=0 to t=%3.1f, with step=%3.3f ...' %(tfinal, dt) )\n",
    "time1 = timer()\n",
    "netresp1 = sna.Resp_LC(net1.T, tau=tau1, S0=stim, tmax=tfinal, timestep=dt, case='regressed')\n",
    "netresp2 = sna.Resp_LC(net2.T, tau=tau2, S0=stim, tmax=tfinal, timestep=dt, case='regressed')\n",
    "netresp3 = sna.Resp_LC(net3.T, tau=tau3, S0=stim, tmax=tfinal, timestep=dt, case='regressed')\n",
    "time2 = timer()\n",
    "print( time2 - time1, 'seconds' )\n",
    "\n",
    "# 1.4) Compute the global network responses\n",
    "# Sum of all pair-wise responses, at every time-point\n",
    "globalresp1 = sna.GlobalResponse(netresp1)\n",
    "globalresp2 = sna.GlobalResponse(netresp2)\n",
    "globalresp3 = sna.GlobalResponse(netresp3)\n"
   ]
  },
  {
   "cell_type": "code",
   "execution_count": 44,
   "metadata": {},
   "outputs": [
    {
     "name": "stdout",
     "output_type": "stream",
     "text": [
      "\n",
      "Calculating the dynamic communicability tensors from t=0 to t=12.0, with step=0.050 ...\n",
      "11.359228779000205 seconds\n"
     ]
    }
   ],
   "source": [
    "# COMPUTE THE DYNAMIC COMMUNICABILITY AND CALCULATE SOME PROPERTIES\n",
    "# 1.1) Define the simulation parameters\n",
    "# Define the temporal resolution\n",
    "ntfinal = 12.0\n",
    "ndt = 0.05\n",
    "ntpoints = arange(0.0, ntfinal+0.1*ndt, ndt)\n",
    "#nnsteps = len(ntpoints)\n",
    "\n",
    "# Set the decay time-constants τ, proportional to taumax\n",
    "# After normalization all taumax = 1.0, hence, we only need one value for\n",
    "# all four networks.\n",
    "ntau = 0.8\n",
    "\n",
    "# Define the inputs to every node\n",
    "stim = 1.0\n",
    "\n",
    "# Calculate the evolution of communicability over time for the nets\n",
    "print('\\nCalculating the dynamic communicability tensors from t=0 to t=%3.1f, with step=%3.3f ...' %(ntfinal, ndt) )\n",
    "time1 = timer()\n",
    "nnetresp1 = sna.Resp_LC(nnet1.T, tau=ntau, S0=stim, tmax=ntfinal, timestep=ndt, case='regressed')\n",
    "nnetresp2 = sna.Resp_LC(nnet2.T, tau=ntau, S0=stim, tmax=ntfinal, timestep=ndt, case='regressed')\n",
    "nnetresp3 = sna.Resp_LC(nnet3.T, tau=ntau, S0=stim, tmax=ntfinal, timestep=ndt, case='regressed')\n",
    "time2 = timer()\n",
    "print( time2 - time1, 'seconds' )\n",
    "\n",
    "# 1.4) Compute the global network responses\n",
    "# Sum of all pair-wise responses, at every time-point\n",
    "nglobalresp1 = sna.GlobalResponse(nnetresp1)\n",
    "nglobalresp2 = sna.GlobalResponse(nnetresp2)\n",
    "nglobalresp3 = sna.GlobalResponse(nnetresp3)\n"
   ]
  },
  {
   "cell_type": "code",
   "execution_count": 54,
   "metadata": {},
   "outputs": [
    {
     "data": {
      "image/png": "[encoded data removed]",
      "text/plain": [
       "<Figure size 864x273.6 with 3 Axes>"
      ]
     },
     "metadata": {},
     "output_type": "display_data"
    }
   ],
   "source": [
    "# Plot the global network responses\n",
    "plt.figure(figsize=(12,3.8))\n",
    "\n",
    "# BEFORE normalization\n",
    "ax1 = plt.subplot(1,3,1)\n",
    "ax1.spines[['top','right']].set_visible(False)\n",
    "plt.title( 'Before normalization', fontsize=16 )\n",
    "\n",
    "plt.plot(tpoints, globalresp1, lw=3, c=cols[0], label='Random')\n",
    "plt.plot(tpoints, globalresp2, lw=3, c=cols[1], label='Lattice')\n",
    "plt.plot(tpoints, globalresp3, lw=3, c=cols[2], label='Scale-free')\n",
    "\n",
    "plt.ylim(-5,310)\n",
    "plt.tick_params( labelsize=14 )\n",
    "plt.xlabel('Time (a.u.)', fontsize=16)\n",
    "plt.ylabel('Global Netw. Response, $r(t)$', fontsize=16)\n",
    "\n",
    "plt.legend(frameon=False, fontsize=12)\n",
    "\n",
    "\n",
    "# AFTER normalization\n",
    "ax2 = plt.subplot(1,3,2)\n",
    "ax2.spines[['top','right']].set_visible(False)\n",
    "plt.title( 'After normalization #1', fontsize=16 )\n",
    "\n",
    "plt.plot(ntpoints, nglobalresp1, lw=3, c=cols[0], label='Random')\n",
    "plt.plot(ntpoints, nglobalresp2, lw=3, c=cols[1], label='Lattice')\n",
    "plt.plot(ntpoints, nglobalresp3, lw=3, c=cols[2], label='Scale-free')\n",
    "\n",
    "plt.ylim(-5,310)\n",
    "plt.tick_params( labelsize=14 )\n",
    "plt.xlabel('Time (a.u.)', fontsize=16)\n",
    "plt.ylabel('Global Netw. Response, $r(t)$', fontsize=16)\n",
    "#plt.legend(frameon=False, fontsize=12)\n",
    "\n",
    "\n",
    "# AFTER normalization\n",
    "ax3 = plt.subplot(1,3,3)\n",
    "ax3.spines[['top','right']].set_visible(False)\n",
    "plt.title( 'After normalization #2', fontsize=16 )\n",
    "\n",
    "plt.plot(ntpoints, nglobalresp1 / N1, lw=3, c=cols[0], label='Random')\n",
    "plt.plot(ntpoints, nglobalresp2 / N1, lw=3, c=cols[1], label='Lattice')\n",
    "plt.plot(ntpoints, nglobalresp3 / N2, lw=3, c=cols[2], label='Scale-free')\n",
    "\n",
    "plt.ylim(0,1)\n",
    "plt.tick_params( labelsize=14 )\n",
    "plt.xlabel('Time (a.u.)', fontsize=16)\n",
    "plt.ylabel('Global Netw. Response, $r(t)$', fontsize=16)\n",
    "#plt.legend(frameon=False, fontsize=12)\n",
    "\n",
    "\n",
    "plt.tight_layout()\n"
   ]
  },
  {
   "cell_type": "markdown",
   "metadata": {},
   "source": [
    "Write some brief explanations here …"
   ]
  },
  {
   "cell_type": "code",
   "execution_count": 57,
   "metadata": {},
   "outputs": [],
   "source": [
    "# 1.4) Compare the (input) degrees to the node responses\n",
    "noderesp1 = sna.NodeResponses(netresp1)[0]\n",
    "noderesp2 = sna.NodeResponses(netresp2)[0]\n",
    "noderesp3 = sna.NodeResponses(netresp3)[0]\n",
    "\n",
    "# Integrate the response of every node over time\n",
    "totnoderesp1 = sna.AreaUnderCurve(noderesp1, dt)\n",
    "totnoderesp2 = sna.AreaUnderCurve(noderesp2, dt)\n",
    "totnoderesp3 = sna.AreaUnderCurve(noderesp3, dt)\n",
    "\n",
    "# Compare the (input) degrees to the node responses\n",
    "nnoderesp1 = sna.NodeResponses(nnetresp1)[0]\n",
    "nnoderesp2 = sna.NodeResponses(nnetresp2)[0]\n",
    "nnoderesp3 = sna.NodeResponses(nnetresp3)[0]\n",
    "\n",
    "# Integrate the response of every node over time\n",
    "ntotnoderesp1 = sna.AreaUnderCurve(nnoderesp1, dt)\n",
    "ntotnoderesp2 = sna.AreaUnderCurve(nnoderesp2, dt)\n",
    "ntotnoderesp3 = sna.AreaUnderCurve(nnoderesp3, dt)\n"
   ]
  },
  {
   "cell_type": "code",
   "execution_count": 66,
   "metadata": {},
   "outputs": [
    {
     "data": {
      "text/plain": [
       "<matplotlib.colorbar.Colorbar at 0x7fb497d01700>"
      ]
     },
     "execution_count": 66,
     "metadata": {},
     "output_type": "execute_result"
    },
    {
     "data": {
      "image/png": "[encoded data removed]",
      "text/plain": [
       "<Figure size 460.8x345.6 with 2 Axes>"
      ]
     },
     "metadata": {},
     "output_type": "display_data"
    }
   ],
   "source": [
    "plt.figure()\n",
    "plt.imshow(noderesp3.T, vmin=0, aspect='auto', cmap='Reds')\n",
    "plt.clim(0,1)\n",
    "plt.colorbar()"
   ]
  },
  {
   "cell_type": "code",
   "execution_count": 80,
   "metadata": {},
   "outputs": [
    {
     "data": {
      "image/png": "[encoded data removed]",
      "text/plain": [
       "<Figure size 460.8x345.6 with 1 Axes>"
      ]
     },
     "metadata": {},
     "output_type": "display_data"
    },
    {
     "data": {
      "image/png": "[encoded data removed]",
      "text/plain": [
       "<Figure size 460.8x345.6 with 1 Axes>"
      ]
     },
     "metadata": {},
     "output_type": "display_data"
    }
   ],
   "source": [
    "idxmin1 = indeg1.argmin();  idxmax1 = indeg1.argmax()\n",
    "idxmin3 = indeg3.argmin();  idxmax3 = indeg3.argmax()\n",
    "\n",
    "plt.figure()\n",
    "plt.plot(tpoints,noderesp1[:,idxmin1], color=cols[0], lw=1);\n",
    "plt.plot(tpoints,noderesp1[:,idxmax1], color=cols[0], lw=1);\n",
    "plt.plot(tpoints,noderesp3[:,idxmin3], color=cols[2], lw=1);\n",
    "plt.plot(tpoints,noderesp3[:,idxmax3], color=cols[2], lw=1);\n",
    "\n",
    "plt.figure()\n",
    "plt.plot(ntpoints,nnoderesp1[:,idxmin1], color=cols[0], lw=1);\n",
    "plt.plot(ntpoints,nnoderesp1[:,idxmax1], color=cols[0], lw=1);\n",
    "plt.plot(ntpoints,nnoderesp3[:,idxmin3], color=cols[2], lw=1);\n",
    "plt.plot(ntpoints,nnoderesp3[:,idxmax3], color=cols[2], lw=1);"
   ]
  },
  {
   "cell_type": "code",
   "execution_count": 74,
   "metadata": {},
   "outputs": [
    {
     "data": {
      "text/plain": [
       "(0, 0)"
      ]
     },
     "execution_count": 74,
     "metadata": {},
     "output_type": "execute_result"
    }
   ],
   "source": [
    "idxmin1, idxmax1\n",
    "idxmin2, idxmax2"
   ]
  },
  {
   "cell_type": "code",
   "execution_count": 83,
   "metadata": {},
   "outputs": [],
   "source": [
    "import galib.metrics_numba \n",
    "\n",
    "dij1 = galib.metrics_numba.FloydWarshall_Numba(net1)\n",
    "dij2 = galib.metrics_numba.FloydWarshall_Numba(net2)\n",
    "dij3 = galib.metrics_numba.FloydWarshall_Numba(net3)\n",
    "avlen1 = (dij1.sum() - dij1.trace()) / (N1*(N1-1))\n",
    "avlen2 = (dij2.sum() - dij2.trace()) / (N1*(N1-1))\n",
    "avlen3 = (dij3.sum() - dij3.trace()) / (N2*(N2-1))\n",
    "\n",
    "\n",
    "ttp1 = sna.Time2Peak(netresp1, dt)\n",
    "ttp2 = sna.Time2Peak(netresp2, dt)\n",
    "ttp3 = sna.Time2Peak(netresp3, dt)\n",
    "avttp1 = (ttp1.sum() - ttp1.trace()) / (N1*(N1-1))\n",
    "avttp2 = (ttp2.sum() - ttp2.trace()) / (N1*(N1-1))\n",
    "avttp3 = (ttp3.sum() - ttp3.trace()) / (N2*(N2-1))\n",
    "\n",
    "nttp1 = sna.Time2Peak(nnetresp1, dt)\n",
    "nttp2 = sna.Time2Peak(nnetresp2, dt)\n",
    "nttp3 = sna.Time2Peak(nnetresp3, dt)\n",
    "navttp1 = (nttp1.sum() - nttp1.trace()) / (N1*(N1-1))\n",
    "navttp2 = (nttp2.sum() - nttp2.trace()) / (N1*(N1-1))\n",
    "navttp3 = (nttp3.sum() - nttp3.trace()) / (N2*(N2-1))\n",
    "\n"
   ]
  },
  {
   "cell_type": "code",
   "execution_count": 85,
   "metadata": {},
   "outputs": [
    {
     "name": "stdout",
     "output_type": "stream",
     "text": [
      "2.3971859296482414 5.477386934673367 2.085498997995992\n",
      "0.2261233668341709 0.4179396984924623 0.05964729458917836\n",
      "0.2916236180904523 0.8357788944723616 0.26639643286573156\n"
     ]
    }
   ],
   "source": [
    "print( avlen1, avlen2, avlen3 )\n",
    "\n",
    "print( avttp1, avttp2, avttp3 )\n",
    "print( navttp1, navttp2, navttp3 )"
   ]
  },
  {
   "cell_type": "code",
   "execution_count": null,
   "metadata": {},
   "outputs": [],
   "source": [
    "plt.figure()\n",
    "plt.plot((avlen1, avlen2, avlen3), '.-')\n",
    "\n",
    "plt.figure()\n",
    "plt.plot((avttp1, avttp2, avttp3), '.-')\n"
   ]
  },
  {
   "cell_type": "code",
   "execution_count": null,
   "metadata": {},
   "outputs": [],
   "source": []
  },
  {
   "cell_type": "code",
   "execution_count": null,
   "metadata": {},
   "outputs": [],
   "source": []
  },
  {
   "cell_type": "code",
   "execution_count": null,
   "metadata": {},
   "outputs": [],
   "source": []
  },
  {
   "cell_type": "code",
   "execution_count": null,
   "metadata": {},
   "outputs": [],
   "source": []
  },
  {
   "cell_type": "code",
   "execution_count": null,
   "metadata": {},
   "outputs": [],
   "source": [
    "# Plot the (input) degree - node response relations\n",
    "plt.figure()\n",
    "ax = plt.axes()\n",
    "ax.spines[['top','right']].set_visible(False)\n",
    "\n",
    "plt.scatter(indeg1, totnoderesp1, c=cols[0], label='small - sparse')\n",
    "plt.scatter(indeg2, totnoderesp2, c=cols[1], label='small - dense')\n",
    "plt.scatter(indeg3, totnoderesp3, c=cols[2], label='large - sparse')\n",
    "plt.scatter(indeg4, totnoderesp4, c=cols[3], label='large - dense')\n",
    "\n",
    "plt.ylim(-0.01,0.52)\n",
    "plt.tick_params( labelsize=14 )\n",
    "plt.xlabel( 'Node (in-)Degree ', fontsize=16 )\n",
    "plt.ylabel( 'Node (in-)Responses', fontsize=16 )\n",
    "\n",
    "plt.legend( frameon=False, fontsize=12 )\n",
    "plt.tight_layout()\n"
   ]
  },
  {
   "cell_type": "markdown",
   "metadata": {},
   "source": [
    "Short description here."
   ]
  },
  {
   "cell_type": "code",
   "execution_count": null,
   "metadata": {},
   "outputs": [],
   "source": []
  },
  {
   "cell_type": "markdown",
   "metadata": {},
   "source": [
    "<br>\n",
    "\n",
    "## 2. Network properties after normalization\n",
    "\n",
    "Brief explanation of normalization by λmax."
   ]
  },
  {
   "cell_type": "code",
   "execution_count": null,
   "metadata": {},
   "outputs": [],
   "source": [
    "# Compare the (input) degrees to the node responses\n",
    "nnoderesp1 = sna.NodeResponses(nnetresp1)[0]\n",
    "nnoderesp2 = sna.NodeResponses(nnetresp2)[0]\n",
    "nnoderesp3 = sna.NodeResponses(nnetresp3)[0]\n",
    "nnoderesp4 = sna.NodeResponses(nnetresp4)[0]\n",
    "\n",
    "# Integrate the response of every node over time\n",
    "ntotnoderesp1 = sna.AreaUnderCurve(nnoderesp1, dt)\n",
    "ntotnoderesp2 = sna.AreaUnderCurve(nnoderesp2, dt)\n",
    "ntotnoderesp3 = sna.AreaUnderCurve(nnoderesp3, dt)\n",
    "ntotnoderesp4 = sna.AreaUnderCurve(nnoderesp4, dt)\n"
   ]
  },
  {
   "cell_type": "code",
   "execution_count": null,
   "metadata": {},
   "outputs": [],
   "source": [
    "# Plot the (input) degree - node response relations\n",
    "plt.figure()\n",
    "ax = plt.axes()\n",
    "ax.spines[['top','right']].set_visible(False)\n",
    "\n",
    "maxylim = max( ntotnoderesp1.max(),ntotnoderesp2.max(),ntotnoderesp3.max(),ntotnoderesp4.max() )\n",
    "\n",
    "plt.scatter(indeg1, ntotnoderesp1, c=cols[0], label='small - sparse')\n",
    "plt.scatter(indeg2, ntotnoderesp2, c=cols[1], label='small - dense')\n",
    "plt.scatter(indeg3, ntotnoderesp3, c=cols[2], label='large - sparse')\n",
    "plt.scatter(indeg4, ntotnoderesp4, c=cols[3], label='large - dense')\n",
    "\n",
    "plt.ylim(-0.02*maxylim, 1.05*maxylim)\n",
    "plt.tick_params( labelsize=14 )\n",
    "plt.xlabel( 'Node (in-)Degree ', fontsize=16 )\n",
    "plt.ylabel( 'Node (in-)Responses', fontsize=16 )\n",
    "\n",
    "plt.legend( frameon=False, fontsize=12 )\n",
    "plt.tight_layout()\n"
   ]
  },
  {
   "cell_type": "code",
   "execution_count": null,
   "metadata": {},
   "outputs": [],
   "source": []
  },
  {
   "cell_type": "code",
   "execution_count": null,
   "metadata": {},
   "outputs": [],
   "source": []
  },
  {
   "cell_type": "code",
   "execution_count": null,
   "metadata": {},
   "outputs": [],
   "source": []
  },
  {
   "cell_type": "code",
   "execution_count": null,
   "metadata": {},
   "outputs": [],
   "source": []
  },
  {
   "cell_type": "code",
   "execution_count": null,
   "metadata": {},
   "outputs": [],
   "source": []
  },
  {
   "cell_type": "markdown",
   "metadata": {},
   "source": [
    "<br>\n",
    "\n",
    "## 3. Comparison across graph models\n",
    "\n",
    "Use precomputed results for Random, Lattice and ScaleFree to plot:\n",
    "\n",
    "- Figure-1: GlobalResp of the three models withouth normalization.\n",
    "- Figure-2: GlobalResp of the three models, after evmax normalization.\n",
    "- Maybe show the node-wise responses as \"imshow\" ?"
   ]
  },
  {
   "cell_type": "code",
   "execution_count": null,
   "metadata": {},
   "outputs": [],
   "source": []
  },
  {
   "cell_type": "code",
   "execution_count": null,
   "metadata": {},
   "outputs": [],
   "source": [
    "# Generate three graphs, of different class, size and density\n",
    "net_ran = galib.models.RandomGraph(N1,L1s).astype(float64)\n",
    "net_lat = galib.models.Lattice1D(N1,z1d).astype(float64)\n",
    "net_sfr = galib.models.ScaleFreeGraph(N2,L2s)\n"
   ]
  },
  {
   "cell_type": "code",
   "execution_count": null,
   "metadata": {},
   "outputs": [],
   "source": [
    "# Compute the eigenvalues of the three networks\n",
    "evs_ran = numpy.linalg.eigvals(net_ran)\n",
    "evs_lat = numpy.linalg.eigvals(net_lat)\n",
    "evs_sfr = numpy.linalg.eigvals(net_sfr)\n",
    "\n",
    "# Find the largest eigenvalues, and the corresponding critical τ for each network\n",
    "evmax_ran = SpectralRadius(evs_ran); taumax_ran = 1.0 / evmax_ran\n",
    "evmax_lat = SpectralRadius(evs_lat); taumax_lat = 1.0 / evmax_lat\n",
    "evmax_sfr = SpectralRadius(evs_sfr); taumax_sfr = 1.0 / evmax_sfr\n",
    "\n",
    "# Print some feedback: spectral radius and corresponding critical 'tau's\n",
    "print( 'BEFORE NOREMALIZATION ...')\n",
    "print( '\\tSpectral radius\\t\\tLargest tau' )\n",
    "print( 'net ran:   %3.5f\\t\\t%2.5f'  %(evmax_ran, taumax_ran) )\n",
    "print( 'net lat:   %3.5f\\t\\t%2.5f'  %(evmax_lat, taumax_lat) )\n",
    "print( 'net sfr:   %3.5f\\t\\t%2.5f'  %(evmax_sfr, taumax_sfr) )\n",
    "\n",
    "\n",
    "\n",
    "# Normalize the three networks by their corresponding spectral radius\n",
    "nnet_ran = net_ran / evmax_ran\n",
    "nnet_lat = net_lat / evmax_lat\n",
    "nnet_sfr = net_sfr / evmax_sfr\n",
    "\n",
    "# Compute the eigenvalues of the normalised networks\n",
    "nevs_ran = numpy.linalg.eigvals(nnet_ran)\n",
    "nevs_lat = numpy.linalg.eigvals(nnet_lat)\n",
    "nevs_sfr = numpy.linalg.eigvals(nnet_sfr)\n",
    "\n",
    "# Find the largest eigenvalues, and the corresponding critical τ for each network\n",
    "nevmax_ran = SpectralRadius(nevs_ran); ntaumax_ran = 1.0 / nevmax_ran\n",
    "nevmax_lat = SpectralRadius(nevs_lat); ntaumax_lat = 1.0 / nevmax_lat\n",
    "nevmax_sfr = SpectralRadius(nevs_sfr); ntaumax_sfr = 1.0 / nevmax_sfr\n",
    "\n",
    "# Print some feedback: spectral radius and corresponding critical 'tau's\n",
    "print( '\\nAFTER NORMALIZATION ...')\n",
    "print( '\\tSpectral radius\\t\\tLargest tau' )\n",
    "print( 'net ran:   %3.5f\\t\\t%2.5f'  %(nevmax_ran, ntaumax_ran) )\n",
    "print( 'net lat:   %3.5f\\t\\t%2.5f'  %(nevmax_lat, ntaumax_lat) )\n",
    "print( 'net sfr:   %3.5f\\t\\t%2.5f'  %(nevmax_sfr, ntaumax_sfr) )\n"
   ]
  },
  {
   "cell_type": "code",
   "execution_count": null,
   "metadata": {},
   "outputs": [],
   "source": [
    "# Plot the eigenvalues of the normalized graphs\n",
    "plt.figure()\n",
    "ax1 = plt.subplotaxes()\n",
    "ax.spines[['left','top','right']].set_visible(False)\n",
    "ax.get_yaxis().set_visible(False)\n",
    "\n",
    "plt.scatter(nevs1.real, 0.01 + nevs1.imag, c=cols[0], label='small / sparse')\n",
    "plt.scatter(nevs2.real, 0.02 + nevs2.imag, c=cols[1], label='small / dense')\n",
    "plt.scatter(nevs3.real, 0.03 + nevs3.imag, c=cols[2], label='large / sparse')\n",
    "plt.scatter(nevs4.real, 0.04 + nevs4.imag, c=cols[3], label='large / dense')\n",
    "\n",
    "plt.scatter(nevmax1, 0.01, marker='x', s=100, lw=3, c=cols[0])\n",
    "plt.scatter(nevmax2, 0.02, marker='x', s=100, lw=3, c=cols[1])\n",
    "plt.scatter(nevmax3, 0.03, marker='x', s=100, lw=3, c=cols[2])\n",
    "plt.scatter(nevmax4, 0.04, marker='x', s=100, lw=3, c=cols[3])\n",
    "\n",
    "plt.ylim(0.005,0.045)\n",
    "plt.tick_params( labelsize=16 )\n",
    "\n",
    "#plt.legend(frameon=False, loc='lower right', fontsize=12)\n",
    "plt.tight_layout()\n",
    "\n"
   ]
  },
  {
   "cell_type": "code",
   "execution_count": null,
   "metadata": {},
   "outputs": [],
   "source": [
    "# COMPUTE THE DYNAMIC COMMUNICABILITY AND CALCULATE SOME PROPERTIES\n",
    "# 1.1) Define the simulation parameters\n",
    "# Define the temporal resolution\n",
    "ntfinal = 12.0\n",
    "ndt = 0.05\n",
    "ntpoints = arange(0.0, ntfinal+0.1*ndt, ndt)\n",
    "#nnsteps = len(ntpoints)\n",
    "\n",
    "# Set the decay time-constants τ, proportional to taumax\n",
    "# After normalization all taumax = 1.0, hence, we only need one value for\n",
    "# all four networks.\n",
    "ntau = 0.8\n",
    "\n",
    "# Define the inputs to every node\n",
    "stim = 1.0\n"
   ]
  },
  {
   "cell_type": "code",
   "execution_count": null,
   "metadata": {},
   "outputs": [],
   "source": [
    "# Calculate the evolution of communicability over time for the nets\n",
    "print('\\nCalculating the dynamic communicability tensors from t=0 to t=%3.1f, with step=%3.3f ...' %(ntfinal, ndt) )\n",
    "time1 = timer()\n",
    "nnetresp1 = sna.Resp_LC(nnet1.T, tau=ntau, S0=stim, tmax=ntfinal, timestep=ndt, case='regressed')\n",
    "nnetresp2 = sna.Resp_LC(nnet2.T, tau=ntau, S0=stim, tmax=ntfinal, timestep=ndt, case='regressed')\n",
    "nnetresp3 = sna.Resp_LC(nnet3.T, tau=ntau, S0=stim, tmax=ntfinal, timestep=ndt, case='regressed')\n",
    "nnetresp4 = sna.Resp_LC(nnet4.T, tau=ntau, S0=stim, tmax=ntfinal, timestep=ndt, case='regressed')\n",
    "time2 = timer()\n",
    "print( time2 - time1, 'seconds' )\n"
   ]
  },
  {
   "cell_type": "code",
   "execution_count": null,
   "metadata": {},
   "outputs": [],
   "source": [
    "# 1.4) Compute the global network responses\n",
    "# Sum of all pair-wise responses, at every time-point\n",
    "nglobalresp1 = sna.GlobalResponse(nnetresp1)\n",
    "nglobalresp2 = sna.GlobalResponse(nnetresp2)\n",
    "nglobalresp3 = sna.GlobalResponse(nnetresp3)\n",
    "nglobalresp4 = sna.GlobalResponse(nnetresp4)\n"
   ]
  },
  {
   "cell_type": "code",
   "execution_count": null,
   "metadata": {},
   "outputs": [],
   "source": [
    "# Plot the global network responses\n",
    "plt.figure()\n",
    "ax = plt.axes()\n",
    "ax.spines[['top','right']].set_visible(False)\n",
    "\n",
    "plt.plot(ntpoints, nglobalresp2, lw=3, c=cols[1],           label='small / dense')\n",
    "plt.plot(ntpoints, nglobalresp1, lw=3, c=cols[0], ls='--',  label='small / sparse')\n",
    "plt.plot(ntpoints, nglobalresp4, lw=3, c=cols[3],           label='large / dense')\n",
    "plt.plot(ntpoints, nglobalresp3, lw=3, c=cols[2], ls='--',  label='large / sparse')\n",
    "\n",
    "plt.ylim(-5,310)\n",
    "plt.tick_params( labelsize=14 )\n",
    "plt.xlabel('Time (a.u.)', fontsize=16)\n",
    "plt.ylabel('Global Netw. Response, $r(t)$', fontsize=16)\n",
    "\n",
    "plt.legend(frameon=False, fontsize=12)\n",
    "plt.tight_layout()\n"
   ]
  },
  {
   "cell_type": "code",
   "execution_count": null,
   "metadata": {},
   "outputs": [],
   "source": [
    "# Compare the (input) degrees to the node responses\n",
    "nnoderesp1 = sna.NodeResponses(nnetresp1)[0]\n",
    "nnoderesp2 = sna.NodeResponses(nnetresp2)[0]\n",
    "nnoderesp3 = sna.NodeResponses(nnetresp3)[0]\n",
    "nnoderesp4 = sna.NodeResponses(nnetresp4)[0]\n",
    "\n",
    "# Integrate the response of every node over time\n",
    "ntotnoderesp1 = sna.AreaUnderCurve(nnoderesp1, dt)\n",
    "ntotnoderesp2 = sna.AreaUnderCurve(nnoderesp2, dt)\n",
    "ntotnoderesp3 = sna.AreaUnderCurve(nnoderesp3, dt)\n",
    "ntotnoderesp4 = sna.AreaUnderCurve(nnoderesp4, dt)\n"
   ]
  },
  {
   "cell_type": "code",
   "execution_count": null,
   "metadata": {},
   "outputs": [],
   "source": [
    "# Plot the (input) degree - node response relations\n",
    "plt.figure()\n",
    "ax = plt.axes()\n",
    "ax.spines[['top','right']].set_visible(False)\n",
    "\n",
    "maxylim = max( ntotnoderesp1.max(),ntotnoderesp2.max(),ntotnoderesp3.max(),ntotnoderesp4.max() )\n",
    "\n",
    "plt.scatter(indeg1, ntotnoderesp1, c=cols[0], label='small - sparse')\n",
    "plt.scatter(indeg2, ntotnoderesp2, c=cols[1], label='small - dense')\n",
    "plt.scatter(indeg3, ntotnoderesp3, c=cols[2], label='large - sparse')\n",
    "plt.scatter(indeg4, ntotnoderesp4, c=cols[3], label='large - dense')\n",
    "\n",
    "plt.ylim(-0.02*maxylim, 1.05*maxylim)\n",
    "plt.tick_params( labelsize=14 )\n",
    "plt.xlabel( 'Node (in-)Degree ', fontsize=16 )\n",
    "plt.ylabel( 'Node (in-)Responses', fontsize=16 )\n",
    "\n",
    "plt.legend( frameon=False, fontsize=12 )\n",
    "plt.tight_layout()\n"
   ]
  },
  {
   "cell_type": "code",
   "execution_count": null,
   "metadata": {},
   "outputs": [],
   "source": [
    "# Generate three graphs of different class and different size / density\n",
    "net_ran = galib.models.RandomGraph(N1,L1s).astype(float64)\n",
    "net_lat = galib.models.Lattice1D(N1,z1d).astype(float64)\n",
    "net_sfr = galib.models.ScaleFreeGraph(N2,L2s).astype(float64)\n"
   ]
  }
 ],
 "metadata": {
  "kernelspec": {
   "display_name": "Python 3 (ipykernel)",
   "language": "python",
   "name": "python3"
  },
  "language_info": {
   "codemirror_mode": {
    "name": "ipython",
    "version": 3
   },
   "file_extension": ".py",
   "mimetype": "text/x-python",
   "name": "python",
   "nbconvert_exporter": "python",
   "pygments_lexer": "ipython3",
   "version": "3.9.12"
  }
 },
 "nbformat": 4,
 "nbformat_minor": 4
}
