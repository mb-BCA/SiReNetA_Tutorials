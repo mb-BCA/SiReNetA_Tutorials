{
 "cells": [
  {
   "cell_type": "markdown",
   "metadata": {},
   "source": [
    "# 4. Comparing Canonical Models\n",
    "\n",
    "Authors: **Gorka Zamora-López** and **Matthieu Gilson**\n",
    "\n",
    "---------------------\n",
    "\n",
    "This notebook is part of an introductory tutorial for the use of *Stimulus-Response Network Analysis (SiReNetA)* to study the structure of complex networks:\n",
    "1. *[Getting Started and Overview](1_GettingStarted.ipynb)*\n",
    "2. *[Response to Stimulus](2_Basics_StimResp.ipynb)*\n",
    "3. *[Extracting Metrics](3_Basics_ExtractMetrics.ipynb)*\n",
    "4. **[Canonical Models](4_Basics_CanonMods.ipynb)**\n",
    "5. *[Comparing Networks](5_UseCase_CompareNets.ipynb)*\n",
    "6. *[Network Distance](6_UseCase_NetDist.ipynb)*\n",
    "7. *[Weighted Networks](7_UseCase_WeighteNets.ipynb)* \n",
    "\n",
    "---------------------\n",
    "\n",
    "### Outline and functions used in this notebook\n",
    "* Compare the responses for different propagation models with the same binary network.\n",
    "* Reproduce Fig 2 of [Zamora-López and Gilson (2024) Chaos](https://doi.org/10.1063/5.0202241)\n",
    "* `Resp_DiscreteCascade` = `Resp_DC`\n",
    "* `Resp_RandomWalk` = `Resp_RW`\n",
    "* `Resp_ContCascade` = `Resp_CC`\n",
    "* `Resp_LeakyCascade` = `Resp_LC`\n",
    "* `Resp_ContDiffusion` = `Resp_CD`\n",
    "\n",
    "---------------------"
   ]
  },
  {
   "cell_type": "markdown",
   "metadata": {},
   "source": [
    "#### Import libraries\n",
    "\n",
    "To get started, the first thing we need is to load the libraries we will need to work."
   ]
  },
  {
   "cell_type": "code",
   "execution_count": null,
   "metadata": {},
   "outputs": [],
   "source": [
    "# Python standard library imports\n",
    "# Third party imports\n",
    "import matplotlib.pyplot as plt\n",
    "%matplotlib inline\n",
    "import numpy as np\n",
    "\n",
    "# import \n",
    "import sireneta as sna"
   ]
  },
  {
   "cell_type": "markdown",
   "metadata": {},
   "source": [
    "## 0. Mathematical description of the propagation models\n",
    "\n",
    "In all that follows, $A$ is the connectivity matrix, which is undirected binary graph here although this can be relaxed (see Notebook 7).\n",
    "\n",
    "### Discrete Cascade\n",
    "\n",
    "$ R^t = A^t $\n",
    "\n",
    "### Random Walk\n",
    "\n",
    "$ R^t = A^t $ with the Laplacian $L = A - D$ with $D$ the diagonal matrix with the corresponding degrees of nodes in $A$.\n",
    "\n",
    "### Continuous Cascade\n",
    "\n",
    "$ R(t) = e^{A t} $ defined using the matrix exponential.\n",
    "\n",
    "### Continuous Leaky Cascade\n",
    "\n",
    "$ R(t) = e^{J t} - e^{J^0 t} $ with $J^0 = \\frac{1}{\\tau} I$ being a diagonal matrix and the Jacobian $J = J^0 + A$. The role of the leakage time-constant $\\tau$ is to control the rate of leakage through the nodes, thus counter-balancing the tendency of the linear connectivity to cause the divergence of the system.\n",
    "\n",
    "### Continuous Diffusion\n",
    "\n",
    "$ R(t) = e^{L t} $ with the same Laplacian as above.\n",
    "\n",
    "    "
   ]
  },
  {
   "cell_type": "markdown",
   "metadata": {},
   "source": [
    "## 1. Comparison of network responses for the 5 propagation models above for an example network\n",
    "\n",
    "We will\n",
    "* load an example network\n",
    "* compute the network response for the propagation models\n",
    "* compare their temporal evolution, in terms of global response and node responses"
   ]
  },
  {
   "cell_type": "code",
   "execution_count": null,
   "metadata": {},
   "outputs": [],
   "source": [
    "# Load a small network (binary or unweighted)\n",
    "net = np.loadtxt('../Data/Testnet_N8.txt', dtype=int)\n",
    "N = len(net)\n",
    "\n",
    "print(net)"
   ]
  },
  {
   "cell_type": "code",
   "execution_count": null,
   "metadata": {},
   "outputs": [],
   "source": [
    "# normalize connectivity with respect to largest eigenvalue\n",
    "lambda_max = np.real(np.linalg.eigvals(net)).max()\n",
    "net_norm = net / lambda_max\n",
    "\n",
    "# time specifics\n",
    "dt = 0.1\n",
    "T = 20.1\n",
    "td = np.arange(0,T, dtype=int)\n",
    "tc = np.arange(0,T,dt)\n",
    "nT = td.size\n",
    "\n",
    "rdc = sna.Resp_DiscreteCascade(net, tmax=20)\n",
    "rrw = sna.Resp_RandomWalk(net, tmax=20)\n",
    "rcc = sna.Resp_ContCascade(net, tmax=20, timestep=dt)\n",
    "rlc = sna.Resp_LeakyCascade(net_norm, tau=0.8, tmax=20, timestep=dt)\n",
    "rcd = sna.Resp_ContDiffusion(net, tmax=20, timestep=dt, case='full')\n",
    "\n",
    "# list of responses\n",
    "ts = [td, td, tc, tc, tc]\n",
    "rs = [rdc, rrw, rcc, rlc, rcd]\n",
    "labels = ['dc', 'rw', 'cc', 'lc', 'cd']\n",
    "n_pm = 5\n",
    "\n",
    "# match discrete continuous times\n",
    "tdt = []\n",
    "for t in td:\n",
    "    # equivalent continuous time\n",
    "    tdt.append(int(t/dt))"
   ]
  },
  {
   "cell_type": "code",
   "execution_count": null,
   "metadata": {},
   "outputs": [],
   "source": [
    "plt.figure()\n",
    "plt.subplot(211)\n",
    "for i in range(0,3):\n",
    "    plt.plot(ts[i], sna.GlobalResponse(rs[i]), label=labels[i])\n",
    "plt.axis(ymin=0, ymax=100)\n",
    "plt.legend(fontsize=10)\n",
    "plt.subplot(212)\n",
    "for i in range(3,5):\n",
    "    plt.plot(ts[i], sna.GlobalResponse(rs[i]), label=labels[i])\n",
    "plt.legend(fontsize=10)\n",
    "plt.show()"
   ]
  },
  {
   "cell_type": "code",
   "execution_count": null,
   "metadata": {},
   "outputs": [],
   "source": [
    "# calculate the node responses\n",
    "inrs = []\n",
    "onrs = []\n",
    "for i in range(n_pm):\n",
    "    inrs.append(sna.NodeResponses(rs[i])[0])\n",
    "    onrs.append(sna.NodeResponses(rs[i])[1])\n",
    "\n",
    "aspects = [0.5, 0.5, 5.0, 5.0, 5.0]"
   ]
  },
  {
   "cell_type": "code",
   "execution_count": null,
   "metadata": {},
   "outputs": [],
   "source": [
    "# plot the node responses as curves\n",
    "\n",
    "plt.figure(figsize=[10,10])\n",
    "for i in range(n_pm):\n",
    "    plt.subplot(n_pm,1,i+1)\n",
    "    plt.plot(ts[i], inrs[i])\n",
    "    plt.title(labels[i])\n",
    "plt.tight_layout()\n",
    "plt.show()"
   ]
  },
  {
   "cell_type": "code",
   "execution_count": null,
   "metadata": {},
   "outputs": [],
   "source": [
    "#8 plot the node responses as carpet plots\n",
    "\n",
    "plt.figure(figsize=[10,10])\n",
    "for i in range(n_pm):\n",
    "    plt.subplot(n_pm,1,i+1)\n",
    "    plt.imshow(inrs[i].T, aspect=aspects[i], interpolation='nearest')\n",
    "    plt.title(labels[i])\n",
    "    plt.colorbar()\n",
    "plt.tight_layout()\n",
    "plt.show()"
   ]
  }
 ],
 "metadata": {
  "kernelspec": {
   "display_name": "Python 3 (ipykernel)",
   "language": "python",
   "name": "python3"
  },
  "language_info": {
   "codemirror_mode": {
    "name": "ipython",
    "version": 3
   },
   "file_extension": ".py",
   "mimetype": "text/x-python",
   "name": "python",
   "nbconvert_exporter": "python",
   "pygments_lexer": "ipython3",
   "version": "3.11.7"
  }
 },
 "nbformat": 4,
 "nbformat_minor": 4
}
