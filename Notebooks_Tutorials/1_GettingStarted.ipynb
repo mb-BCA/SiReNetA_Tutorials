{
 "cells": [
  {
   "cell_type": "markdown",
   "metadata": {},
   "source": [
    "# Getting Started with SiReNetA and Overview\n",
    "\n",
    "Authors: **Gorka Zamora-López** and **Matthieu Gilson**\n",
    "\n",
    "---------------------\n",
    "\n",
    "This notebook is part of an introductory tutorial for the use of *Stimulus-Response Network Analysis* ([SiReNetA](https://github.com/mb-BCA/SiReNetA)) to study the structure of complex networks:\n",
    "1. **[Getting Started and Overview](1_GettingStarted.ipynb)**\n",
    "2. *[Calculating Response to Stimulus and Metrics](2_Basics_StimRespMetrics.ipynb)*\n",
    "3. *[Canonical Models](3_Basics_CanonMods.ipynb)*\n",
    "4. *[Comparing Networks](4_UseCase_CompareNets.ipynb)*\n",
    "5. *[Network Distance](5_UseCase_NetDist.ipynb)*\n",
    "6. *[Weighted Networks](6_UseCase_WeighteNets.ipynb)* \n",
    "\n",
    "---------------------\n",
    "\n",
    "### Outline\n",
    "* Installation of the *SiReNetA* library.\n",
    "* Familiarization with the library and getting information.exa\n",
    "* Use case to analyze an example undirected network.\n",
    "\n",
    "---------------------"
   ]
  },
  {
   "cell_type": "markdown",
   "metadata": {},
   "source": [
    "## 1. Installing the *SiReNetA* library and dependencies\n",
    "\n",
    "*SiReNetA* is built upon the array object definition of [NumPy](https://numpy.org) and it uses functions from the [SciPy](https://scipy.org) library. Running these tutorials also requires [Matplotlib](https://matplotlib.org) for plotting and visualization purposes. The installation of *SiReNetA* will check for the presence of these libraries and install them if not available, see the file 'requirements.txt' in [SiReNetA](https://github.com/mb-BCA/SiReNetA).\n",
    "\n",
    "Some notebooks also require the library [GAlib](https://github.com/gorkazl/pyGAlib) for graph generation, manipulation and analysis in the context of classic graph theory.\n",
    "\n",
    "To get started, the first thing we need is to load the libraries we will need to work. Start importing the built-in and third party libraries.\n",
    "\n",
    "The following cell checks whether *SiReNetA* is already installed (in the same Python environment in which this notebook is running) and otherwise, the library will be installed using Python package installer [pip](https://pypi.org/project/pip/). \n",
    "\n",
    ">**Note**: the exclamation mark ( ! ) before `pip install galib` indicates the Jupyter notebook to run the line of code as a system command, same as if we would run it from a terminal window."
   ]
  },
  {
   "cell_type": "code",
   "execution_count": null,
   "metadata": {},
   "outputs": [],
   "source": [
    "# Check SiReNetA is installed in the current Python environment, otherwise install (NOTE that you can also create a dedicated python environment to install SiReNetA)\n",
    "\n",
    "try:\n",
    "    import sireneta\n",
    "except:\n",
    "    # Install from the GitHub repository\n",
    "    print('Installing SiReNetA from GitHub ...')\n",
    "    ! pip install git+https://github.com/mb-BCA/SiReNetA.git@master\n",
    "\n",
    "# Make sure the library is properly installed by importing it\n",
    "import sireneta as sna"
   ]
  },
  {
   "cell_type": "markdown",
   "metadata": {},
   "source": [
    "## 2. Getting familiarised \n",
    "\n",
    "Information about the library, its modules and functions is found 'online' as usual. Type `help(module_name)` or `module_name?` in a cell of the notebook (or in an IPython interactive window) to access the corresponding information (docstrings).\n",
    "\n",
    "Run the following cell to see the general overview of *SiReNetA*."
   ]
  },
  {
   "cell_type": "code",
   "execution_count": null,
   "metadata": {},
   "outputs": [],
   "source": [
    "# See the general description of sireneta library \n",
    "sna?"
   ]
  },
  {
   "cell_type": "markdown",
   "metadata": {},
   "source": [
    "As seen, the library is organised into four user modules:\n",
    "\n",
    "- responses.py\n",
    "- metrics.py\n",
    "- simulate.py\n",
    "- tools.py\n",
    "\n",
    "Run the following cell (uncommenting lines one-by-one) to see the description and a list of functions accessible in each module."
   ]
  },
  {
   "cell_type": "code",
   "execution_count": null,
   "metadata": {},
   "outputs": [],
   "source": [
    "## Explore the help functions of SiReNetA\n",
    "\n",
    "#sna.responses?\n",
    "#sna.metrics?\n",
    "#sna.simulate?\n",
    "#sna.tools?"
   ]
  },
  {
   "cell_type": "markdown",
   "metadata": {},
   "source": [
    "Finally, check the description of individual functions, the expected parameters and their outputs. For example:"
   ]
  },
  {
   "cell_type": "code",
   "execution_count": null,
   "metadata": {},
   "outputs": [],
   "source": [
    "#sna.responses.TransitionMatrix?\n",
    "sna.responses.Resp_DiscreteCascade?\n",
    "#sna.responses.Resp_LeakyCascade?\n",
    "#sna.metrics.GlobalResponse?\n",
    "#sna.metrics.TimeToPeak?\n",
    "#sna.simulate.RandomWalk?\n"
   ]
  },
  {
   "cell_type": "markdown",
   "metadata": {},
   "source": [
    "## 3. Example Analysis of a Network Stimulus-Response\n",
    "\n",
    "The core idea behind *SiReNetA* is to reveal the properties of networks by probing how the nodes of a network respond localised perturbations. That is, to apply a stimulus of unit amplitude to one node and observe how the other nodes respond over time. The manner in which the stimulus propagates throughout the network depends on the dynamical propagation dynamical model selected. Network metrics are then extracted out of the pair-wise, node-wise or global responses, depending on whether nodes are stimulated individually or jointly.\n",
    "\n",
    "For illustration, we will load the small graph (binary and undirected) depicted below and visualise the network response at various levels for the leaky (continuous) cascade propagation model. For this model, the time to peak provides an approximation for the geodesic distance [Zamora-López and Gilson](https://doi.org/10.1063/5.0202241).\n",
    "\n",
    "> **Note**: Some comments are provided below to understand the figures in the following, but the reader is referred to the following notebooks for further details about how to use the functionalities of SiReNetA.\n",
    "\n",
    "\n",
    "![Sample Graph, n=8 nodes](#)\n",
    "\n"
   ]
  },
  {
   "cell_type": "code",
   "execution_count": null,
   "metadata": {},
   "outputs": [],
   "source": [
    "# Python standard / third-party library imports\n",
    "\n",
    "import matplotlib.pyplot as plt\n",
    "%matplotlib inline\n",
    "import numpy as np"
   ]
  },
  {
   "cell_type": "markdown",
   "metadata": {},
   "source": [
    "We consider the network determined by the following binary matrix."
   ]
  },
  {
   "cell_type": "code",
   "execution_count": null,
   "metadata": {},
   "outputs": [],
   "source": [
    "# Load a small network (binary or unweighted)\n",
    "net = np.loadtxt('../Data/Testnet_N8.txt', dtype=int)\n",
    "N = len(net)\n",
    "\n",
    "print(net)"
   ]
  },
  {
   "cell_type": "code",
   "execution_count": null,
   "metadata": {},
   "outputs": [],
   "source": [
    "plt.figure()\n",
    "plt.title('Connectivity matrix')\n",
    "plt.imshow(net, cmap='gray_r')\n",
    "plt.clim(0,net.max())\n",
    "plt.colorbar()\n",
    "plt.xlabel('node index')\n",
    "plt.ylabel('node index')\n",
    "plt.tight_layout()\n",
    "plt.show()"
   ]
  },
  {
   "cell_type": "markdown",
   "metadata": {},
   "source": [
    "Now choosing a propagation model"
   ]
  },
  {
   "cell_type": "code",
   "execution_count": null,
   "metadata": {},
   "outputs": [],
   "source": [
    "# Check the spectral radius and the largest time constant for the leaky cascade propagation model\n",
    "evs = np.linalg.eigvals(net)\n",
    "evsnorms = np.zeros(N, float)\n",
    "for i in range(N):\n",
    "    evsnorms[i] = np.linalg.norm(evs[i])\n",
    "evmax = evsnorms.max()\n",
    "taumax = 1.0/evmax\n",
    "\n",
    "print( 'Spectral radius:\\t%2.5f' %evmax )\n",
    "print( 'Largest possible tau:\\t%2.5f' %taumax )"
   ]
  },
  {
   "cell_type": "code",
   "execution_count": null,
   "metadata": {},
   "outputs": [],
   "source": [
    "# Set a leakage time-constant\n",
    "tau = 0.8 * taumax\n",
    "\n",
    "# Define the temporal resolution for the \"simulation\"\n",
    "tfinal = 10\n",
    "dt = 0.01\n",
    "tpoints = np.arange(0.0, tfinal+dt, dt)\n",
    "nsteps = len(tpoints)\n",
    "\n",
    "# Calculate the pair-wise responses for a time span between 0 and tmax\n",
    "resps_lc = sna.Resp_LeakyCascade(net, S0=1.0, tau=tau, tmax=tfinal, timestep=dt) "
   ]
  },
  {
   "cell_type": "code",
   "execution_count": null,
   "metadata": {},
   "outputs": [],
   "source": [
    "# Visualise the pair-wise response matrices at times t = 0.1, 0.3, 0.5, 1.0, 2.0, 3.0\n",
    "maxresp = resps_lc.max()\n",
    "\n",
    "tidxlist = [10,20,50,100,200,500]\n",
    "plt.figure(figsize=[12,8])\n",
    "for i, tidx in enumerate(tidxlist):\n",
    "    t = tpoints[tidx]\n",
    "    plt.subplot(2,3,i+1)\n",
    "    plt.title('$\\mathcal{R}(t)$ response matrix at t=%1.1f' %t)\n",
    "    plt.imshow(resps_lc[tidx], cmap='gray_r')\n",
    "    plt.clim(0,maxresp)\n",
    "    plt.colorbar()\n",
    "    plt.xticks(np.arange(N), np.arange(N)+1)\n",
    "    plt.yticks(np.arange(N), np.arange(N)+1)\n",
    "    plt.xlabel('source node')\n",
    "    plt.ylabel('target node')\n",
    "plt.tight_layout()"
   ]
  },
  {
   "cell_type": "markdown",
   "metadata": {},
   "source": [
    "Above the matrices correspond to the response for pairs of source/target nodes at several times. The curves below represent the responses to a stimulation at node 1, for all nodes (including 1). Another representatoion is given below, where each row has been summed and teh resulting value plotted across time: this corresponds to the response felt by each node following the joint stimulation of all nodes.\n",
    "\n",
    "In comparison, the black dashed curve represents the global network response rescaled by the number of weights. This shows how specific nodes differ from global response, being larger or smaller."
   ]
  },
  {
   "cell_type": "code",
   "execution_count": null,
   "metadata": {},
   "outputs": [],
   "source": [
    "# Compute and visualise the node responses\n",
    "inresp, outresp = sna.NodeResponses(resps_lc, selfloops=True)\n",
    "glbresp = sna.GlobalResponse(resps_lc)\n",
    "\n",
    "plt.figure()\n",
    "for i in range(N):\n",
    "    plt.plot(tpoints, inresp[:,i], label='Node %d' %(i+1))\n",
    "plt.plot(tpoints, glbresp / N, label='Global', c='k', ls='--', lw=2)\n",
    "plt.xlabel('Time (a.u.)')\n",
    "plt.ylabel('Input Node Response')\n",
    "plt.legend(frameon=False)\n",
    "plt.tight_layout()"
   ]
  },
  {
   "cell_type": "markdown",
   "metadata": {},
   "source": [
    "We can try to explain these curves, for example by checking whether the degree of the node has an influence on the response cumulated over time, which corresponds to the area under the curve."
   ]
  },
  {
   "cell_type": "code",
   "execution_count": null,
   "metadata": {},
   "outputs": [],
   "source": [
    "# Compare the node response with the degree\n",
    "deg = net.sum(axis=0)\n",
    "\n",
    "noderesp = sna.AreaUnderCurve(inresp, timestep=dt)\n",
    "\n",
    "plt.figure()\n",
    "plt.plot(deg,noderesp, 'o')\n",
    "plt.xlabel('Degree of Node')\n",
    "plt.ylabel('Total Node Response (Area Under Curve)')\n",
    "plt.tight_layout()"
   ]
  },
  {
   "cell_type": "markdown",
   "metadata": {},
   "source": [
    "Now going into the detail of the response to the stimulation of a single node, we can plot the curve corresponding to each matrix element. Below is an exemple for all matrix elements corresponding to the column for source being node 1.\n",
    "\n",
    "Again, we plot as a reference the output node response for node 1 that corresponds to the sum of the response felt by all nodes when stimulating node 1. Here it becomes clearer that some pathways from node 1 to some other nodes are faster or slower than the black dashed reference. This illustrates that the spatio-temporal properties of the response capture the network topological structure."
   ]
  },
  {
   "cell_type": "code",
   "execution_count": null,
   "metadata": {},
   "outputs": [],
   "source": [
    "# Visualise temporal responses of nodes i = 2, 3, ... , 8 to stimulus in j = 1\n",
    "\n",
    "plt.figure()\n",
    "for i in range(N):\n",
    "    plt.plot(tpoints, resps_lc[:,0,i], label='Resp, (Node %d | 1)' %(i+1) )\n",
    "plt.plot(tpoints, outresp[:,1] / N, label='Out Resp Node 1', c='k', ls='--', lw=2)\n",
    "plt.xlabel('Time-step')\n",
    "plt.ylabel('Conditional Response')\n",
    "plt.legend(frameon=False)\n",
    "plt.tight_layout()"
   ]
  },
  {
   "cell_type": "markdown",
   "metadata": {},
   "source": [
    "Following, we can extract the time to peak for each pair of source/target nodes, which we compare to the geodesic distance calculated on the binary graph."
   ]
  },
  {
   "cell_type": "code",
   "execution_count": null,
   "metadata": {},
   "outputs": [],
   "source": [
    "# Compute the classical graph distance\n",
    "import galib\n",
    "dij = galib.FloydWarshall(net)\n",
    "\n",
    "# Compute the time-to-peak distance\n",
    "ttpdist = sna.Time2Peak(resps_lc, timestep=dt)\n",
    "\n",
    "plt.figure(figsize=(10,2.4))\n",
    "# Plot the adjacency matrix\n",
    "plt.subplot(1,3,1)\n",
    "plt.title('Adjacency matrix')\n",
    "plt.imshow(net, cmap='gray_r')\n",
    "plt.colorbar()\n",
    "\n",
    "# Plot the classical graph distance\n",
    "plt.subplot(1,3,2)\n",
    "plt.title('Graph distance')\n",
    "plt.imshow(dij)\n",
    "plt.colorbar()\n",
    "\n",
    "# Plot the time-2-peak distance matrix\n",
    "plt.subplot(1,3,3)\n",
    "plt.title('Time-to-peak distance')\n",
    "plt.imshow(ttpdist)\n",
    "plt.colorbar()\n",
    "\n",
    "plt.tight_layout()"
   ]
  }
 ],
 "metadata": {
  "kernelspec": {
   "display_name": "Python 3 (ipykernel)",
   "language": "python",
   "name": "python3"
  },
  "language_info": {
   "codemirror_mode": {
    "name": "ipython",
    "version": 3
   },
   "file_extension": ".py",
   "mimetype": "text/x-python",
   "name": "python",
   "nbconvert_exporter": "python",
   "pygments_lexer": "ipython3",
   "version": "3.11.7"
  }
 },
 "nbformat": 4,
 "nbformat_minor": 4
}
