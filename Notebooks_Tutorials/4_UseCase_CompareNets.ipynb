{
 "cells": [
  {
   "cell_type": "markdown",
   "metadata": {},
   "source": [
    "# 4. Use Case on Comparing Networks\n",
    "\n",
    "Authors: **Gorka Zamora-López** and **Matthieu Gilson**\n",
    "\n",
    "---------------------\n",
    "\n",
    "This notebook is part of an introductory tutorial for the use of *Stimulus-Response Network Analysis* ([SiReNetA](https://github.com/mb-BCA/SiReNetA)) to study the structure of complex networks:\n",
    "1. *[Getting Started and Overview](1_GettingStarted.ipynb)*\n",
    "2. *[Calculating Response to Stimulus and Metrics](2_Basics_StimRespMetrics.ipynb)*\n",
    "3. *[Canonical Models](3_Basics_CanonMods.ipynb)*\n",
    "4. **[Comparing Networks](4_UseCase_CompareNets.ipynb)**\n",
    "5. *[Network Distance](5_UseCase_NetDist.ipynb)*\n",
    "6. *[Weighted Networks](6_UseCase_WeighteNets.ipynb)* \n",
    "\n",
    "---------------------\n",
    "\n",
    "### Outline of use case\n",
    "* Reproduce Fig 3 of [Zamora-López and Gilson (2024) Chaos](https://doi.org/10.1063/5.0202241)\n",
    "* Show the equivalence between graph distance for discrete cascade and time-to-peak distance for leaky cascade for several binary graphs.\n",
    "* \n",
    "\n",
    "---------------------"
   ]
  },
  {
   "cell_type": "markdown",
   "metadata": {},
   "source": [
    "## Import libraries"
   ]
  },
  {
   "cell_type": "code",
   "execution_count": 1,
   "metadata": {},
   "outputs": [],
   "source": [
    "# Python standard library imports\n",
    "# Third party imports\n",
    "import matplotlib.pyplot as plt\n",
    "%matplotlib inline\n",
    "import numpy as np\n",
    "import numpy.linalg\n",
    "\n",
    "# import \n",
    "import sireneta as sna\n",
    "#import galib.models KEEP?\n",
    "#import galib.tools"
   ]
  }
 ],
 "metadata": {
  "kernelspec": {
   "display_name": "Python 3 (ipykernel)",
   "language": "python",
   "name": "python3"
  },
  "language_info": {
   "codemirror_mode": {
    "name": "ipython",
    "version": 3
   },
   "file_extension": ".py",
   "mimetype": "text/x-python",
   "name": "python",
   "nbconvert_exporter": "python",
   "pygments_lexer": "ipython3",
   "version": "3.11.7"
  }
 },
 "nbformat": 4,
 "nbformat_minor": 4
}
