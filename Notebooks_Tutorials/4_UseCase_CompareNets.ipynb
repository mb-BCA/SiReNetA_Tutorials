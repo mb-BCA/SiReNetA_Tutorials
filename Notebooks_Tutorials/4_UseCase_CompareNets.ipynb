{
 "cells": [
  {
   "cell_type": "markdown",
   "metadata": {},
   "source": [
    "# 4. Use Case on Comparing Networks\n",
    "\n",
    "Authors: **Gorka Zamora-López** and **Matthieu Gilson**\n",
    "\n",
    "---------------------\n",
    "\n",
    "This notebook is part of an introductory tutorial for the use of *Stimulus-Response Network Analysis* ([SiReNetA](https://github.com/mb-BCA/SiReNetA)) to study the structure of complex networks:\n",
    "1. *[Getting Started and Overview](1_GettingStarted.ipynb)*\n",
    "2. *[Calculating Response to Stimulus and Metrics](2_Basics_StimRespMetrics.ipynb)*\n",
    "3. *[Canonical Models](3_Basics_CanonMods.ipynb)*\n",
    "4. **[Comparing Networks](4_UseCase_CompareNets.ipynb)**\n",
    "5. *[Network Distance](5_UseCase_NetDist.ipynb)*\n",
    "6. *[Weighted Networks](6_UseCase_WeighteNets.ipynb)* \n",
    "\n",
    "---------------------\n",
    "\n",
    "### Outline of use case\n",
    "* Reproduce Fig 3 of [Zamora-López and Gilson (2024) Chaos](https://doi.org/10.1063/5.0202241)\n",
    "* Show the equivalence between graph distance for discrete cascade and time-to-peak distance for leaky cascade for several binary graphs.\n",
    "* \n",
    "\n",
    "---------------------"
   ]
  },
  {
   "cell_type": "markdown",
   "metadata": {},
   "source": [
    "## Import libraries"
   ]
  },
  {
   "cell_type": "code",
   "execution_count": 1,
   "metadata": {},
   "outputs": [],
   "source": [
    "# Python standard library imports\n",
    "from timeit import default_timer as timer\n",
    "\n",
    "# Third party imports\n",
    "import matplotlib.pyplot as plt\n",
    "%matplotlib inline\n",
    "import numpy as np\n",
    "import numpy.linalg\n",
    "\n",
    "# import \n",
    "import sireneta as sna\n",
    "import galib\n"
   ]
  },
  {
   "cell_type": "markdown",
   "metadata": {},
   "source": [
    "## 1. Normalizing networks of same type\n",
    "\n",
    "Write me here. Short introduction.\n",
    "\n",
    "\n",
    "Begin by choosing the type of network to generate between three graph models:\n",
    "- **Random**: Random graph of $G(N,L)$ class, with prespecified number of links.\n",
    "- **Lattice**: A 1-dimensional ring lattice.\n",
    "- **ScaleFree**: Random graph with scale-free-like degree distribution. For the small sizes here employed (N ≤ 500 nodes) the resulting degree distribution will be skewed but not fully scale-free."
   ]
  },
  {
   "cell_type": "code",
   "execution_count": null,
   "metadata": {},
   "outputs": [],
   "source": [
    "netcase = 'Random'  # 'Random', 'Lattice', 'ScaleFree'"
   ]
  },
  {
   "cell_type": "code",
   "execution_count": null,
   "metadata": {},
   "outputs": [],
   "source": []
  },
  {
   "cell_type": "code",
   "execution_count": null,
   "metadata": {},
   "outputs": [],
   "source": []
  },
  {
   "cell_type": "code",
   "execution_count": null,
   "metadata": {},
   "outputs": [],
   "source": []
  },
  {
   "cell_type": "code",
   "execution_count": null,
   "metadata": {},
   "outputs": [],
   "source": []
  },
  {
   "cell_type": "markdown",
   "metadata": {},
   "source": [
    "## 2. Comparison across models\n",
    "\n",
    "Use precomputed results for Random, Lattice and ScaleFree to plot:\n",
    "\n",
    "- Figure-1: GlobalResp of the three models withouth normalization.\n",
    "- Figure-2: GlobalResp of the three models, after evmax normalization.\n",
    "- Maybe show the node-wise responses as \"imshow\" ?"
   ]
  },
  {
   "cell_type": "code",
   "execution_count": null,
   "metadata": {},
   "outputs": [],
   "source": []
  }
 ],
 "metadata": {
  "kernelspec": {
   "display_name": "Python 3 (ipykernel)",
   "language": "python",
   "name": "python3"
  },
  "language_info": {
   "codemirror_mode": {
    "name": "ipython",
    "version": 3
   },
   "file_extension": ".py",
   "mimetype": "text/x-python",
   "name": "python",
   "nbconvert_exporter": "python",
   "pygments_lexer": "ipython3",
   "version": "3.9.12"
  }
 },
 "nbformat": 4,
 "nbformat_minor": 4
}
