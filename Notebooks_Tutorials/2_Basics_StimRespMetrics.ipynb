{
 "cells": [
  {
   "cell_type": "markdown",
   "metadata": {},
   "source": [
    "# 2. Caculating Responses to Stimuli and Metric Calculation\n",
    "\n",
    "Authors: **Gorka Zamora-López** and **Matthieu Gilson**\n",
    "\n",
    "---------------------\n",
    "\n",
    "This notebook is part of an introductory tutorial for the use of *Stimulus-Response Network Analysis* ([SiReNetA](https://github.com/mb-BCA/SiReNetA)) to study the structure of complex networks:\n",
    "1. *[Getting Started and Overview](1_GettingStarted.ipynb)*\n",
    "2. **[Calculating Response to Stimulus and Metrics](2_Basics_StimRespMetrics.ipynb)**\n",
    "3. *[Canonical Models](3_Basics_CanonMods.ipynb)*\n",
    "4. *[Comparing Networks](4_UseCase_CompareNets.ipynb)*\n",
    "5. *[Network Distance](5_UseCase_NetDist.ipynb)*\n",
    "6. *[Weighted Networks](6_UseCase_WeighteNets.ipynb)* \n",
    "\n",
    "---------------------\n",
    "\n",
    "### Outline and functions used in this notebook\n",
    "* Overview of basic concepts.\n",
    "    * Pair-wise, node-wise and network level responses.\n",
    "    * Network metrics from the responses.\n",
    "    * Running simulations of the canonical models.\n",
    "* `GlobalResponse`: evaluation of whole network effect resulting from stimulation\n",
    "* `NodeResponses`: evaluation of broadcasting and receiving properties of nodes\n",
    "* ̀`̀Time2Peak` (TTP) and time-to-saturation that are proxy for distances in the graph"
   ]
  },
  {
   "cell_type": "markdown",
   "metadata": {},
   "source": [
    "## Import libraries\n",
    "\n",
    "We firstly import the libraries we will need."
   ]
  },
  {
   "cell_type": "code",
   "execution_count": null,
   "metadata": {},
   "outputs": [],
   "source": [
    "# Python standard library imports\n",
    "# Third party imports\n",
    "import matplotlib.pyplot as plt\n",
    "%matplotlib inline\n",
    "import numpy as np\n",
    "import numpy.linalg\n",
    "\n",
    "# import \n",
    "import sireneta as sna\n",
    "\n",
    "#import galib.models KEEP?\n",
    "#import galib.tools"
   ]
  },
  {
   "cell_type": "markdown",
   "metadata": {},
   "source": [
    "<br/>\n",
    "\n",
    "## Overview of basic concepts\n",
    "\n",
    "The aim of *Response Network Analysis* is to study and to characterise complex networks overcoming limitations of graph theory, specially concerning the study of weighted and directed networks. We characterise the structure by observing how perturbations (stimuli of unit amplitude) propagate along a network. To do so, we need to assume a dynamic model on the network governing that propagation. For this first example we assume the nodes dynamics to be governed by the discrete cascade model. Given that $A$ is the connectivity matrix (so far unweighted) the dynamics in discrete time of a node follows:\n",
    "$$ x^t_i = \\sum_{j=1}^N A_{ij} x^{t-1}_j $$\n",
    "where $t$ is an integer. This means that at each time step, a node receives the summed activity from its neighbors.\n",
    "The pair-wise responses $R_{ij}(t)$ qunatify the effect of a stimulus on (source) node $j$, applied at $t=0$, has on (target) node $i$ at time $t$."
   ]
  },
  {
   "cell_type": "markdown",
   "metadata": {},
   "source": [
    "## First steps with a path (di)graph\n",
    "\n",
    "We start by studying the notions of *Response Network Analysis* on very simple graphs. Consider a chain graphs as the one with directed arcs in the figure below. We will characterise how a perturbation applied to the first node propagates along the chain.\n",
    "\n",
    "<img src=\"../Images/PathGraph_Directed1.png\" style=\"float:center; width:500px; height:50px\"  alt=\"Path Graph\" />\n",
    "\n",
    "\n",
    "In this first example we will: \n",
    "* Create the digraph\n",
    "* apply a perturbation at the first node,\n",
    "* explore subsequent responses in other nodes over time\n",
    "* visualise the node-wise input and output responses."
   ]
  },
  {
   "cell_type": "code",
   "execution_count": null,
   "metadata": {},
   "outputs": [],
   "source": [
    "# Create a directed path graph of N = 6 nodes\n",
    "#N = 6\n",
    "#dirnet = galib.models.PathGraph(N, directed=True)\n",
    "\n",
    "# HACK XXX \n",
    "# Load a small network (binary or unweighted)\n",
    "dirnet = np.loadtxt('../Data/Testnet_N8.txt', dtype=int)\n",
    "N = len(dirnet)"
   ]
  },
  {
   "cell_type": "markdown",
   "metadata": {},
   "source": [
    "We now define an _**external perturbation**_, which is encoded in the `stimvec` array, containing the amplitude on the initial stimuli at each node. In this case, we assume an stimulus of unit amplitude, only at the first node."
   ]
  },
  {
   "cell_type": "code",
   "execution_count": null,
   "metadata": {},
   "outputs": [],
   "source": [
    "# Set the matrix of noisy inputs\n",
    "stimvec = np.zeros(N)\n",
    "stimvec[0] = 1.0\n",
    "\n",
    "# Define the temporal resolution for the \"simulation\"\n",
    "tfinal = 10\n",
    "tpoints1 = np.arange(tfinal+1)\n",
    "nsteps1 = len(tpoints1)\n",
    "\n",
    "# Calculate the pair-wise responses for a time span between 0 and tmax\n",
    "resp1 = sna.Resp_DiscreteCascade(dirnet, S0=stimvec, tmax=tfinal)"
   ]
  },
  {
   "cell_type": "code",
   "execution_count": null,
   "metadata": {},
   "outputs": [],
   "source": [
    "# Visualise the flow matrices at different times\n",
    "tlist = [0, 1, 2, 4, 6, 8, 10]\n",
    "for tidx in tlist:\n",
    "    plt.figure()\n",
    "    plt.title('Time t = %2.2f' %(tidx) )\n",
    "    plt.imshow(resp1[tidx])\n",
    "    plt.colorbar()\n",
    "    plt.xticks(np.arange(N), np.arange(N)+1)\n",
    "    plt.yticks(np.arange(N), np.arange(N)+1)\n",
    "    plt.xlabel('source node')\n",
    "    plt.ylabel('target node')\n",
    "    plt.tight_layout()"
   ]
  },
  {
   "cell_type": "markdown",
   "metadata": {},
   "source": [
    "## Input and output responses to quantify the receiving and broadcasting properties of nodes\n",
    "\n",
    "As seen, the effect of the stimulus initially applied at the first node affects other nodes down the chain at different times. We visualize this more explicitely, computing the input and output responses of every node over time."
   ]
  },
  {
   "cell_type": "code",
   "execution_count": null,
   "metadata": {},
   "outputs": [],
   "source": [
    "# Calculate the in-/out- full-flow for every node\n",
    "# infullflow and outfullflow are two arrays of shape (N,nsteps)\n",
    "inresp1, outresp1 = sna.NodeResponses(resp1, selfloops=True)\n",
    "\n",
    "# Plot a figure wit the input and output responses of every node\n",
    "plt.figure()\n",
    "plt.subplot(2,1,1)\n",
    "plt.title('Response for every node', fontsize=12)\n",
    "for i in range(N):\n",
    "    plt.plot(tpoints1, inresp1[:,i], label='i = %d' %(i+1))\n",
    "#plt.ylim(-0.005,0.1)\n",
    "plt.ylabel('in-responses', fontsize=14);\n",
    "plt.legend(frameon=False, loc='center left')\n",
    "\n",
    "plt.subplot(2,1,2)\n",
    "for i in range(N):\n",
    "    plt.plot(tpoints1, outresp1[:,i], label='i = %d' %(i+1))\n",
    "plt.ylabel('out-responses', fontsize=14);\n",
    "plt.xlabel('Time (a.u.)', fontsize=14);"
   ]
  },
  {
   "cell_type": "markdown",
   "metadata": {},
   "source": [
    "## Area under the curve as a measure of effect integrated over time\n",
    "\n",
    "xxx TO CLEAN"
   ]
  },
  {
   "cell_type": "code",
   "execution_count": null,
   "metadata": {},
   "outputs": [],
   "source": [
    "# Visualise the total link-wise responses\n",
    "pw_resp1 = sna.AreaUnderCurve(resp1, timestep=1)\n",
    "\n",
    "plt.figure(figsize=(8,4))\n",
    "plt.subplot(1,2,1)\n",
    "plt.title('Adjacency matrix')\n",
    "plt.imshow(dirnet, cmap='gray_r')\n",
    "plt.colorbar()\n",
    "plt.xticks(np.arange(N), np.arange(N)+1)\n",
    "plt.yticks(np.arange(N), np.arange(N)+1)\n",
    "plt.xlabel('source node')\n",
    "plt.ylabel('target node')\n",
    "plt.tight_layout()\n",
    "\n",
    "plt.subplot(1,2,2)\n",
    "plt.title('Total pair-wise responses (influence)')\n",
    "plt.imshow(pw_resp1, cmap='gray_r', vmin=0)\n",
    "plt.colorbar()\n",
    "plt.xticks(np.arange(N), np.arange(N)+1)\n",
    "plt.yticks(np.arange(N), np.arange(N)+1)\n",
    "plt.xlabel('source node')\n",
    "plt.ylabel('target node')\n",
    "plt.tight_layout()\n",
    "\n",
    "plt.tight_layout()"
   ]
  },
  {
   "cell_type": "markdown",
   "metadata": {},
   "source": []
  },
  {
   "cell_type": "markdown",
   "metadata": {},
   "source": [
    "&nbsp;\n",
    "\n",
    "--------\n",
    "## XXX TO CLEAN 3. First steps into Stimulus-Response Network Analysis (SRNA)\n",
    "\n",
    "\n",
    "The core idea behind *SRNA* is to reveal the properties of networks by probing how the nodes of a network respond localised perturbations. That is, to apply a stimulus of unit amplitude to one node and observe how the others respond. The manner in which the stimulus propagates throughout the network depends on the dynamical propagation dynamical model selected. Network metrics are then extracted out of the pair-wise, node-wise or global responses.\n",
    "\n",
    "For illustration, we will load the small graph (binary and undirected) depicted below and  visualise the different types of responses.\n",
    "\n",
    "![Sample Graph, n=8 nodes](#)\n",
    "\n"
   ]
  },
  {
   "cell_type": "markdown",
   "metadata": {},
   "source": [
    "## Changing the propagation model\n",
    "\n",
    "Now we switch to the continuous leaky cascade, a different model in continuous time"
   ]
  },
  {
   "cell_type": "code",
   "execution_count": null,
   "metadata": {},
   "outputs": [],
   "source": [
    "\n",
    "# Find the spectral radius and the largest time constant \n",
    "evs = np.linalg.eigvals(dirnet)\n",
    "evsnorms = np.zeros(N, float)\n",
    "for i in range(N):\n",
    "    evsnorms[i] = np.real(evs[i])\n",
    "evmax = evsnorms.max()\n",
    "maxtau = 1./evmax\n",
    "\n",
    "print( 'Spectral radius:\\t%2.5f' %evmax )\n",
    "print( 'Largest possible tau:\\t%2.5f' %maxtau )"
   ]
  },
  {
   "cell_type": "markdown",
   "metadata": {},
   "source": [
    "For a given network represented by $A$, the tendency of the network dynamics to diverge is represented by the largest eigenvalue (spectral radious) $\\lambda_{max}$ of $A$. To assure the convergence of the system the leakage along each node needs to counterbalance this tendency. For that, the condicion $\\tau < \\tau_{max}$ with $\\tau_{max} = 1 \\,/\\, \\lambda_{max}$ needs to be fulfilled. \n",
    "In this particular case, all the eigenvalues of the directed path graph are zero, thus, $\\tau_{max} = \\infty$ and the system converges for any value of $\\tau$. But this will not be the case in general.\n",
    "\n",
    "We now define an _**external perturbation**_, which is encoded in the `stimvec` array, containing the amplitude on the initial stimuli at each node. In this case, we assume an stimulus of unit amplitude, only at the first node."
   ]
  },
  {
   "cell_type": "code",
   "execution_count": null,
   "metadata": {},
   "outputs": [],
   "source": [
    "# Set the matrix of noisy inputs\n",
    "stimvec = np.zeros(N)\n",
    "stimvec[0] = 1.0\n",
    "\n",
    "# Set a leakage time-constant smaller than the largest possible value above\n",
    "tau = 0.25\n",
    "\n",
    "# Define the temporal resolution for the \"simulation\"\n",
    "dt = 0.01\n",
    "tpoints2 = np.arange(0.0, tfinal+dt, dt)\n",
    "nsteps2 = len(tpoints2)\n",
    "\n",
    "# Calculate the pair-wise responses for a time span between 0 and tmax\n",
    "resp2 = sna.Resp_LeakyCascade(dirnet, S0=stimvec, tau=tau, tmax=tfinal, timestep=dt, case='full') "
   ]
  },
  {
   "cell_type": "code",
   "execution_count": null,
   "metadata": {},
   "outputs": [],
   "source": [
    "# Visualise the flow matrices at different times\n",
    "tlist = [0, 100, 200, 400, 600, 800, 1000]\n",
    "for tidx in tlist:\n",
    "    plt.figure()\n",
    "    plt.title('Time t = %2.2f' %(tidx*dt) )\n",
    "    plt.imshow(resp2[tidx])\n",
    "    plt.colorbar()\n",
    "    plt.xticks(np.arange(N), np.arange(N)+1)\n",
    "    plt.yticks(np.arange(N), np.arange(N)+1)\n",
    "    plt.xlabel('source node')\n",
    "    plt.ylabel('target node')\n",
    "    plt.tight_layout()\n"
   ]
  },
  {
   "cell_type": "markdown",
   "metadata": {},
   "source": [
    "As seen, the effect of the stimulus initially applied at the first node affects other nodes down the chain at different times. We visualize this more explicitely, computing the input and output responses of every node over time."
   ]
  },
  {
   "cell_type": "code",
   "execution_count": null,
   "metadata": {},
   "outputs": [],
   "source": [
    "# Calculate the in-/out- full-flow for every node\n",
    "# infullflow and outfullflow are two arrays of shape (N,nsteps)\n",
    "inresp2, outresp2 = sna.NodeResponses(resp2, selfloops=True)\n",
    "\n",
    "# Plot a figure wit the input and output responses of every node\n",
    "plt.figure()\n",
    "plt.subplot(2,1,1)\n",
    "plt.title('Full-flow for every node. tau = %1.2f' %tau, fontsize=12)\n",
    "for i in range(N):\n",
    "    plt.plot(tpoints2, inresp2[:,i], label='i = %d' %(i+1))\n",
    "#plt.ylim(-0.005,0.1)\n",
    "plt.ylabel('in-responses', fontsize=14);\n",
    "plt.legend(frameon=False)\n",
    "\n",
    "plt.subplot(2,1,2)\n",
    "for i in range(N):\n",
    "    plt.plot(tpoints2, outresp2[:,i], label='i = %d' %(i+1))\n",
    "plt.ylabel('out-responses', fontsize=14);\n",
    "plt.xlabel('Time (a.u.)', fontsize=14);"
   ]
  },
  {
   "cell_type": "code",
   "execution_count": null,
   "metadata": {},
   "outputs": [],
   "source": [
    "# Visualise the total link-wise responses\n",
    "pw_resp2 = sna.AreaUnderCurve(resp2, timestep=1)\n",
    "\n",
    "plt.figure(figsize=(8,4))\n",
    "plt.subplot(1,2,1)\n",
    "plt.title('Adjacency matrix')\n",
    "plt.imshow(dirnet, cmap='gray_r')\n",
    "plt.colorbar()\n",
    "plt.xticks(np.arange(N), np.arange(N)+1)\n",
    "plt.yticks(np.arange(N), np.arange(N)+1)\n",
    "plt.xlabel('source node')\n",
    "plt.ylabel('target node')\n",
    "\n",
    "plt.subplot(1,2,2)\n",
    "plt.title('Total pair-wise responses (influence)')\n",
    "plt.imshow(pw_resp2, cmap='gray_r', vmin=0)\n",
    "plt.colorbar()\n",
    "plt.xticks(np.arange(N), np.arange(N)+1)\n",
    "plt.yticks(np.arange(N), np.arange(N)+1)\n",
    "plt.xlabel('source node')\n",
    "plt.ylabel('target node')\n",
    "\n",
    "plt.tight_layout()"
   ]
  },
  {
   "cell_type": "markdown",
   "metadata": {},
   "source": [
    "## Comparison of the global and node responses across the 2 propagation models"
   ]
  },
  {
   "cell_type": "code",
   "execution_count": null,
   "metadata": {},
   "outputs": [],
   "source": [
    "# Calculate the global response\n",
    "glb_resp1 = sna.GlobalResponse(resp1)\n",
    "glb_resp2 = sna.GlobalResponse(resp2)\n",
    "\n",
    "\n",
    "plt.figure()\n",
    "plt.plot(tpoints1, glb_resp1, label='discrete cascade')\n",
    "plt.plot(tpoints2, glb_resp2, label='leaky cascade')\n",
    "plt.tight_layout()\n",
    "\n",
    "plt.figure()\n",
    "plt.title('discrete cascade')\n",
    "plt.imshow(inresp1.T)\n",
    "plt.colorbar()\n",
    "plt.yticks(np.arange(N), np.arange(N)+1)\n",
    "plt.xlabel('time')\n",
    "plt.ylabel('target node')\n",
    "plt.tight_layout()\n",
    "\n",
    "plt.figure('leaky cascade')\n",
    "plt.imshow(inresp2.T, aspect=100)\n",
    "plt.colorbar()\n",
    "plt.yticks(np.arange(N), np.arange(N)+1)\n",
    "plt.xlabel('time')\n",
    "plt.ylabel('target node')\n",
    "plt.tight_layout()"
   ]
  },
  {
   "cell_type": "markdown",
   "metadata": {},
   "source": [
    "Despite very different global response, the two responses exhibit a similar structure for late times, as shown below. This suggests that they capture similar information from the underlying network (and the stimulation)."
   ]
  },
  {
   "cell_type": "code",
   "execution_count": null,
   "metadata": {},
   "outputs": [],
   "source": [
    "# get corresponding times\n",
    "t1 = 1\n",
    "t2 = int(t1/dt)\n",
    "\n",
    "plt.figure()\n",
    "plt.scatter(resp1[t1], resp2[t2])\n",
    "plt.xlabel('discrete cascade')\n",
    "plt.ylabel('leaky cascade')\n",
    "plt.title('time %2.1f' % t1)\n",
    "plt.tight_layout()\n",
    "\n",
    "t1 = 5\n",
    "t2 = int(t1/dt)\n",
    "\n",
    "plt.figure()\n",
    "plt.scatter(resp1[t1], resp2[t2])\n",
    "plt.xlabel('discrete cascade')\n",
    "plt.ylabel('leaky cascade')\n",
    "plt.title('time %2.1f' % t1)\n",
    "plt.tight_layout()\n",
    "\n",
    "t1 = 9\n",
    "t2 = int(t1/dt)\n",
    "\n",
    "plt.figure()\n",
    "plt.scatter(resp1[t1], resp2[t2])\n",
    "plt.xlabel('discrete cascade')\n",
    "plt.ylabel('leaky cascade')\n",
    "plt.title('time %2.1f' % t1)\n",
    "plt.tight_layout()\n"
   ]
  },
  {
   "cell_type": "markdown",
   "metadata": {},
   "source": [
    "## Time to peak"
   ]
  },
  {
   "cell_type": "code",
   "execution_count": null,
   "metadata": {},
   "outputs": [],
   "source": [
    "plt.figure()\n",
    "plt.title('Full-flow for every node. tau = %1.2f' %tau, fontsize=12)\n",
    "for i in range(N):\n",
    "    plt.plot(tpoints2, inresp2[:,i], label='i = %d' %(i+1))\n",
    "#plt.ylim(-0.005,0.1)\n",
    "plt.ylabel('in-responses', fontsize=14);\n",
    "plt.legend(frameon=False)\n",
    "\n",
    "sna.Time2Peak(resp2, timestep=dt)"
   ]
  }
 ],
 "metadata": {
  "kernelspec": {
   "display_name": "Python 3 (ipykernel)",
   "language": "python",
   "name": "python3"
  },
  "language_info": {
   "codemirror_mode": {
    "name": "ipython",
    "version": 3
   },
   "file_extension": ".py",
   "mimetype": "text/x-python",
   "name": "python",
   "nbconvert_exporter": "python",
   "pygments_lexer": "ipython3",
   "version": "3.11.7"
  }
 },
 "nbformat": 4,
 "nbformat_minor": 4
}
