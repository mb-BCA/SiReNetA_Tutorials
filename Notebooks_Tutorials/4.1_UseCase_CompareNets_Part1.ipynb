{
 "cells": [
  {
   "cell_type": "markdown",
   "metadata": {},
   "source": [
    "# 4. Use Case on Comparing Networks\n",
    "\n",
    "Authors: **Gorka Zamora-López** and **Matthieu Gilson**\n",
    "\n",
    "---------------------\n",
    "\n",
    "This notebook is part of an introductory tutorial for the use of *Stimulus-Response Network Analysis* ([SiReNetA](https://github.com/mb-BCA/SiReNetA)) to study the structure of complex networks:\n",
    "1. *[Getting Started and Overview](1_GettingStarted.ipynb)*\n",
    "2. *[Calculating Response to Stimulus and Metrics](2_Basics_StimRespMetrics.ipynb)*\n",
    "3. *[Canonical Models](3_Basics_CanonMods.ipynb)*\n",
    "4. **[Comparing Networks - Part I](4.1_UseCase_CompareNets_Part1.ipynb)**\n",
    "5. *[Network Distance](5_UseCase_NetDist.ipynb)*\n",
    "6. *[Weighted Networks](6_UseCase_WeighteNets.ipynb)* \n",
    "\n",
    "---------------------\n",
    "\n",
    "### Outline of use case\n",
    "\n",
    "Goal is to reproduce the Figure 3 of [Zamora-López and Gilson (2024) Chaos](https://doi.org/10.1063/5.0202241). It illustrates that normalizing connectivity matrices by their largest eigenvalue ($A' = A \\,/\\, \\lambda_{max}$) aligns their time-scales, allowing their properties to be comparable.\n",
    "\n",
    "* Generate four graphs of different sizes and densities (using the same generative model).\n",
    "* Compute and visualize basic properties of the four networks.\n",
    "* Normalize by their $\\lambda_{max}$ and recompute the properties.\n",
    "\n",
    "The example here uses the leaky-cascade canonical model $\\dot{\\mathbf{x}} = - \\mathbf{x} \\,/\\, \\tau + A \\mathbf{x}$, with *τ* being a leakage time-constant controling for the rate of dissipation through the nodes.\n",
    "\n",
    "---------------------"
   ]
  },
  {
   "cell_type": "markdown",
   "metadata": {},
   "source": [
    "## Import libraries"
   ]
  },
  {
   "cell_type": "code",
   "execution_count": null,
   "metadata": {},
   "outputs": [],
   "source": [
    "# Library GAlib is used for generating the graphs\n",
    "try:\n",
    "    import galib\n",
    "except ImportError:\n",
    "    %pip install git+https://github.com/gorkazl/pyGAlib.git@master    "
   ]
  },
  {
   "cell_type": "code",
   "execution_count": 1,
   "metadata": {},
   "outputs": [],
   "source": [
    "# Python standard library imports\n",
    "from timeit import default_timer as timer\n",
    "\n",
    "# Third party imports\n",
    "import matplotlib.pyplot as plt\n",
    "import numpy as np\n",
    "import numpy.linalg\n",
    "\n",
    "import galib\n",
    "import sireneta as sna\n"
   ]
  },
  {
   "cell_type": "code",
   "execution_count": 2,
   "metadata": {},
   "outputs": [],
   "source": [
    "# Enter some plotting options to control visualization\n",
    "%matplotlib inline\n",
    "# Define the colors for plotting later\n",
    "cols = ['deepskyblue', '#1f77b4', 'red', '#d62728']\n",
    "# Define the default scale for the plots\n",
    "plt.rcParams['figure.dpi'] = 72"
   ]
  },
  {
   "cell_type": "markdown",
   "metadata": {},
   "source": [
    "<br>\n",
    "\n",
    "## 1. Generate four networks: same architecture, different sizes / densities\n",
    "\n",
    "Begin by choosing the class of networks to generate, among three graph models:\n",
    "- **Random**: Random graph of $G(N,L)$ class, with uniform probability and prescribed number of links *L*.\n",
    "- **Lattice**: A 1-dimensional ring lattice of *N* nodes, each connected to _2*z_ first neighbours.\n",
    "- **ScaleFree**: Random graph with scale-free-like degree distribution. For the small sizes here employed (*N ≤ 500* nodes) the resulting degree distribution will be skewed but not fully scale-free."
   ]
  },
  {
   "cell_type": "code",
   "execution_count": 3,
   "metadata": {},
   "outputs": [],
   "source": [
    "netcase = 'Random'  # 'Random', 'Lattice', 'ScaleFree'"
   ]
  },
  {
   "cell_type": "markdown",
   "metadata": {},
   "source": [
    "The four networks will be generated from the same graph model but with different sizes and densities, as follows:\n",
    "\n",
    "* **net1** : small ( *N = 200* ) and sparse ( *ρ = 0.06* ).\n",
    "* **net2** : small ( *N = 200* ) and dense ( *ρ = 0.1* ).\n",
    "* **net3** : large ( *N = 500* ) and sparse ( *ρ = 0.06* ).\n",
    "* **net4** : large ( *N = 500* ) and dense ( *ρ = 0.1* )."
   ]
  },
  {
   "cell_type": "code",
   "execution_count": 4,
   "metadata": {},
   "outputs": [],
   "source": [
    "# Create four networks, combining two sizes and two density options\n",
    "N1 = 200\n",
    "N2 = 500\n",
    "dens1 = 0.06\n",
    "dens2 = 0.1\n",
    "L1s = int(round( 0.5*dens1*N1*(N1-1) ))\n",
    "L1d = int(round( 0.5*dens2*N1*(N1-1) ))\n",
    "L2s = int(round( 0.5*dens1*N2*(N2-1) ))\n",
    "L2d = int(round( 0.5*dens2*N2*(N2-1) ))\n",
    "\n",
    "if netcase=='Random':\n",
    "    net1 = galib.models.RandomGraph(N1, L1s).astype(float64)\n",
    "    net2 = galib.models.RandomGraph(N1, L1d).astype(float64)\n",
    "    net3 = galib.models.RandomGraph(N2, L2s).astype(float64)\n",
    "    net4 = galib.models.RandomGraph(N2, L2d).astype(float64)\n",
    "elif netcase=='Lattice':\n",
    "    z1s = 6; z1d = 10\n",
    "    z2s = 15; z2d = 25\n",
    "    net1 = galib.models.Lattice1D(N1, z1s).astype(float64)\n",
    "    net2 = galib.models.Lattice1D(N1, z1d).astype(float64)\n",
    "    net3 = galib.models.Lattice1D(N2, z2s).astype(float64)\n",
    "    net4 = galib.models.Lattice1D(N2, z2d).astype(float64)\n",
    "elif netcase=='ScaleFree':\n",
    "    net1 = galib.models.ScaleFreeGraph(N1, L1s).astype(float64)\n",
    "    net2 = galib.models.ScaleFreeGraph(N1, L1d).astype(float64)\n",
    "    net3 = galib.models.ScaleFreeGraph(N2, L2s).astype(float64)\n",
    "    net4 = galib.models.ScaleFreeGraph(N2, L2d).astype(float64)\n",
    "\n",
    "# Make sure the networks are connected\n",
    "indeg1 = net1.sum(axis=0);  outdeg1 = net1.sum(axis=1)\n",
    "indeg2 = net2.sum(axis=0);  outdeg2 = net2.sum(axis=1)\n",
    "indeg3 = net3.sum(axis=0);  outdeg3 = net3.sum(axis=1)\n",
    "indeg4 = net4.sum(axis=0);  outdeg4 = net4.sum(axis=1)\n",
    "assert 0 not in [indeg1.min(), indeg2.min(), indeg3.min(), indeg4.min()], 'Disconnected graph found. Try again or increase density.'\n"
   ]
  },
  {
   "cell_type": "markdown",
   "metadata": {},
   "source": [
    "### Compute and compare their eigenvalues"
   ]
  },
  {
   "cell_type": "code",
   "execution_count": 5,
   "metadata": {},
   "outputs": [],
   "source": [
    "# Definition for later use. Getting the eigenvalue with largest norm.\n",
    "def SpectralRadius(eigenvalues):\n",
    "    \"\"\"Finds the eigenvalue with largest norm in the imaginary space.\"\"\"\n",
    "    \n",
    "    N = len(eigenvalues)\n",
    "    evnorms = np.zeros(N, float64)\n",
    "    for i in range(N):\n",
    "        evnorms[i] = numpy.linalg.norm(eigenvalues[i])\n",
    "    maxradius = evnorms.max()\n",
    "\n",
    "    return maxradius"
   ]
  },
  {
   "cell_type": "code",
   "execution_count": 6,
   "metadata": {
    "scrolled": true
   },
   "outputs": [
    {
     "name": "stdout",
     "output_type": "stream",
     "text": [
      "\tSpectral radius\t\tLargest tau\n",
      "net #1:   12.99541\t\t0.07695\n",
      "net #2:   20.87771\t\t0.04790\n",
      "net #3:   30.83381\t\t0.03243\n",
      "net #4:   50.87936\t\t0.01965\n"
     ]
    }
   ],
   "source": [
    "# Compute the eigenvalues of the four networks\n",
    "evs1 = numpy.linalg.eigvals(net1)\n",
    "evs2 = numpy.linalg.eigvals(net2)\n",
    "evs3 = numpy.linalg.eigvals(net3)\n",
    "evs4 = numpy.linalg.eigvals(net4)\n",
    "\n",
    "# Find the largest eigenvalues, and the corresponding critical τ for each network\n",
    "evmax1 = SpectralRadius(evs1); taumax1 = 1.0 / evmax1\n",
    "evmax2 = SpectralRadius(evs2); taumax2 = 1.0 / evmax2\n",
    "evmax3 = SpectralRadius(evs3); taumax3 = 1.0 / evmax3\n",
    "evmax4 = SpectralRadius(evs4); taumax4 = 1.0 / evmax4\n",
    "\n",
    "# Print some feedback: spectral radius and corresponding critical 'tau's\n",
    "print( '\\tSpectral radius\\t\\tLargest tau' )\n",
    "print( 'net #1:   %3.5f\\t\\t%2.5f'  %(evmax1, taumax1) )\n",
    "print( 'net #2:   %3.5f\\t\\t%2.5f'  %(evmax2, taumax2) )\n",
    "print( 'net #3:   %3.5f\\t\\t%2.5f'  %(evmax3, taumax3) )\n",
    "print( 'net #4:   %3.5f\\t\\t%2.5f'  %(evmax4, taumax4) )\n"
   ]
  },
  {
   "cell_type": "markdown",
   "metadata": {},
   "source": [
    "As expected, the spectral radius (largest eigenvalue $\\lambda_{max}$) of the adjacency matrices *A* grows with their sizes and densities. The spectral radius of *A* is indicative of the growth rate associated to the term $A \\mathbf{x}$ of the leaky-cascade. Therefore, the larger $\\lambda_{max}$, the shorter needs to be the leakage time-constant *τ* such that the dissipation term $- \\mathbf{x} \\,/\\, \\tau$ compensates for the growth $+A \\mathbf{x}$ and avoids the system from diverging."
   ]
  },
  {
   "cell_type": "code",
   "execution_count": 9,
   "metadata": {},
   "outputs": [
    {
     "data": {
      "image/png": "[encoded data removed]",
      "text/plain": [
       "<Figure size 460.8x345.6 with 1 Axes>"
      ]
     },
     "metadata": {},
     "output_type": "display_data"
    }
   ],
   "source": [
    "# Plot the eigenvalues of the four graphs\n",
    "plt.figure()\n",
    "ax = plt.axes()\n",
    "ax.spines[['left','top','right']].set_visible(False)\n",
    "ax.get_yaxis().set_visible(False)\n",
    "\n",
    "plt.scatter(evs4.real, 0.04 + evs4.imag, c=cols[3], label='large / dense')\n",
    "plt.scatter(evs3.real, 0.03 + evs3.imag, c=cols[2], label='large / sparse')\n",
    "plt.scatter(evs2.real, 0.02 + evs2.imag, c=cols[1], label='small / dense')\n",
    "plt.scatter(evs1.real, 0.01 + evs1.imag, c=cols[0], label='small / sparse')\n",
    "\n",
    "plt.scatter(evmax4, 0.04, marker='x', s=100, lw=3, c=cols[3])\n",
    "plt.scatter(evmax3, 0.03, marker='x', s=100, lw=3, c=cols[2])\n",
    "plt.scatter(evmax2, 0.02, marker='x', s=100, lw=3, c=cols[1])\n",
    "plt.scatter(evmax1, 0.01, marker='x', s=100, lw=3, c=cols[0])\n",
    "\n",
    "plt.ylim(0.005,0.045)\n",
    "plt.tick_params( labelsize=16 )\n",
    "\n",
    "plt.legend(frameon=False, loc='lower right', fontsize=12)\n",
    "plt.tight_layout()\n"
   ]
  },
  {
   "cell_type": "markdown",
   "metadata": {},
   "source": [
    "<br>\n",
    "\n",
    "## 1. Properties of the original graphs (before normalization)\n",
    "\n",
    "\n",
    "### Compare the global response curves\n",
    "\n",
    "1. Compute the pair-wise response matrices $\\mathcal{R}_{ij}(t)$ over time.\n",
    "2. Reduce to the global network response $r(t)$ (sum of all pair-wise responses, at every time point *t*)."
   ]
  },
  {
   "cell_type": "code",
   "execution_count": 10,
   "metadata": {},
   "outputs": [],
   "source": [
    "# Define the simulation parameters\n",
    "# Set the temporal resolution\n",
    "tfinal = 0.6\n",
    "dt = 0.005\n",
    "tpoints = arange(0.0, tfinal+0.1*dt, dt)\n",
    "nsteps = len(tpoints)\n",
    "\n",
    "# Set the leakage time-constants τ, proportional to taumax\n",
    "tauratio = 0.8\n",
    "tau1 = tauratio * taumax1\n",
    "tau2 = tauratio * taumax2\n",
    "tau3 = tauratio * taumax3\n",
    "tau4 = tauratio * taumax4\n",
    "\n",
    "# Define the stimulation amplitude to every node\n",
    "stim = 1.0\n"
   ]
  },
  {
   "cell_type": "code",
   "execution_count": 11,
   "metadata": {},
   "outputs": [
    {
     "name": "stdout",
     "output_type": "stream",
     "text": [
      "\n",
      "Calculating pair-wise response tensors, from t=0 to t=0.6, with step=0.005 ...\n",
      "10.414913258000013 seconds\n"
     ]
    }
   ],
   "source": [
    "# Calculate temporal evolution of the pair-wise responses R(t)\n",
    "print('\\nCalculating pair-wise response tensors, from t=0 to t=%3.1f, with step=%3.3f ...' %(tfinal, dt) )\n",
    "time1 = timer()\n",
    "R1 = sna.Resp_LC(net1.T, tau=tau1, S0=stim, tmax=tfinal, timestep=dt, case='regressed')\n",
    "R2 = sna.Resp_LC(net2.T, tau=tau2, S0=stim, tmax=tfinal, timestep=dt, case='regressed')\n",
    "R3 = sna.Resp_LC(net3.T, tau=tau3, S0=stim, tmax=tfinal, timestep=dt, case='regressed')\n",
    "R4 = sna.Resp_LC(net4.T, tau=tau4, S0=stim, tmax=tfinal, timestep=dt, case='regressed')\n",
    "time2 = timer()\n",
    "print( time2 - time1, 'seconds' )\n"
   ]
  },
  {
   "cell_type": "code",
   "execution_count": 12,
   "metadata": {},
   "outputs": [],
   "source": [
    "# Compute the global network responses r(t) \n",
    "# (sum of all pair-wise responses, at every time-point)\n",
    "r1 = sna.GlobalResponse(R1)\n",
    "r2 = sna.GlobalResponse(R2)\n",
    "r3 = sna.GlobalResponse(R3)\n",
    "r4 = sna.GlobalResponse(R4)\n"
   ]
  },
  {
   "cell_type": "code",
   "execution_count": 14,
   "metadata": {},
   "outputs": [
    {
     "data": {
      "image/png": "[encoded data removed]",
      "text/plain": [
       "<Figure size 460.8x345.6 with 1 Axes>"
      ]
     },
     "metadata": {},
     "output_type": "display_data"
    }
   ],
   "source": [
    "# Plot the global network responses\n",
    "plt.figure()\n",
    "ax = plt.axes()\n",
    "ax.spines[['top','right']].set_visible(False)\n",
    "\n",
    "plt.plot(tpoints, r4, lw=3, c=cols[3],           label='large / dense')\n",
    "plt.plot(tpoints, r3, lw=3, c=cols[2], ls='--',  label='large / sparse')\n",
    "plt.plot(tpoints, r2, lw=3, c=cols[1],           label='small / dense')\n",
    "plt.plot(tpoints, r1, lw=3, c=cols[0], ls='--',  label='small / sparse')\n",
    "\n",
    "plt.ylim(-5,310)\n",
    "plt.tick_params( labelsize=14 )\n",
    "plt.xlabel('Time (a.u.)', fontsize=16)\n",
    "plt.ylabel('Global Netw. Response, $r(t)$', fontsize=16)\n",
    "\n",
    "plt.legend(frameon=False, fontsize=12)\n",
    "plt.tight_layout()\n"
   ]
  },
  {
   "cell_type": "markdown",
   "metadata": {},
   "source": [
    "Write some brief explanations here …\n",
    "\n",
    "### Compare node responses to node degrees in A "
   ]
  },
  {
   "cell_type": "code",
   "execution_count": null,
   "metadata": {},
   "outputs": [],
   "source": [
    "# 1.4) Compare the (input) degrees to the node responses\n",
    "r_nodes1 = sna.NodeResponses(R1)[0]\n",
    "r_nodes2 = sna.NodeResponses(R2)[0]\n",
    "r_nodes3 = sna.NodeResponses(R3)[0]\n",
    "r_nodes4 = sna.NodeResponses(R4)[0]\n",
    "\n",
    "# Integrate the response of every node over time\n",
    "totr_nodes1 = sna.AreaUnderCurve(r_nodes1, dt)\n",
    "totr_nodes2 = sna.AreaUnderCurve(r_nodes2, dt)\n",
    "totr_nodes3 = sna.AreaUnderCurve(r_nodes3, dt)\n",
    "totr_nodes4 = sna.AreaUnderCurve(r_nodes4, dt)\n"
   ]
  },
  {
   "cell_type": "code",
   "execution_count": null,
   "metadata": {},
   "outputs": [],
   "source": [
    "# Plot the (input) degree - node response relations\n",
    "plt.figure()\n",
    "ax = plt.axes()\n",
    "ax.spines[['top','right']].set_visible(False)\n",
    "\n",
    "plt.scatter(indeg1, totr_nodes1, c=cols[0], label='small - sparse')\n",
    "plt.scatter(indeg2, totr_nodes2, c=cols[1], label='small - dense')\n",
    "plt.scatter(indeg3, totr_nodes3, c=cols[2], label='large - sparse')\n",
    "plt.scatter(indeg4, totr_nodes4, c=cols[3], label='large - dense')\n",
    "\n",
    "plt.ylim(-0.01,0.52)\n",
    "plt.tick_params( labelsize=14 )\n",
    "plt.xlabel( 'Node Degree', fontsize=16 )\n",
    "plt.ylabel( 'Node Responses', fontsize=16 )\n",
    "\n",
    "plt.legend( frameon=False, fontsize=12 )\n",
    "plt.tight_layout()\n"
   ]
  },
  {
   "cell_type": "markdown",
   "metadata": {},
   "source": [
    "Short description here."
   ]
  },
  {
   "cell_type": "code",
   "execution_count": null,
   "metadata": {},
   "outputs": [],
   "source": []
  },
  {
   "cell_type": "markdown",
   "metadata": {},
   "source": [
    "<br>\n",
    "\n",
    "## 2. Network properties after normalization\n",
    "\n",
    "Brief explanation of normalization by λmax."
   ]
  },
  {
   "cell_type": "code",
   "execution_count": null,
   "metadata": {},
   "outputs": [],
   "source": [
    "#### Normalize the four original networks by their corresponding spectral radius\n",
    "nnet1 = net1 / evmax1\n",
    "nnet2 = net2 / evmax2\n",
    "nnet3 = net3 / evmax3\n",
    "nnet4 = net4 / evmax4\n",
    "\n",
    "# Compute the eigenvalues of the normalised networks\n",
    "nevs1 = numpy.linalg.eigvals(nnet1)\n",
    "nevs2 = numpy.linalg.eigvals(nnet2)\n",
    "nevs3 = numpy.linalg.eigvals(nnet3)\n",
    "nevs4 = numpy.linalg.eigvals(nnet4)\n",
    "\n",
    "# Find the largest eigenvalues, and the new critical τ for each network\n",
    "nevmax1 = SpectralRadius(nevs1); ntaumax1 = 1.0 / nevmax1\n",
    "nevmax2 = SpectralRadius(nevs2); ntaumax2 = 1.0 / nevmax2\n",
    "nevmax3 = SpectralRadius(nevs3); ntaumax3 = 1.0 / nevmax3\n",
    "nevmax4 = SpectralRadius(nevs4); ntaumax4 = 1.0 / nevmax4\n",
    "\n",
    "# Print some feedback: spectral radius and corresponding critical 'tau's\n",
    "print( 'AFTER NORMALIZATION ...')\n",
    "print( '\\tSpectral radius\\t\\tLargest tau' )\n",
    "print( 'net #1:   %3.5f\\t\\t%2.5f'  %(nevmax1, ntaumax1) )\n",
    "print( 'net #2:   %3.5f\\t\\t%2.5f'  %(nevmax2, ntaumax2) )\n",
    "print( 'net #3:   %3.5f\\t\\t%2.5f'  %(nevmax3, ntaumax3) )\n",
    "print( 'net #4:   %3.5f\\t\\t%2.5f'  %(nevmax4, ntaumax4) )\n"
   ]
  },
  {
   "cell_type": "code",
   "execution_count": null,
   "metadata": {},
   "outputs": [],
   "source": [
    "# Plot the eigenvalues of the normalized graphs\n",
    "plt.figure()\n",
    "ax = plt.axes()\n",
    "ax.spines[['left','top','right']].set_visible(False)\n",
    "ax.get_yaxis().set_visible(False)\n",
    "\n",
    "plt.scatter(nevs1.real, 0.01 + nevs1.imag, c=cols[0], label='small / sparse')\n",
    "plt.scatter(nevs2.real, 0.02 + nevs2.imag, c=cols[1], label='small / dense')\n",
    "plt.scatter(nevs3.real, 0.03 + nevs3.imag, c=cols[2], label='large / sparse')\n",
    "plt.scatter(nevs4.real, 0.04 + nevs4.imag, c=cols[3], label='large / dense')\n",
    "\n",
    "plt.scatter(nevmax1, 0.01, marker='x', s=100, lw=3, c=cols[0])\n",
    "plt.scatter(nevmax2, 0.02, marker='x', s=100, lw=3, c=cols[1])\n",
    "plt.scatter(nevmax3, 0.03, marker='x', s=100, lw=3, c=cols[2])\n",
    "plt.scatter(nevmax4, 0.04, marker='x', s=100, lw=3, c=cols[3])\n",
    "\n",
    "plt.ylim(0.005,0.045)\n",
    "plt.tick_params( labelsize=16 )\n",
    "\n",
    "#plt.legend(frameon=False, loc='lower right', fontsize=12)\n",
    "plt.tight_layout()\n",
    "\n"
   ]
  },
  {
   "cell_type": "code",
   "execution_count": null,
   "metadata": {},
   "outputs": [],
   "source": [
    "# COMPUTE THE DYNAMIC COMMUNICABILITY AND CALCULATE SOME PROPERTIES\n",
    "# 1.1) Define the simulation parameters\n",
    "# Define the temporal resolution\n",
    "ntfinal = 12.0\n",
    "ndt = 0.05\n",
    "ntpoints = arange(0.0, ntfinal+0.1*ndt, ndt)\n",
    "#nnsteps = len(ntpoints)\n",
    "\n",
    "# Set the decay time-constants τ, proportional to taumax\n",
    "# After normalization all taumax = 1.0, hence, we only need one value for\n",
    "# all four networks.\n",
    "ntau = 0.8\n",
    "\n",
    "# Define the inputs to every node\n",
    "stim = 1.0\n"
   ]
  },
  {
   "cell_type": "code",
   "execution_count": null,
   "metadata": {},
   "outputs": [],
   "source": [
    "# Calculate the evolution of communicability over time for the nets\n",
    "print('\\nCalculating the dynamic communicability tensors from t=0 to t=%3.1f, with step=%3.3f ...' %(ntfinal, ndt) )\n",
    "time1 = timer()\n",
    "nnetresp1 = sna.Resp_LC(nnet1.T, tau=ntau, S0=stim, tmax=ntfinal, timestep=ndt, case='regressed')\n",
    "nnetresp2 = sna.Resp_LC(nnet2.T, tau=ntau, S0=stim, tmax=ntfinal, timestep=ndt, case='regressed')\n",
    "nnetresp3 = sna.Resp_LC(nnet3.T, tau=ntau, S0=stim, tmax=ntfinal, timestep=ndt, case='regressed')\n",
    "nnetresp4 = sna.Resp_LC(nnet4.T, tau=ntau, S0=stim, tmax=ntfinal, timestep=ndt, case='regressed')\n",
    "time2 = timer()\n",
    "print( time2 - time1, 'seconds' )\n"
   ]
  },
  {
   "cell_type": "code",
   "execution_count": null,
   "metadata": {},
   "outputs": [],
   "source": [
    "# 1.4) Compute the global network responses\n",
    "# Sum of all pair-wise responses, at every time-point\n",
    "nglobalresp1 = sna.GlobalResponse(nnetresp1)\n",
    "nglobalresp2 = sna.GlobalResponse(nnetresp2)\n",
    "nglobalresp3 = sna.GlobalResponse(nnetresp3)\n",
    "nglobalresp4 = sna.GlobalResponse(nnetresp4)\n"
   ]
  },
  {
   "cell_type": "code",
   "execution_count": null,
   "metadata": {},
   "outputs": [],
   "source": [
    "# Plot the global network responses\n",
    "plt.figure()\n",
    "ax = plt.axes()\n",
    "ax.spines[['top','right']].set_visible(False)\n",
    "\n",
    "plt.plot(ntpoints, nglobalresp2, lw=3, c=cols[1],           label='small / dense')\n",
    "plt.plot(ntpoints, nglobalresp1, lw=3, c=cols[0], ls='--',  label='small / sparse')\n",
    "plt.plot(ntpoints, nglobalresp4, lw=3, c=cols[3],           label='large / dense')\n",
    "plt.plot(ntpoints, nglobalresp3, lw=3, c=cols[2], ls='--',  label='large / sparse')\n",
    "\n",
    "plt.ylim(-5,310)\n",
    "plt.tick_params( labelsize=14 )\n",
    "plt.xlabel('Time (a.u.)', fontsize=16)\n",
    "plt.ylabel('Global Netw. Response, $r(t)$', fontsize=16)\n",
    "\n",
    "plt.legend(frameon=False, fontsize=12)\n",
    "plt.tight_layout()\n"
   ]
  },
  {
   "cell_type": "code",
   "execution_count": null,
   "metadata": {},
   "outputs": [],
   "source": [
    "# Compare the (input) degrees to the node responses\n",
    "nnoderesp1 = sna.NodeResponses(nnetresp1)[0]\n",
    "nnoderesp2 = sna.NodeResponses(nnetresp2)[0]\n",
    "nnoderesp3 = sna.NodeResponses(nnetresp3)[0]\n",
    "nnoderesp4 = sna.NodeResponses(nnetresp4)[0]\n",
    "\n",
    "# Integrate the response of every node over time\n",
    "ntotnoderesp1 = sna.AreaUnderCurve(nnoderesp1, dt)\n",
    "ntotnoderesp2 = sna.AreaUnderCurve(nnoderesp2, dt)\n",
    "ntotnoderesp3 = sna.AreaUnderCurve(nnoderesp3, dt)\n",
    "ntotnoderesp4 = sna.AreaUnderCurve(nnoderesp4, dt)\n"
   ]
  },
  {
   "cell_type": "code",
   "execution_count": null,
   "metadata": {},
   "outputs": [],
   "source": [
    "# Plot the (input) degree - node response relations\n",
    "plt.figure()\n",
    "ax = plt.axes()\n",
    "ax.spines[['top','right']].set_visible(False)\n",
    "\n",
    "maxylim = max( ntotnoderesp1.max(),ntotnoderesp2.max(),ntotnoderesp3.max(),ntotnoderesp4.max() )\n",
    "\n",
    "plt.scatter(indeg1, ntotnoderesp1, c=cols[0], label='small - sparse')\n",
    "plt.scatter(indeg2, ntotnoderesp2, c=cols[1], label='small - dense')\n",
    "plt.scatter(indeg3, ntotnoderesp3, c=cols[2], label='large - sparse')\n",
    "plt.scatter(indeg4, ntotnoderesp4, c=cols[3], label='large - dense')\n",
    "\n",
    "plt.ylim(-0.02*maxylim, 1.05*maxylim)\n",
    "plt.tick_params( labelsize=14 )\n",
    "plt.xlabel( 'Node (in-)Degree ', fontsize=16 )\n",
    "plt.ylabel( 'Node (in-)Responses', fontsize=16 )\n",
    "\n",
    "plt.legend( frameon=False, fontsize=12 )\n",
    "plt.tight_layout()\n"
   ]
  },
  {
   "cell_type": "code",
   "execution_count": null,
   "metadata": {},
   "outputs": [],
   "source": []
  },
  {
   "cell_type": "code",
   "execution_count": null,
   "metadata": {},
   "outputs": [],
   "source": []
  },
  {
   "cell_type": "code",
   "execution_count": null,
   "metadata": {},
   "outputs": [],
   "source": []
  }
 ],
 "metadata": {
  "kernelspec": {
   "display_name": "Python 3 (ipykernel)",
   "language": "python",
   "name": "python3"
  },
  "language_info": {
   "codemirror_mode": {
    "name": "ipython",
    "version": 3
   },
   "file_extension": ".py",
   "mimetype": "text/x-python",
   "name": "python",
   "nbconvert_exporter": "python",
   "pygments_lexer": "ipython3",
   "version": "3.9.12"
  }
 },
 "nbformat": 4,
 "nbformat_minor": 4
}
