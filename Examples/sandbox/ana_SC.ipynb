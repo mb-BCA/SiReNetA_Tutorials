{
 "cells": [
  {
   "cell_type": "markdown",
   "id": "c4b2b665-8e02-4acd-aeee-d8c1c02f56d5",
   "metadata": {},
   "source": [
    "# Joint SC and FC analysis\n",
    "\n",
    "We can analyze the brain network using SC and FC. The comparison of the results allows for studying the relationship between structure and function. In other words, does a node with many anatomical connections (SC) also has strong correlations with other regions (FC)?"
   ]
  },
  {
   "cell_type": "code",
   "execution_count": null,
   "id": "9105066e-e9db-4e09-9f9d-9d12e2aba15b",
   "metadata": {},
   "outputs": [],
   "source": [
    "import numpy as np\n",
    "import networkx as nx\n",
    "import scipy.stats as stt\n",
    "\n",
    "import sireneta as sna\n",
    "from sireneta.netmodels import ShuffleLinks, ShuffleWeightsFixedLinks\n",
    "\n",
    "import matplotlib.pyplot as plt\n",
    "import matplotlib as mpl\n",
    "\n",
    "mpl.rcParams['font.size'] = 16"
   ]
  },
  {
   "cell_type": "markdown",
   "id": "52e76eae-a300-42b4-9208-5af2fb09825c",
   "metadata": {},
   "source": [
    "Let's have a look at an example SC matrix, using the "
   ]
  },
  {
   "cell_type": "code",
   "execution_count": null,
   "id": "716d41df-df56-4653-b96b-9ebe253eed0a",
   "metadata": {},
   "outputs": [],
   "source": [
    "# another example data from HCP with both structural and functional connectomes\n",
    "SC = np.load('../../Data/ex_SC.npy')\n",
    "\n",
    "# \"renormalize\" the weights using log\n",
    "SC_log = np.log(np.maximum(SC,1))"
   ]
  },
  {
   "cell_type": "code",
   "execution_count": null,
   "id": "4aca1f76-23cc-4b68-8591-fa4bd6837ffc",
   "metadata": {},
   "outputs": [],
   "source": [
    "plt.figure()\n",
    "plt.hist(SC.flatten(), bins=100)\n",
    "\n",
    "plt.figure()\n",
    "plt.hist(SC.flatten(), bins=100)\n",
    "plt.axis(ymax=100)\n",
    "\n",
    "print('number of zero weights in the original SC:', (SC==0).sum())\n",
    "\n",
    "plt.show()"
   ]
  },
  {
   "cell_type": "code",
   "execution_count": null,
   "id": "0905f229-0c5e-49de-aa56-78a496b30557",
   "metadata": {},
   "outputs": [],
   "source": [
    "plt.figure()\n",
    "plt.imshow(SC)\n",
    "plt.title('original SC')\n",
    "plt.colorbar()\n",
    "plt.tight_layout()\n",
    "\n",
    "plt.figure()\n",
    "plt.imshow(SC_log)\n",
    "plt.title('log SC')\n",
    "plt.colorbar()\n",
    "plt.tight_layout()\n",
    "\n",
    "plt.show()"
   ]
  },
  {
   "cell_type": "markdown",
   "id": "33e482d2-1b1b-41c1-83a2-b3aa27bd0200",
   "metadata": {},
   "source": [
    "Above we see clearly the two hemispheres in the SC matrix, with two sets of indices: from 0 to 49 and then from 50 to 99. The two versions of the SC matrix differ by the scale for the weights, with few extreme values for the original SC as compared to many large values for the log scale (mainly within the same hemisphere, though).\n",
    "\n",
    "We normalize the weights of both between 0 and 1."
   ]
  },
  {
   "cell_type": "code",
   "execution_count": null,
   "id": "798b0cc4-bcc1-4247-b85d-6965f315897e",
   "metadata": {
    "tags": []
   },
   "outputs": [],
   "source": [
    "SC = SC / SC.max()\n",
    "SC_log = SC_log / SC_log.max()\n",
    "\n",
    "# number of regions\n",
    "N = SC.shape[0]"
   ]
  },
  {
   "cell_type": "code",
   "execution_count": null,
   "id": "d9d68a95-8a63-4923-890f-c1e0cd852e3a",
   "metadata": {
    "tags": []
   },
   "outputs": [],
   "source": [
    "print(np.linalg.eigvals(SC_log))\n",
    "print(np.linalg.eigvals(SC_log).max())"
   ]
  },
  {
   "cell_type": "code",
   "execution_count": null,
   "id": "46294ba8-c037-4935-a3b7-1d408f42436d",
   "metadata": {
    "tags": []
   },
   "outputs": [],
   "source": [
    "vt = np.linspace(0,20,100)\n",
    "plt.plot(vt, np.exp(-(1.0/0.8-1.0) * vt))"
   ]
  },
  {
   "cell_type": "markdown",
   "id": "15d6db3e-5a6a-4fad-92a6-ddcd2f54eaf7",
   "metadata": {},
   "source": [
    "## Calculate network responses for all 5 propagator models\n",
    "\n",
    "Here we identify important regions (nodes) and groups of nodes determined by anatomical connections. We first look into the histogram of SC weights to binarize the matrix and create an undirected binary graph.\n",
    "\n",
    "- check effect of preproc (log)\n",
    "- check effect of prop model: similarity matrix between prop models for different measures\n",
    "- discuss equivalent of classical measures when changing prop model\n",
    "    - strength across time (decide one time to check in particular?)\n",
    "    - geodesic graph distance, TTP\n",
    "    - hierarchical community detection (merging over time), spectral gap of random walker Lambiotte"
   ]
  },
  {
   "cell_type": "code",
   "execution_count": null,
   "id": "c926b2a6-e3c8-40e6-9226-875cf5f43245",
   "metadata": {
    "tags": []
   },
   "outputs": [],
   "source": [
    "# normalize connectivity with respect to largest eigenvalue\n",
    "if False:\n",
    "    con = SC\n",
    "    lambda_max = np.linalg.eigvals(SC).max()\n",
    "    con_norm = SC / lambda_max\n",
    "else:\n",
    "    con = SC_log\n",
    "    lambda_max = np.linalg.eigvals(SC_log).max()\n",
    "    con_norm = SC_log / lambda_max\n",
    "\n",
    "# time specifics\n",
    "dt = 0.1\n",
    "T = 20.1\n",
    "td = np.arange(0,T, dtype=int)\n",
    "tc = np.arange(0,T,dt)\n",
    "nT = td.size\n",
    "\n",
    "rdc = sna.Resp_DiscreteCascade(con, tmax=20)\n",
    "rrw = sna.Resp_RandomWalk(con, tmax=20)\n",
    "rcc = sna.Resp_ContCascade(con_norm, tmax=20, timestep=dt)\n",
    "rlc = sna.Resp_LeakyCascade(con_norm, tau=0.8, tmax=20, timestep=dt)\n",
    "rcd = sna.Resp_ContDiffusion(con_norm, tmax=20, timestep=dt)\n",
    "\n",
    "# list of responses\n",
    "ts = [td, td, tc, tc, tc]\n",
    "rs = [rdc, rrw, rcc, rlc, rcd]\n",
    "labels = ['dc', 'rw', 'cc', 'lc', 'cd']\n",
    "n_pm = 5"
   ]
  },
  {
   "cell_type": "code",
   "execution_count": null,
   "id": "b8b751e4-96cb-41da-b898-6dc0849ead18",
   "metadata": {
    "tags": []
   },
   "outputs": [],
   "source": [
    "plt.figure()\n",
    "plt.subplot(211)\n",
    "for i in range(0,3):\n",
    "    plt.plot(ts[i], sna.GlobalResponse(rs[i]), label=labels[i])\n",
    "plt.axis(ymin=80, ymax=150)\n",
    "plt.legend(fontsize=10)\n",
    "plt.subplot(212)\n",
    "for i in range(3,5):\n",
    "    plt.plot(ts[i], sna.GlobalResponse(rs[i]), label=labels[i])\n",
    "plt.legend(fontsize=10)\n",
    "plt.show()"
   ]
  },
  {
   "cell_type": "code",
   "execution_count": null,
   "id": "3f437848-a4a6-4a99-a0e8-6d3ee01dd4bd",
   "metadata": {
    "tags": []
   },
   "outputs": [],
   "source": [
    "# node responses\n",
    "inrs = []\n",
    "onrs = []\n",
    "for i in range(n_pm):\n",
    "    inrs.append(sna.NodeResponses(rs[i])[0])\n",
    "    onrs.append(sna.NodeResponses(rs[i])[1])\n",
    "\n",
    "aspects = [0.1, 0.1, 1.0, 1.0, 1.0]"
   ]
  },
  {
   "cell_type": "code",
   "execution_count": null,
   "id": "be84ca28-9e06-4e2f-94cf-504c78f41d84",
   "metadata": {
    "tags": []
   },
   "outputs": [],
   "source": [
    "plt.figure(figsize=[10,10])\n",
    "for i in range(n_pm):\n",
    "    plt.subplot(n_pm,1,i+1)\n",
    "    plt.imshow(inrs[i].T, aspect=aspects[i])\n",
    "    plt.title(labels[i])\n",
    "    plt.colorbar()\n",
    "plt.tight_layout()\n",
    "plt.show()"
   ]
  },
  {
   "cell_type": "code",
   "execution_count": null,
   "id": "0797812d-2339-4bea-b8a0-d29064fbd429",
   "metadata": {
    "tags": []
   },
   "outputs": [],
   "source": [
    "plt.figure(figsize=[10,10])\n",
    "for i in range(n_pm):\n",
    "    plt.subplot(n_pm,1,i+1)\n",
    "    plt.imshow(onrs[i].T, aspect=aspects[i])\n",
    "    plt.title(labels[i])\n",
    "    plt.colorbar()\n",
    "plt.tight_layout()\n",
    "plt.show()"
   ]
  },
  {
   "cell_type": "code",
   "execution_count": null,
   "id": "80c4f66a-0ab3-4ccd-8836-ecbccfb463e8",
   "metadata": {
    "tags": []
   },
   "outputs": [],
   "source": [
    "plt.figure(figsize=[10,10])\n",
    "for i in range(n_pm):\n",
    "    plt.subplot(n_pm,1,i+1)\n",
    "    for j in range(20):\n",
    "        plt.plot(inrs[i][:,j], onrs[i][:,j])\n",
    "    plt.title(labels[i])\n",
    "plt.tight_layout()\n",
    "plt.show()"
   ]
  },
  {
   "cell_type": "code",
   "execution_count": null,
   "id": "1ea558c4-e278-4a03-8604-f5f0ee2e2677",
   "metadata": {
    "tags": []
   },
   "outputs": [],
   "source": [
    "i = 0\n",
    "j = 1\n",
    "\n",
    "plt.figure()\n",
    "for t in td:\n",
    "    plt.scatter(inrs[i][t,:], inrs[j][t,:])\n",
    "plt.xlabel(labels[i])\n",
    "plt.ylabel(labels[j])\n",
    "\n",
    "plt.figure()\n",
    "plt.scatter(onrs[i][td,:], onrs[j][td,:])\n",
    "plt.xlabel(labels[i])\n",
    "plt.ylabel(labels[j])\n",
    "\n",
    "plt.show()"
   ]
  },
  {
   "cell_type": "code",
   "execution_count": null,
   "id": "92e259a3-5882-4a62-9fd5-2e7020b8eb0d",
   "metadata": {
    "tags": []
   },
   "outputs": [],
   "source": [
    "i = 0\n",
    "j = 2\n",
    "\n",
    "plt.figure()\n",
    "plt.scatter(inrs[i][td,:], inrs[j][tdt,:])\n",
    "plt.xlabel(labels[i])\n",
    "plt.ylabel(labels[j])\n",
    "\n",
    "plt.figure()\n",
    "plt.scatter(onrs[i][td,:], onrs[j][tdt,:])\n",
    "plt.xlabel(labels[i])\n",
    "plt.ylabel(labels[j])\n",
    "\n",
    "plt.show()"
   ]
  },
  {
   "cell_type": "code",
   "execution_count": null,
   "id": "bf5fbfd6-7459-43fb-87a2-450710f74065",
   "metadata": {
    "tags": []
   },
   "outputs": [],
   "source": [
    "i = 0\n",
    "j = 3\n",
    "\n",
    "plt.figure()\n",
    "plt.scatter(inrs[i][td,:] , inrs[j][tdt,:])\n",
    "plt.xlabel(labels[i])\n",
    "plt.ylabel(labels[j])\n",
    "\n",
    "plt.figure()\n",
    "plt.scatter(onrs[i][td,:], onrs[j][tdt,:])\n",
    "plt.xlabel(labels[i])\n",
    "plt.ylabel(labels[j])\n",
    "\n",
    "plt.show()"
   ]
  },
  {
   "cell_type": "code",
   "execution_count": null,
   "id": "721cf396-d32f-464e-a9a5-4b4857588e98",
   "metadata": {
    "tags": []
   },
   "outputs": [],
   "source": [
    "i = 0\n",
    "j = 4\n",
    "\n",
    "plt.figure()\n",
    "plt.scatter(inrs[i][td,:], inrs[j][tdt,:])\n",
    "plt.xlabel(labels[i])\n",
    "plt.ylabel(labels[j])\n",
    "\n",
    "plt.figure()\n",
    "plt.scatter(onrs[i][td,:], onrs[j][tdt,:])\n",
    "plt.xlabel(labels[i])\n",
    "plt.ylabel(labels[j])\n",
    "\n",
    "plt.show()"
   ]
  },
  {
   "cell_type": "code",
   "execution_count": null,
   "id": "e8dd8447-1392-4a49-b234-be7794901107",
   "metadata": {
    "tags": []
   },
   "outputs": [],
   "source": [
    "# similarity between node responses\n",
    "dist_node = np.zeros([n_pm,n_pm,nT])\n",
    "\n",
    "tdt = []\n",
    "for t in td:\n",
    "    # equivalent continuous time\n",
    "    tdt.append(int(t/dt))\n",
    "    \n",
    "tts = [td, td, tdt, tdt, tdt]\n",
    "    \n",
    "for t in td:\n",
    "    for i in range(n_pm):\n",
    "        for j in range(n_pm):\n",
    "            dist_node[i,j,t] = 1.0 - stt.pearsonr(inrs[i][tts[i][t],:], inrs[j][tts[j][t],:])[0]\n",
    "            \n",
    "plt.figure(figsize=[10,10])\n",
    "for it, t in enumerate(range(1,nT,4)):\n",
    "    plt.subplot(5,1,it+1)\n",
    "    plt.imshow(dist_node[:,:,t], vmin=0.0, vmax=1.0, cmap='hot')\n",
    "    plt.colorbar()\n",
    "plt.tight_layout()\n",
    "plt.show()"
   ]
  },
  {
   "cell_type": "code",
   "execution_count": null,
   "id": "c1255575-b2c6-4144-86f8-da42af0bde67",
   "metadata": {
    "tags": []
   },
   "outputs": [],
   "source": [
    "# similarity between node responses\n",
    "dist_node = np.zeros([n_pm,n_pm,nT])\n",
    "\n",
    "tdt = []\n",
    "for t in td:\n",
    "    # equivalent continuous time\n",
    "    tdt.append(int(t/dt))\n",
    "    \n",
    "tts = [td, td, tdt, tdt, tdt]\n",
    "    \n",
    "for t in td:\n",
    "    for i in range(n_pm):\n",
    "        for j in range(n_pm):\n",
    "            dist_node[i,j,t] = 1.0 - stt.pearsonr(onrs[i][tts[i][t],:], onrs[j][tts[j][t],:])[0]\n",
    "            \n",
    "plt.figure(figsize=[10,10])\n",
    "for it, t in enumerate(range(1,nT,4)):\n",
    "    plt.subplot(5,1,it+1)\n",
    "    plt.imshow(dist_node[:,:,t], vmin=0.0, vmax=1.0, cmap='hot')\n",
    "    plt.colorbar()\n",
    "plt.tight_layout()\n",
    "plt.show()"
   ]
  },
  {
   "cell_type": "markdown",
   "id": "0d945873-e95d-43d6-af6e-e3c7bf173130",
   "metadata": {
    "tags": []
   },
   "source": [
    "# TTP\n",
    "\n",
    "- for DC, we choose 1 as a threshold\n",
    "- for "
   ]
  },
  {
   "cell_type": "markdown",
   "id": "b6ac82f2-02b9-4d59-a2c3-56a86b043483",
   "metadata": {},
   "source": [
    "# Comparison with surrogates\n",
    "\n",
    "using `ShuffleWeightsFixedLinks` and `ShuffleLinks`"
   ]
  },
  {
   "cell_type": "code",
   "execution_count": null,
   "id": "5868c821-9b39-44cb-b3fe-dec9389b8e60",
   "metadata": {
    "tags": []
   },
   "outputs": [],
   "source": [
    "shuf1_con = ShuffleWeightsFixedLinks(con)\n",
    "shuf1_con_norm = shuf1_con / np.real(np.linalg.eigvals(shuf1_con)).max()\n",
    "shuf1_rlc = sna.Resp_LeakyCascade(shuf1_con_norm, tau=0.8, tmax=20, timestep=dt)\n",
    "shuf1_inrlc, shuf1_onrlc = sna.NodeResponses(shuf1_rlc)\n",
    "\n",
    "shuf2_con = ShuffleLinks(con)\n",
    "shuf2_con_norm = shuf2_con / np.real(np.linalg.eigvals(shuf2_con)).max()\n",
    "shuf2_rlc = sna.Resp_LeakyCascade(shuf1_con_norm, tau=0.8, tmax=20, timestep=dt)\n",
    "shuf2_inrlc, shuf2_onrlc = sna.NodeResponses(shuf2_rlc)"
   ]
  },
  {
   "cell_type": "code",
   "execution_count": null,
   "id": "4f3f52fc-28a8-45a7-a462-c8101d896cc0",
   "metadata": {
    "tags": []
   },
   "outputs": [],
   "source": [
    "plt.figure(figsize=[10,10])\n",
    "plt.subplot(3,1,1)\n",
    "plt.plot(tc, inrs[3])\n",
    "plt.title('lc')\n",
    "plt.subplot(3,1,2)\n",
    "plt.plot(tc, shuf1_inrlc)\n",
    "plt.title('lc shuf fixed links')\n",
    "plt.subplot(3,1,3)\n",
    "plt.plot(tc, shuf2_inrlc)\n",
    "plt.title('lc shuf full')\n",
    "plt.tight_layout()\n",
    "plt.show()"
   ]
  },
  {
   "cell_type": "code",
   "execution_count": null,
   "id": "41b7fe85-2cf1-4258-9535-e3248ba5db32",
   "metadata": {
    "tags": []
   },
   "outputs": [],
   "source": [
    "plt.figure(figsize=[10,10])\n",
    "plt.subplot(3,1,1)\n",
    "plt.plot(inrs[3], onrs[3])\n",
    "plt.title('lc')\n",
    "plt.subplot(3,1,2)\n",
    "plt.plot(shuf1_inrlc, shuf1_onrlc)\n",
    "plt.title('lc shuf fixed links')\n",
    "plt.subplot(3,1,3)\n",
    "plt.plot(shuf2_inrlc, shuf2_onrlc)\n",
    "plt.title('lc shuf full')\n",
    "plt.tight_layout()\n",
    "plt.show()"
   ]
  },
  {
   "cell_type": "code",
   "execution_count": null,
   "id": "162cf1a6-4683-4bee-a87e-c4cbc19e93aa",
   "metadata": {
    "tags": []
   },
   "outputs": [],
   "source": [
    "plt.figure(figsize=[10,10])\n",
    "plt.subplot(2,1,1)\n",
    "plt.imshow(inrs[3].T-shuf1_inrlc.T, aspect=aspects[i])\n",
    "plt.title('lc - shuf fixed links')\n",
    "plt.subplot(2,1,2)\n",
    "plt.imshow(inrs[3].T-shuf2_inrlc.T, aspect=aspects[i])\n",
    "plt.title('lc - shuf full')\n",
    "plt.tight_layout()\n",
    "plt.show()"
   ]
  },
  {
   "cell_type": "code",
   "execution_count": null,
   "id": "11a0e65d-4774-4e39-8029-4330887ecf30",
   "metadata": {
    "tags": []
   },
   "outputs": [],
   "source": [
    "plt.figure(figsize=[10,10])\n",
    "plt.subplot(2,1,1)\n",
    "plt.imshow(onrs[3].T-shuf1_onrlc.T, aspect=aspects[i])\n",
    "plt.title('lc - shuf fixed links')\n",
    "plt.subplot(2,1,2)\n",
    "plt.imshow(onrs[3].T-shuf2_onrlc.T, aspect=aspects[i])\n",
    "plt.title('lc - shuf full')\n",
    "plt.tight_layout()\n",
    "plt.show()"
   ]
  },
  {
   "cell_type": "markdown",
   "id": "767cb092-d4a5-4f11-aa00-e7328179c3cc",
   "metadata": {},
   "source": [
    "# OLD"
   ]
  },
  {
   "cell_type": "code",
   "execution_count": null,
   "id": "dca60a74-4fc1-4b99-befd-2d944dafe4a0",
   "metadata": {},
   "outputs": [],
   "source": [
    "plt.figure()\n",
    "plt.hist(SC_log.flatten())\n",
    "plt.xlabel('SC value')\n",
    "plt.ylabel('con coount')\n",
    "plt.tight_layout()\n",
    "\n",
    "SC_bin = np.array(SC>0.01, dtype=int)\n",
    "#SC_bin = np.array(SC_log>0.5, dtype=int)\n",
    "print(SC_bin)\n",
    "print(SC_bin.diagonal())"
   ]
  },
  {
   "cell_type": "code",
   "execution_count": null,
   "id": "95f854b2-cfb3-427e-bb2c-f0fd90463fb3",
   "metadata": {},
   "outputs": [],
   "source": [
    "G = nx.from_numpy_array(SC_bin)\n",
    "nx.draw_circular(G)\n",
    "\n",
    "print('density:', nx.density(G))"
   ]
  },
  {
   "cell_type": "code",
   "execution_count": null,
   "id": "31f47465-9e87-4a0a-97aa-45fa266a2b3b",
   "metadata": {},
   "outputs": [],
   "source": [
    "plt.figure()\n",
    "plt.imshow(SC_bin)\n",
    "plt.title('binarized SC')\n",
    "plt.colorbar()\n",
    "plt.tight_layout()"
   ]
  },
  {
   "cell_type": "code",
   "execution_count": null,
   "id": "04f556a5-259c-49fa-aa07-850a59aabe25",
   "metadata": {},
   "outputs": [],
   "source": [
    "hist_deg = nx.degree_histogram(G)\n",
    "\n",
    "plt.figure()\n",
    "plt.bar(range(len(hist_deg)), hist_deg)\n",
    "plt.xticks(range(0,len(hist_deg),5))\n",
    "plt.xlabel('degree')\n",
    "plt.ylabel('node count')\n",
    "plt.show()"
   ]
  },
  {
   "cell_type": "markdown",
   "id": "a2bf9fe7-61fa-48f9-ac9d-6a376063a916",
   "metadata": {},
   "source": [
    "We can compare several centrality measures (node metrics) to see if they identify similar nodes as important nodes."
   ]
  },
  {
   "cell_type": "code",
   "execution_count": null,
   "id": "f76c1faa-453a-4efb-9b1f-eacca309e0e8",
   "metadata": {},
   "outputs": [],
   "source": [
    "dict_dc = nx.degree_centrality(G)\n",
    "dict_ec = nx.eigenvector_centrality(G)\n",
    "dict_bc = nx.betweenness_centrality(G)\n",
    "\n",
    "# keep results for comparison later\n",
    "ec_SC = np.array([v for v in nx.eigenvector_centrality(G).values()])\n",
    "\n",
    "bins = np.linspace(0.0,1.0,40)\n",
    "plt.figure()\n",
    "plt.hist(dict_dc.values(), bins=bins, histtype='step', label='deg')\n",
    "plt.hist(dict_ec.values(), bins=bins, histtype='step', label='eig')\n",
    "plt.hist(dict_bc.values(), bins=bins, histtype='step', label='bet')\n",
    "plt.xlabel('centrality value')\n",
    "plt.ylabel('node count')\n",
    "plt.legend()\n",
    "plt.tight_layout()"
   ]
  },
  {
   "cell_type": "code",
   "execution_count": null,
   "id": "3e82b55d-9eba-4b7e-a687-9c7c9129a835",
   "metadata": {},
   "outputs": [],
   "source": [
    "plt.figure()\n",
    "plt.scatter(dict_dc.values(), dict_ec.values())\n",
    "plt.xlabel('degree centrality')\n",
    "plt.ylabel('eigenvector centrality')\n",
    "plt.show()"
   ]
  },
  {
   "cell_type": "markdown",
   "id": "bc4101ee-8636-4bca-b49b-0b52f3b947b0",
   "metadata": {},
   "source": [
    "We can see with the scatter plot that the important nodes for degree centrality are globally the same as those for eigenvector centrality. What about betweenness centrality?"
   ]
  },
  {
   "cell_type": "code",
   "execution_count": null,
   "id": "ce650c56-8eaf-407f-a858-d860ef8bcf97",
   "metadata": {},
   "outputs": [],
   "source": [
    "plt.figure()\n",
    "plt.hist(dict_ec.values(), bins=40, histtype='step', label='eig')\n",
    "plt.xlabel('eig centrality value')\n",
    "plt.ylabel('node count')\n",
    "plt.legend()\n",
    "plt.tight_layout()\n",
    "\n",
    "plt.figure(figsize=[12,6])\n",
    "plt.subplot(1,3,1)\n",
    "plt.imshow(SC)\n",
    "plt.subplot(1,3,2)\n",
    "plt.imshow(SC_bin)\n",
    "plt.subplot(1,3,3)\n",
    "v_ec_SC = np.zeros([N,1])\n",
    "for i, ec in enumerate(dict_ec.values()):\n",
    "    if ec>0.11:\n",
    "        v_ec_SC[i] = 1\n",
    "plt.imshow(v_ec_SC, aspect=0.01)\n",
    "plt.show()"
   ]
  },
  {
   "cell_type": "markdown",
   "id": "4dc87e89-04cd-49a3-8809-7f83e37125e1",
   "metadata": {},
   "source": [
    "The right panel on the bottom plot corresponds to a binary vector with important ndoes in yellow (value equal to 1). In this way we obtain a list of important nodes in the networkv, the threshold being determined from the histogram.\n",
    "\n",
    "What about the structure in terms of group of nodes? Let's check the core?"
   ]
  },
  {
   "cell_type": "code",
   "execution_count": null,
   "id": "ac7f2e67-1ee8-4680-a533-5b6dcb861def",
   "metadata": {},
   "outputs": [],
   "source": [
    "pos = nx.kamada_kawai_layout(G)\n",
    "nx.draw(G, pos=pos)\n",
    "nx.draw_networkx_labels(G, pos=pos)\n",
    "\n",
    "G_core = nx.k_core(G)\n",
    "nx.draw(G_core, pos=pos, node_color='red')\n",
    "\n",
    "plt.show()"
   ]
  },
  {
   "cell_type": "code",
   "execution_count": null,
   "id": "0c38f59e-957b-427e-b83e-acea5a34ffd4",
   "metadata": {},
   "outputs": [],
   "source": [
    "plt.figure(figsize=[12,6])\n",
    "plt.subplot(1,3,1)\n",
    "plt.imshow(SC)\n",
    "plt.subplot(1,3,2)\n",
    "plt.imshow(SC_bin)\n",
    "plt.subplot(1,3,3)\n",
    "v_core = np.zeros([N,1])\n",
    "for i in G_core:\n",
    "    v_core[i] = 1\n",
    "plt.imshow(v_core, aspect=0.01)\n",
    "plt.show()"
   ]
  },
  {
   "cell_type": "markdown",
   "id": "d21f2ed1-57db-4871-a4c5-717a1e39a78d",
   "metadata": {},
   "source": [
    "The core indicates that almost all regions are strongly connected, without a division between the two hemispheres. Let's have a look at communities from the binary matrix."
   ]
  },
  {
   "cell_type": "code",
   "execution_count": null,
   "id": "c3dcb93e-3520-4be7-b430-aeda25ba298b",
   "metadata": {},
   "outputs": [],
   "source": [
    "list_com = nx.community.greedy_modularity_communities(G)\n",
    "for i, com in enumerate(list_com):\n",
    "    print(f'{i}-th community:', sorted(com))"
   ]
  },
  {
   "cell_type": "code",
   "execution_count": null,
   "id": "7138255b-f8e7-4cff-a7fe-0a890ecdc724",
   "metadata": {
    "scrolled": true
   },
   "outputs": [],
   "source": [
    "plt.figure(figsize=[18,6])\n",
    "plt.subplot(1,3,1)\n",
    "plt.imshow(SC)\n",
    "plt.subplot(1,3,2)\n",
    "plt.imshow(SC_bin)\n",
    "plt.subplot(1,3,3)\n",
    "v_comm_SC = np.zeros([N,N])\n",
    "for c in range(len(list_com)):\n",
    "    for i in list_com[c]:\n",
    "        for j in list_com[c]:\n",
    "            # check if nodes i and j in same community for SC then FC\n",
    "            if not i==j:\n",
    "                v_comm_SC[i,j] = c+1\n",
    "plt.imshow(v_comm_SC, vmin=0.0, cmap='tab20')\n",
    "plt.colorbar()\n",
    "\n",
    "plt.show()"
   ]
  }
 ],
 "metadata": {
  "kernelspec": {
   "display_name": "Python 3 (ipykernel)",
   "language": "python",
   "name": "python3"
  },
  "language_info": {
   "codemirror_mode": {
    "name": "ipython",
    "version": 3
   },
   "file_extension": ".py",
   "mimetype": "text/x-python",
   "name": "python",
   "nbconvert_exporter": "python",
   "pygments_lexer": "ipython3",
   "version": "3.11.7"
  }
 },
 "nbformat": 4,
 "nbformat_minor": 5
}
