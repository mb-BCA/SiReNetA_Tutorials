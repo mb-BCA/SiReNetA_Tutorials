{
 "cells": [
  {
   "cell_type": "markdown",
   "metadata": {},
   "source": [
    "# 2. Responses to Stimuli and Deriving Metrics\n",
    "\n",
    "Authors: **Gorka Zamora-López** and **Matthieu Gilson**\n",
    "\n",
    "---------------------\n",
    "\n",
    "This notebook is part of an introductory tutorial for the use of *Stimulus-Response Network Analysis* ([SiReNetA](https://github.com/mb-BCA/SiReNetA)) to study the structure of complex networks:\n",
    "1. *[Getting Started and Overview](1_GettingStarted.ipynb)*\n",
    "2. **[Calculating Response to Stimulus and Metrics](2_Basics_StimRespMetrics.ipynb)**\n",
    "3. *[Canonical Models](3_Basics_CanonModels.ipynb)*\n",
    "4. *[Comparing Networks](4_UseCase_CompareNets.ipynb)*\n",
    "5. *[Network Distance](5_UseCase_NetDist.ipynb)*\n",
    "6. *[Weighted Networks](6_Basics_WeightedNets.ipynb)* \n",
    "\n",
    "---------------------\n",
    "\n",
    "### Outline and functions used in this notebook\n",
    "* Overview of basic concepts.\n",
    "    * Pair-wise, node-wise and network level responses.\n",
    "    * Network metrics from the responses.\n",
    "    * Running simulations of the canonical models.\n",
    "* `GlobalResponse`: evaluation of whole network effect resulting from stimulation\n",
    "* `NodeResponses`: evaluation of broadcasting and receiving properties of nodes\n",
    "* `Time2Peak` (TTP) and time-to-saturation that are proxy for distances in the graph\n",
    "\n",
    "---------------------"
   ]
  },
  {
   "cell_type": "markdown",
   "metadata": {},
   "source": [
    "#### Import libraries\n",
    "\n",
    "We firstly import the libraries we will need."
   ]
  },
  {
   "cell_type": "code",
   "execution_count": 2,
   "metadata": {},
   "outputs": [],
   "source": [
    "# Python standard library imports\n",
    "from timeit import default_timer as timer\n",
    "\n",
    "# Third party imports\n",
    "import matplotlib.pyplot as plt\n",
    "import numpy as np\n",
    "import numpy.linalg\n",
    "\n",
    "# Import SiReNetA\n",
    "import sireneta as sna\n"
   ]
  },
  {
   "cell_type": "code",
   "execution_count": 24,
   "metadata": {},
   "outputs": [],
   "source": [
    "# Define some plotting options to control visualization\n",
    "%matplotlib inline\n",
    "# Define the default scale for the plots\n",
    "plt.rcParams['figure.dpi'] = 72\n",
    "\n",
    "# Define the colors for the plots later\n",
    "#cols = ['deepskyblue', '#1f77b4', 'red', '#d62728']\n",
    "cols = ['#1f77b4', '#ff7f0e', '#2ca02c', '#d62728', '#9467bd', '#8c564b','#e377c2', '#7f7f7f',\n",
    "        '#bcbd22', '#17becf' ]\n",
    "\n",
    "# Define a new \"BwR\", \"Blues\" and \"Reds\" colormaps\n",
    "from matplotlib.colors import ListedColormap\n",
    "newcmap = genfromtxt('../Data/Matplotlib_colormap_div.csv', delimiter=',')\n",
    "newbwr = ListedColormap(newcmap)\n",
    "newReds = ListedColormap(newcmap[128:, :])\n",
    "newBlues = ListedColormap(newcmap[:128, :])"
   ]
  },
  {
   "cell_type": "markdown",
   "metadata": {},
   "source": [
    "<br> \n",
    "\n",
    "## 2.1. Basic concepts: understanding response curves\n",
    "\n",
    "The aim of *Response Network Analysis (SRNA)* is to characterise the properties of complex networks from a dynamical perspective, alternatively to the combinatorial or probabilistic approach of classical graph theory. Under *SRNA* the observed network properties depend both on the structural connectivity (adjacency matrix *A*) but also on the rules governing how agents, particles or signals propagate along the network. Accordingly, the same connectivity may reveal different properties under different propagation paradigms.\n",
    "\n",
    "The core idea behind *SRNA* is to reveal the properties of networks by probing them via localised perturbations. A stimulus of unit amplitude is applied at node *j* at time *t = 0* elicits responses $\\mathcal{R}_{ij}(t)$ at all other nodes *i* over time. The pair-wise response, from *j* to *i*, is the result of the stimulus propagating over all possible routes, of all lengths, at different times. Hence, in *SRNA* the spatio-temporal response matrices $\\mathcal{R}_{ij}(t)$ contain all the necessary information to characterise the network (jointly with its dynamics). \n",
    "\n",
    "<!---\n",
    ">Graph analysis : Connectivity matrix *A*   ––>   probabilistic metrics.\n",
    "\n",
    ">SRNA :  Connectivity matrix *A* + canonical propagation model  ––>  $\\mathcal{R}_{ij}(t)$  ––>  spatio-temporal metrics.\n",
    "REPLACE THIS BY A FIGURE !!\n",
    "--->"
   ]
  },
  {
   "cell_type": "markdown",
   "metadata": {},
   "source": [
    "For a first illustration, we consider the small network below, apply initially a unit stimulus at the first node to observe the responses elicited on the other nodes, as the activity propagates along the chain.\n",
    "\n",
    "<img src=\"img/PathDigraph1.jpg\"  width=\"400\" alt=\"Path Digraph, stim j=1\" />\n",
    "\n",
    "We will also assume the activity propagates following the *leaky-cascade* canonical propagation model:\n",
    "\n",
    "$$\\dot{\\mathbf{x}}(t) = - \\frac{1}{\\tau} \\mathbf{x}(t) \\,+\\, A \\, \\mathbf{x}(t) $$\n",
    "\n",
    "where $\\mathbf{x}(t)$ is are the *N* signals and $\\tau$ is a leakage time-constant controlling for the dissipation rate. See [xxxxx](#) for the details of the model.\n",
    "\n",
    "\n",
    "In this first example we will: \n",
    "* Create the digraph\n",
    "* apply a perturbation at the first node,\n",
    "* explore subsequent responses in other nodes over time\n",
    "* visualise the node-wise input and output responses.\n",
    "\n",
    "\n",
    "\n",
    "\n",
    "\n"
   ]
  },
  {
   "cell_type": "code",
   "execution_count": 4,
   "metadata": {},
   "outputs": [],
   "source": [
    "#  Load the directed path graph\n",
    "net1 = np.loadtxt('../Data/Testnet_PathDigraph_N6.txt', dtype=int)\n",
    "N = len(net1)"
   ]
  },
  {
   "cell_type": "markdown",
   "metadata": {},
   "source": [
    "We now define an _**external perturbation**_, which is encoded in the `stimvec` array, containing the amplitude on the initial stimuli at each node. In this case, we assume an stimulus of unit amplitude, only at the first node.\n",
    "\n",
    "_**WARNING !! Need to input `net.T` instead of net ...**_"
   ]
  },
  {
   "cell_type": "code",
   "execution_count": 13,
   "metadata": {},
   "outputs": [
    {
     "name": "stdout",
     "output_type": "stream",
     "text": [
      "0.5042995530002372 seconds\n"
     ]
    }
   ],
   "source": [
    "# Define the simulation parameters\n",
    "# Set the temporal resolution\n",
    "tfinal = 12\n",
    "dt = 0.01\n",
    "tpoints1 = np.arange(0.0, tfinal+dt, dt)\n",
    "nsteps1 = len(tpoints1)\n",
    "\n",
    "# Set the leakage time-constants τ\n",
    "tau = 1.0\n",
    "\n",
    "# Define the stimulation amplitude to every node\n",
    "# In this example, only the first node is stimulated\n",
    "stimvec = np.zeros(N)\n",
    "stimvec[0] = 1.0\n",
    "\n",
    "# Calculate temporal evolution of the pair-wise responses R(t)\n",
    "time1 = timer()\n",
    "#R1 = sna.Resp_ContCascade(net1.T, S0=stimvec, tmax=tfinal, timestep=dt)\n",
    "R1 = sna.Resp_LeakyCascade(net1.T, S0=stimvec, tmax=tfinal, timestep=dt)\n",
    "time2 = timer()\n",
    "print( time2 - time1, 'seconds' )"
   ]
  },
  {
   "cell_type": "markdown",
   "metadata": {},
   "source": [
    "### Pair-wise responses"
   ]
  },
  {
   "cell_type": "code",
   "execution_count": 16,
   "metadata": {},
   "outputs": [
    {
     "data": {
      "image/png": "[encoded data removed]",
      "text/plain": [
       "<Figure size 864x432 with 12 Axes>"
      ]
     },
     "metadata": {},
     "output_type": "display_data"
    }
   ],
   "source": [
    "# Visualise the pair-wise response matrices at times t = 0.5, 1, 2, 4, 6, 8\n",
    "maxresp = R1.max()\n",
    "\n",
    "tidxlist = [50,100,200,400,600,800]\n",
    "plt.figure(figsize=[12,6])\n",
    "for i, tidx in enumerate(tidxlist):\n",
    "    t = tpoints1[tidx]\n",
    "    plt.subplot(2,3,i+1)\n",
    "    plt.title('$\\mathcal{R}(t)$ response matrix at t=%1.1f' %t)\n",
    "    plt.imshow(R1[tidx], cmap=newReds)\n",
    "    plt.clim(0,maxresp)\n",
    "    plt.colorbar()\n",
    "    plt.xticks(np.arange(N), np.arange(N)+1)\n",
    "    plt.yticks(np.arange(N), np.arange(N)+1)\n",
    "    plt.xlabel('source node')\n",
    "    plt.ylabel('target node')\n",
    "\n",
    "plt.tight_layout()"
   ]
  },
  {
   "cell_type": "code",
   "execution_count": 25,
   "metadata": {},
   "outputs": [
    {
     "data": {
      "image/png": "[encoded data removed]",
      "text/plain": [
       "<Figure size 720x216 with 2 Axes>"
      ]
     },
     "metadata": {},
     "output_type": "display_data"
    }
   ],
   "source": [
    "# Plot the responses to stimulus applied at j = 1.\n",
    "plt.figure(figsize=(10,3))\n",
    "\n",
    "# Plot the responses from 1 to others\n",
    "plt.subplot(1,2,1)\n",
    "plt.title( 'Responses at i, due to stimulus at j=1', fontsize=14)\n",
    "for i in range(1,N):\n",
    "    plt.plot(tpoints1, R1[:,i,0], color=cols[i], label='1 $\\\\to$ %d' %(i+1))\n",
    "plt.xlabel('Time (a.u.)', fontsize=14)\n",
    "plt.ylabel('Pair-wise Response', fontsize=14)\n",
    "plt.legend(frameon=False)\n",
    "\n",
    "# Plot the responses from 2 to others\n",
    "plt.subplot(1,2,2)\n",
    "plt.title( 'Responses at i, due to stimulus at j=2', fontsize=14)\n",
    "for i in [0,2,3,4,5]:\n",
    "    plt.plot(tpoints1, R1[:,i,1], color=cols[i], label='2 $\\\\to$ %d' %(i+1))\n",
    "plt.xlabel('Time (a.u.)', fontsize=14)\n",
    "plt.ylabel('Pair-wise Response', fontsize=14)\n",
    "plt.legend(frameon=False)\n",
    "\n",
    "\n",
    "plt.tight_layout()"
   ]
  },
  {
   "cell_type": "markdown",
   "metadata": {},
   "source": [
    "LESSON 1: Responses are conditional. No input at *j*, then no responses detected at other nodes.\n",
    "\n",
    "LESSON 2: Responses are pair-wise **BUT (!!)** through the network !!\n",
    "\n",
    "<br>\n",
    "\n",
    "### Stimuli are independent, so are their responses\n",
    "\n",
    "Perturbations are independent. Doesn't matter whether they are applied simultaneously or one after another !!!\n",
    "\n",
    "NEXT: Give two inputs j=1 and j=3. Visualize again the response matrices.\n",
    "\n",
    "\n",
    "<img src=\"img/PathDigraph3.jpg\"  width=\"500\" alt=\"Path Digraph, stim j=1 and j=4\" />"
   ]
  },
  {
   "cell_type": "code",
   "execution_count": 11,
   "metadata": {},
   "outputs": [
    {
     "name": "stdout",
     "output_type": "stream",
     "text": [
      "0.3799975319998339 seconds\n"
     ]
    }
   ],
   "source": [
    "# Define the stimulation amplitude to every node\n",
    "# In this example, only the first node is stimulated\n",
    "stimvec = np.zeros(N)\n",
    "stimvec[0] = 1.0\n",
    "stimvec[3] = 1.0\n",
    "\n",
    "# Calculate temporal evolution of the pair-wise responses R(t)\n",
    "time1 = timer()\n",
    "R2 = sna.Resp_ContCascade(net1.T, S0=stimvec, tmax=tfinal, timestep=dt)\n",
    "#R2 = sna.Resp_LeakyCascade(net1.T, S0=stimvec, tmax=tfinal, timestep=dt)\n",
    "time2 = timer()\n",
    "print( time2 - time1, 'seconds' )"
   ]
  },
  {
   "cell_type": "code",
   "execution_count": 12,
   "metadata": {},
   "outputs": [
    {
     "data": {
      "image/png": "[encoded data removed]",
      "text/plain": [
       "<Figure size 864x432 with 12 Axes>"
      ]
     },
     "metadata": {},
     "output_type": "display_data"
    }
   ],
   "source": [
    "# Visualise the pair-wise response matrices at times t = 0.5, 1, 2, 4, 6, 8\n",
    "maxresp = R2.max()\n",
    "\n",
    "tidxlist = [50,100,200,400,600,800]\n",
    "plt.figure(figsize=[12,6])\n",
    "for i, tidx in enumerate(tidxlist):\n",
    "    t = tpoints1[tidx]\n",
    "    plt.subplot(2,3,i+1)\n",
    "    plt.title('$\\mathcal{R}(t)$ response matrix at t=%1.1f' %t)\n",
    "    plt.imshow(R2[tidx], cmap=newReds)\n",
    "    plt.clim(0,maxresp)\n",
    "    plt.colorbar()\n",
    "    plt.xticks(np.arange(N), np.arange(N)+1)\n",
    "    plt.yticks(np.arange(N), np.arange(N)+1)\n",
    "    plt.xlabel('source node')\n",
    "    plt.ylabel('target node')\n",
    "\n",
    "plt.tight_layout()"
   ]
  },
  {
   "cell_type": "markdown",
   "metadata": {},
   "source": [
    "### Changing the canonical propagation model\n",
    "\n",
    "Same example with ... the discrete cascade (?) and the random walk."
   ]
  },
  {
   "cell_type": "code",
   "execution_count": null,
   "metadata": {},
   "outputs": [],
   "source": []
  },
  {
   "cell_type": "markdown",
   "metadata": {},
   "source": [
    "### Input and output responses to quantify the receiving and broadcasting properties of nodes\n",
    "\n",
    "For this, move to the directed TestNet_N8, and add stimulus in all nodes. Show \n",
    "\n",
    "- response matrices,\n",
    "- in / out responses,\n",
    "- Global network response."
   ]
  },
  {
   "cell_type": "code",
   "execution_count": null,
   "metadata": {},
   "outputs": [],
   "source": []
  },
  {
   "cell_type": "code",
   "execution_count": null,
   "metadata": {},
   "outputs": [],
   "source": []
  },
  {
   "cell_type": "code",
   "execution_count": null,
   "metadata": {},
   "outputs": [],
   "source": []
  },
  {
   "cell_type": "code",
   "execution_count": null,
   "metadata": {},
   "outputs": [],
   "source": []
  },
  {
   "cell_type": "markdown",
   "metadata": {},
   "source": [
    "## Input and output responses to quantify the receiving and broadcasting properties of nodes\n",
    "\n",
    "As seen, the effect of the stimulus initially applied at the first node affects other nodes down the chain at different times. We visualize this more explicitely, computing the input and output responses of every node over time."
   ]
  },
  {
   "cell_type": "code",
   "execution_count": null,
   "metadata": {},
   "outputs": [],
   "source": [
    "# Calculate the in-/out- full-flow for every node\n",
    "# infullflow and outfullflow are two arrays of shape (N,nsteps)\n",
    "inresp1, outresp1 = sna.NodeResponses(resp1, selfloops=True)\n",
    "\n",
    "# Plot a figure wit the input and output responses of every node\n",
    "plt.figure()\n",
    "plt.subplot(2,1,1)\n",
    "plt.title('Response for every node', fontsize=12)\n",
    "for i in range(N):\n",
    "    plt.plot(tpoints1, inresp1[:,i], label='i = %d' %(i+1))\n",
    "#plt.ylim(-0.005,0.1)\n",
    "plt.ylabel('in-responses', fontsize=14);\n",
    "plt.legend(frameon=False, loc='center left')\n",
    "\n",
    "plt.subplot(2,1,2)\n",
    "for i in range(N):\n",
    "    plt.plot(tpoints1, outresp1[:,i], label='i = %d' %(i+1))\n",
    "plt.ylabel('out-responses', fontsize=14);\n",
    "plt.xlabel('Time (a.u.)', fontsize=14);"
   ]
  },
  {
   "cell_type": "markdown",
   "metadata": {},
   "source": [
    "## Area under the curve as a measure of effect integrated over time\n",
    "\n",
    "xxx TO CLEAN"
   ]
  },
  {
   "cell_type": "code",
   "execution_count": null,
   "metadata": {},
   "outputs": [],
   "source": [
    "# Visualise the total link-wise responses\n",
    "pw_resp1 = sna.AreaUnderCurve(resp1, timestep=1)\n",
    "\n",
    "plt.figure(figsize=(8,4))\n",
    "plt.subplot(1,2,1)\n",
    "plt.title('Adjacency matrix')\n",
    "plt.imshow(dirnet, cmap='gray_r')\n",
    "plt.colorbar()\n",
    "plt.xticks(np.arange(N), np.arange(N)+1)\n",
    "plt.yticks(np.arange(N), np.arange(N)+1)\n",
    "plt.xlabel('source node')\n",
    "plt.ylabel('target node')\n",
    "plt.tight_layout()\n",
    "\n",
    "plt.subplot(1,2,2)\n",
    "plt.title('Total pair-wise responses (influence)')\n",
    "plt.imshow(pw_resp1, cmap='gray_r', vmin=0)\n",
    "plt.colorbar()\n",
    "plt.xticks(np.arange(N), np.arange(N)+1)\n",
    "plt.yticks(np.arange(N), np.arange(N)+1)\n",
    "plt.xlabel('source node')\n",
    "plt.ylabel('target node')\n",
    "plt.tight_layout()\n",
    "\n",
    "plt.tight_layout()"
   ]
  },
  {
   "cell_type": "markdown",
   "metadata": {},
   "source": []
  },
  {
   "cell_type": "markdown",
   "metadata": {},
   "source": [
    "&nbsp;\n",
    "\n",
    "--------\n",
    "## XXX TO CLEAN 3. First steps into Stimulus-Response Network Analysis (SRNA)\n",
    "\n",
    "\n",
    "The core idea behind *SRNA* is to reveal the properties of networks by probing how the nodes of a network respond localised perturbations. That is, to apply a stimulus of unit amplitude to one node and observe how the others respond. The manner in which the stimulus propagates throughout the network depends on the dynamical propagation dynamical model selected. Network metrics are then extracted out of the pair-wise, node-wise or global responses.\n",
    "\n",
    "For illustration, we will load the small graph (binary and undirected) depicted below and  visualise the different types of responses.\n",
    "\n",
    "![Sample Graph, n=8 nodes](#)\n",
    "\n"
   ]
  },
  {
   "cell_type": "markdown",
   "metadata": {},
   "source": [
    "## Changing the propagation model\n",
    "\n",
    "Now we switch to the continuous leaky cascade, a different model in continuous time"
   ]
  },
  {
   "cell_type": "code",
   "execution_count": null,
   "metadata": {},
   "outputs": [],
   "source": [
    "\n",
    "# Find the spectral radius and the largest time constant \n",
    "evs = np.linalg.eigvals(dirnet)\n",
    "evsnorms = np.zeros(N, float)\n",
    "for i in range(N):\n",
    "    evsnorms[i] = np.real(evs[i])\n",
    "evmax = evsnorms.max()\n",
    "maxtau = 1./evmax\n",
    "\n",
    "print( 'Spectral radius:\\t%2.5f' %evmax )\n",
    "print( 'Largest possible tau:\\t%2.5f' %maxtau )"
   ]
  },
  {
   "cell_type": "markdown",
   "metadata": {},
   "source": [
    "For a given network represented by $A$, the tendency of the network dynamics to diverge is represented by the largest eigenvalue (spectral radious) $\\lambda_{max}$ of $A$. To assure the convergence of the system the leakage along each node needs to counterbalance this tendency. For that, the condicion $\\tau < \\tau_{max}$ with $\\tau_{max} = 1 \\,/\\, \\lambda_{max}$ needs to be fulfilled. \n",
    "In this particular case, all the eigenvalues of the directed path graph are zero, thus, $\\tau_{max} = \\infty$ and the system converges for any value of $\\tau$. But this will not be the case in general.\n",
    "\n",
    "We now define an _**external perturbation**_, which is encoded in the `stimvec` array, containing the amplitude on the initial stimuli at each node. In this case, we assume an stimulus of unit amplitude, only at the first node."
   ]
  },
  {
   "cell_type": "code",
   "execution_count": null,
   "metadata": {},
   "outputs": [],
   "source": [
    "# Set the matrix of noisy inputs\n",
    "stimvec = np.zeros(N)\n",
    "stimvec[0] = 1.0\n",
    "\n",
    "# Set a leakage time-constant smaller than the largest possible value above\n",
    "tau = 0.25\n",
    "\n",
    "# Define the temporal resolution for the \"simulation\"\n",
    "dt = 0.01\n",
    "tpoints2 = np.arange(0.0, tfinal+dt, dt)\n",
    "nsteps2 = len(tpoints2)\n",
    "\n",
    "# Calculate the pair-wise responses for a time span between 0 and tmax\n",
    "resp2 = sna.Resp_LeakyCascade(dirnet, S0=stimvec, tau=tau, tmax=tfinal, timestep=dt, case='full') "
   ]
  },
  {
   "cell_type": "code",
   "execution_count": null,
   "metadata": {},
   "outputs": [],
   "source": [
    "# Visualise the flow matrices at different times\n",
    "tlist = [0, 100, 200, 400, 600, 800, 1000]\n",
    "for tidx in tlist:\n",
    "    plt.figure()\n",
    "    plt.title('Time t = %2.2f' %(tidx*dt) )\n",
    "    plt.imshow(resp2[tidx])\n",
    "    plt.colorbar()\n",
    "    plt.xticks(np.arange(N), np.arange(N)+1)\n",
    "    plt.yticks(np.arange(N), np.arange(N)+1)\n",
    "    plt.xlabel('source node')\n",
    "    plt.ylabel('target node')\n",
    "    plt.tight_layout()\n"
   ]
  },
  {
   "cell_type": "markdown",
   "metadata": {},
   "source": [
    "As seen, the effect of the stimulus initially applied at the first node affects other nodes down the chain at different times. We visualize this more explicitely, computing the input and output responses of every node over time."
   ]
  },
  {
   "cell_type": "code",
   "execution_count": null,
   "metadata": {},
   "outputs": [],
   "source": [
    "# Calculate the in-/out- full-flow for every node\n",
    "# infullflow and outfullflow are two arrays of shape (N,nsteps)\n",
    "inresp2, outresp2 = sna.NodeResponses(resp2, selfloops=True)\n",
    "\n",
    "# Plot a figure wit the input and output responses of every node\n",
    "plt.figure()\n",
    "plt.subplot(2,1,1)\n",
    "plt.title('Full-flow for every node. tau = %1.2f' %tau, fontsize=12)\n",
    "for i in range(N):\n",
    "    plt.plot(tpoints2, inresp2[:,i], label='i = %d' %(i+1))\n",
    "#plt.ylim(-0.005,0.1)\n",
    "plt.ylabel('in-responses', fontsize=14);\n",
    "plt.legend(frameon=False)\n",
    "\n",
    "plt.subplot(2,1,2)\n",
    "for i in range(N):\n",
    "    plt.plot(tpoints2, outresp2[:,i], label='i = %d' %(i+1))\n",
    "plt.ylabel('out-responses', fontsize=14);\n",
    "plt.xlabel('Time (a.u.)', fontsize=14);"
   ]
  },
  {
   "cell_type": "code",
   "execution_count": null,
   "metadata": {},
   "outputs": [],
   "source": [
    "# Visualise the total link-wise responses\n",
    "pw_resp2 = sna.AreaUnderCurve(resp2, timestep=1)\n",
    "\n",
    "plt.figure(figsize=(8,4))\n",
    "plt.subplot(1,2,1)\n",
    "plt.title('Adjacency matrix')\n",
    "plt.imshow(dirnet, cmap='gray_r')\n",
    "plt.colorbar()\n",
    "plt.xticks(np.arange(N), np.arange(N)+1)\n",
    "plt.yticks(np.arange(N), np.arange(N)+1)\n",
    "plt.xlabel('source node')\n",
    "plt.ylabel('target node')\n",
    "\n",
    "plt.subplot(1,2,2)\n",
    "plt.title('Total pair-wise responses (influence)')\n",
    "plt.imshow(pw_resp2, cmap='gray_r', vmin=0)\n",
    "plt.colorbar()\n",
    "plt.xticks(np.arange(N), np.arange(N)+1)\n",
    "plt.yticks(np.arange(N), np.arange(N)+1)\n",
    "plt.xlabel('source node')\n",
    "plt.ylabel('target node')\n",
    "\n",
    "plt.tight_layout()"
   ]
  },
  {
   "cell_type": "markdown",
   "metadata": {},
   "source": [
    "## Comparison of the global and node responses across the 2 propagation models"
   ]
  },
  {
   "cell_type": "code",
   "execution_count": null,
   "metadata": {},
   "outputs": [],
   "source": [
    "# Calculate the global response\n",
    "glb_resp1 = sna.GlobalResponse(resp1)\n",
    "glb_resp2 = sna.GlobalResponse(resp2)\n",
    "\n",
    "\n",
    "plt.figure()\n",
    "plt.plot(tpoints1, glb_resp1, label='discrete cascade')\n",
    "plt.plot(tpoints2, glb_resp2, label='leaky cascade')\n",
    "plt.tight_layout()\n",
    "\n",
    "plt.figure()\n",
    "plt.title('discrete cascade')\n",
    "plt.imshow(inresp1.T)\n",
    "plt.colorbar()\n",
    "plt.yticks(np.arange(N), np.arange(N)+1)\n",
    "plt.xlabel('time')\n",
    "plt.ylabel('target node')\n",
    "plt.tight_layout()\n",
    "\n",
    "plt.figure('leaky cascade')\n",
    "plt.imshow(inresp2.T, aspect=100)\n",
    "plt.colorbar()\n",
    "plt.yticks(np.arange(N), np.arange(N)+1)\n",
    "plt.xlabel('time')\n",
    "plt.ylabel('target node')\n",
    "plt.tight_layout()"
   ]
  },
  {
   "cell_type": "markdown",
   "metadata": {},
   "source": [
    "Despite very different global response, the two responses exhibit a similar structure for late times, as shown below. This suggests that they capture similar information from the underlying network (and the stimulation)."
   ]
  },
  {
   "cell_type": "code",
   "execution_count": null,
   "metadata": {},
   "outputs": [],
   "source": [
    "# get corresponding times\n",
    "t1 = 1\n",
    "t2 = int(t1/dt)\n",
    "\n",
    "plt.figure()\n",
    "plt.scatter(resp1[t1], resp2[t2])\n",
    "plt.xlabel('discrete cascade')\n",
    "plt.ylabel('leaky cascade')\n",
    "plt.title('time %2.1f' % t1)\n",
    "plt.tight_layout()\n",
    "\n",
    "t1 = 5\n",
    "t2 = int(t1/dt)\n",
    "\n",
    "plt.figure()\n",
    "plt.scatter(resp1[t1], resp2[t2])\n",
    "plt.xlabel('discrete cascade')\n",
    "plt.ylabel('leaky cascade')\n",
    "plt.title('time %2.1f' % t1)\n",
    "plt.tight_layout()\n",
    "\n",
    "t1 = 9\n",
    "t2 = int(t1/dt)\n",
    "\n",
    "plt.figure()\n",
    "plt.scatter(resp1[t1], resp2[t2])\n",
    "plt.xlabel('discrete cascade')\n",
    "plt.ylabel('leaky cascade')\n",
    "plt.title('time %2.1f' % t1)\n",
    "plt.tight_layout()\n"
   ]
  },
  {
   "cell_type": "markdown",
   "metadata": {},
   "source": [
    "## Time to peak"
   ]
  },
  {
   "cell_type": "code",
   "execution_count": null,
   "metadata": {},
   "outputs": [],
   "source": [
    "plt.figure()\n",
    "plt.title('Full-flow for every node. tau = %1.2f' %tau, fontsize=12)\n",
    "for i in range(N):\n",
    "    plt.plot(tpoints2, inresp2[:,i], label='i = %d' %(i+1))\n",
    "#plt.ylim(-0.005,0.1)\n",
    "plt.ylabel('in-responses', fontsize=14);\n",
    "plt.legend(frameon=False)\n",
    "\n",
    "sna.Time2Peak(resp2, timestep=dt)"
   ]
  }
 ],
 "metadata": {
  "kernelspec": {
   "display_name": "Python 3 (ipykernel)",
   "language": "python",
   "name": "python3"
  },
  "language_info": {
   "codemirror_mode": {
    "name": "ipython",
    "version": 3
   },
   "file_extension": ".py",
   "mimetype": "text/x-python",
   "name": "python",
   "nbconvert_exporter": "python",
   "pygments_lexer": "ipython3",
   "version": "3.9.12"
  }
 },
 "nbformat": 4,
 "nbformat_minor": 4
}
