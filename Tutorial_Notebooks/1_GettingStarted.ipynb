{
 "cells": [
  {
   "cell_type": "markdown",
   "metadata": {},
   "source": [
    "# 1. Getting Started with SiReNetA and Overview\n",
    "\n",
    "Authors: **Gorka Zamora-López** and **Matthieu Gilson**\n",
    "\n",
    "---------------------\n",
    "\n",
    "This notebook is part of an introductory tutorial for the use of *Stimulus-Response Network Analysis* ([SiReNetA](https://github.com/mb-BCA/SiReNetA)) to study the structure of complex networks:\n",
    "1. **[Getting Started and Overview](1_GettingStarted.ipynb)**\n",
    "2. *[Calculating Response to Stimulus and Metrics](2_Basics_StimRespMetrics.ipynb)*\n",
    "3. *[Canonical Models](3_Basics_CanonModels.ipynb)*\n",
    "4. *[Comparing Networks](4_UseCase_CompareNets.ipynb)*\n",
    "5. *[Network Distance](5_UseCase_NetDist.ipynb)*\n",
    "6. *[Weighted Networks](6_Basics_WeightedNets.ipynb)* \n",
    "\n",
    "---------------------\n",
    "\n",
    "### Outline\n",
    "* Installation of the *SiReNetA* library.\n",
    "* Familiarization with the library and getting information.\n",
    "* A first example into Stimulus-Response Network Analysis.\n",
    "\n",
    "---------------------"
   ]
  },
  {
   "cell_type": "markdown",
   "metadata": {},
   "source": [
    "## 1.1. Installing *SiReNetA* and dependencies\n",
    "\n",
    "*SiReNetA* is built upon the array object definition of [NumPy](https://numpy.org) and it uses functions from the [SciPy](https://scipy.org) library. Running these tutorials also requires [Matplotlib](https://matplotlib.org) for plotting and visualization purposes. The installation of *SiReNetA* checks for these libraries and installs them if not available, see the file 'requirements.txt' [here](https://github.com/mb-BCA/SiReNetA/blob/master/requirements.txt).\n",
    "\n",
    "Some notebooks also require the library [GAlib](https://github.com/gorkazl/pyGAlib) for graph generation, manipulation and analysis in the context of classic graph theory.\n",
    "\n",
    "The following cell checks whether *SiReNetA* is already installed (in the same Python environment in which this notebook is running) and otherwise, the library will be installed using [pip](https://pypi.org/project/pip/). \n",
    "\n",
    ">**Note**: the exclamation mark ( ! ) before `pip install ...` indicates the Jupyter notebook to run the line of code as a system command, same as if we would run it from a terminal window."
   ]
  },
  {
   "cell_type": "code",
   "execution_count": 1,
   "metadata": {},
   "outputs": [
    {
     "name": "stdout",
     "output_type": "stream",
     "text": [
      "SiReNetA: 0.1.dev2\n"
     ]
    }
   ],
   "source": [
    "# Check SiReNetA is installed in the current Python environment, otherwise install (NOTE that you can also create a dedicated python environment to install SiReNetA)\n",
    "try:\n",
    "    import sireneta\n",
    "except ImportError:\n",
    "    # Install from the GitHub repository\n",
    "    print('Installing SiReNetA from GitHub ...')\n",
    "    #! pip install git+https://github.com/mb-BCA/SiReNetA.git@master\n",
    "    ! pip install git+https://github.com/mb-BCA/SiReNetA.git@v1_dev\n",
    "\n",
    "# Make sure the library is properly installed by importing it\n",
    "import sireneta as sna\n",
    "print( 'SiReNetA:', sna.__version__ )"
   ]
  },
  {
   "cell_type": "markdown",
   "metadata": {},
   "source": [
    "<br>\n",
    "\n",
    "## 1.2. Getting familiarised with the *SiReNetA* library\n",
    "\n",
    "Information about the library, its modules and functions is obtained 'online' as usual in the IPython and Jupyter environments. Type `help(module_name)` or `module_name?` in a cell of the notebook (or in an interactive window) to access the corresponding docstrings.\n",
    "\n",
    "Run the following cell to see the general overview of *SiReNetA*."
   ]
  },
  {
   "cell_type": "code",
   "execution_count": 2,
   "metadata": {},
   "outputs": [
    {
     "data": {
      "text/plain": [
       "\u001b[0;31mType:\u001b[0m        module\n",
       "\u001b[0;31mString form:\u001b[0m <module 'sireneta' from '/home/INT/gilson.m/.conda/envs/compneuro/lib/python3.11/site-packages/sireneta/__init__.py'>\n",
       "\u001b[0;31mFile:\u001b[0m        ~/.conda/envs/compneuro/lib/python3.11/site-packages/sireneta/__init__.py\n",
       "\u001b[0;31mDocstring:\u001b[0m  \n",
       "Response Network Analysis (SiReNetA)\n",
       "==================================\n",
       "\n",
       "A library to study complex networks in the light of canonical propagation models.\n",
       "\n",
       "*SiReNetA* proposes a generalised course of action to derive network metrics and\n",
       "characterise networks from the viewpoint of dynamical systems, valid for\n",
       "different canonical propagation models. Since *SiReNetA* introduces a model-based\n",
       "approach to network analysis, it consists on four fundamental steps:\n",
       "\n",
       "1. Identify the constraints and basic assumptions about the real system studied.\n",
       "2. Select accordingly an adequate propagation model.\n",
       "3. Compute the response tensor *R(t)* evaluating the interactions between nodes.\n",
       "4. Extract information of the network applying a variety of metrics on *R(t)*.\n",
       "\n",
       "**Reference and Citation**\n",
       "\n",
       "G. Zamora-Lopez and M. Gilson \"An integrative dynamical perspective for graph\n",
       "theory and the analysis of complex networks\" arXiv:2307.02449 (2023).\n",
       "DOI: `https://doi.org/10.48550/arXiv.2307.02449\n",
       "<https://doi.org/10.48550/arXiv.2307.02449>`_\n",
       "\n",
       "M. Gilson, N. Kouvaris, et al. \"Network analysis of whole-brain fMRI\n",
       "dynamics: A new framework based on dynamic communicability\" NeuroImage 201,\n",
       "116007 (2019).\n",
       "\n",
       "M. Gilson, N. Kouvaris, G. Deco & G.Zamora-Lopez \"Framework based on communi-\n",
       "cability and flow to analyze complex networks\" Phys. Rev. E 97, 052301 (2018).\n",
       "\n",
       "\n",
       "Getting started and finding documentation\n",
       "-----------------------------------------\n",
       "\n",
       "..  Note:: Visit the repository https://github.com/mb-BCA/SiReNetA_Tutorials for\n",
       "    tutorials and practical examples of how to use *Response Network Analysis*\n",
       "    and the *SiReNetA* library.\n",
       "\n",
       "The library is organised into the following user modules:\n",
       "\n",
       "responses.py\n",
       "    Functions to calculate the spatio-temporal evolution of pair-wise node\n",
       "    responses for different canonical models.\n",
       "metrics.py\n",
       "    Descriptors to characterise the spatio-temporal evolution of perturbation-induced\n",
       "    responses in a network.\n",
       "simulate.py\n",
       "    Functions to run simulations of the different canonical models on networks.\n",
       "tools.py\n",
       "    Miscellaneous functionalities.\n",
       "\n",
       "The documentation of the library can be accessed 'online' typing\n",
       "`help(module.py)` in a Python interactive session, or typing `modulename?`\n",
       "in IPython or a Jupyter notebook. For example, to see the principal description\n",
       "of *SiReNetA*, type: ::\n",
       "\n",
       "  >>> import sireneta as sna\n",
       "  >>> help(sna)\n",
       "  >>> sna?\n",
       "\n",
       "To see the list of functions available in each of the modules, call their\n",
       "documentation as ::\n",
       "\n",
       "  >>> sna.responses?\n",
       "  >>> sna.metrics?\n",
       "  >>> sna.simulate?\n",
       "  >>> sna.tools?\n",
       "\n",
       "Details of each function can also be seen using the usual help, ::\n",
       "\n",
       "  >>> sna.modulename.funcname?\n",
       "\n",
       "..  NOTE:: Importing *SiReNetA* brings all functions in the modules *responses.py*\n",
       "    and *metrics.py* into the local namespace. Therefore, these functions can be\n",
       "    called as `sna.func()` instead of `sna.responses.func()` or `sna.metrics.func()`.\n",
       "\n",
       "\n",
       "License\n",
       "-------\n",
       "Copyright 2024, Gorka Zamora-López and Matthieu Gilson.\n",
       "Contact: gorka@zamora-lopez.xyz\n",
       "\n",
       "Licensed under the Apache License, Version 2.0 (the \"License\");\n",
       "you may not use this file except in compliance with the License.\n",
       "You may obtain a copy of the License at\n",
       "\n",
       "    http://www.apache.org/licenses/LICENSE-2.0\n",
       "\n",
       "Unless required by applicable law or agreed to in writing, software\n",
       "distributed under the License is distributed on an \"AS IS\" BASIS,\n",
       "WITHOUT WARRANTIES OR CONDITIONS OF ANY KIND, either express or implied.\n",
       "See the License for the specific language governing permissions and\n",
       "limitations under the License."
      ]
     },
     "metadata": {},
     "output_type": "display_data"
    }
   ],
   "source": [
    "# See the general description of sireneta library \n",
    "sna?"
   ]
  },
  {
   "cell_type": "markdown",
   "metadata": {},
   "source": [
    "As shown, the library is organised into four user modules:\n",
    "\n",
    "- responses.py\n",
    "- metrics.py\n",
    "- simulate.py\n",
    "- tools.py\n",
    "\n",
    "Run the following cell (uncommenting lines one-by-one) to see the description and a list of functions accessible in each module."
   ]
  },
  {
   "cell_type": "code",
   "execution_count": 3,
   "metadata": {},
   "outputs": [
    {
     "data": {
      "text/plain": [
       "\u001b[0;31mType:\u001b[0m        module\n",
       "\u001b[0;31mString form:\u001b[0m <module 'sireneta.responses' from '/home/INT/gilson.m/.conda/envs/compneuro/lib/python3.11/site-packages/sireneta/responses.py'>\n",
       "\u001b[0;31mFile:\u001b[0m        ~/.conda/envs/compneuro/lib/python3.11/site-packages/sireneta/responses.py\n",
       "\u001b[0;31mDocstring:\u001b[0m  \n",
       "Calculation of pair-wise, temporal responses for different propagation models\n",
       "=============================================================================\n",
       "\n",
       "This module contains functions to calculate the temporal evolution of the\n",
       "pair-wise reponses $R_{ij}(t)$ between nodes, due to initial stimuli.\n",
       "The location and intensity of the perturbations can be defined by the users.\n",
       "Default are set to all nodes receive stimulus of unit amplitude. Results for\n",
       "$R_{ij}(t)$ are returned as a numpy array of rank-3 of shape (nt,N,N) where nt\n",
       "is the number of time points and N the number of nodes.\n",
       "\n",
       "Calculation of Jacobian matrices\n",
       "--------------------------------\n",
       "TransitionMatrix\n",
       "    Returns the transition probability matrix for random walks.\n",
       "JacobianMOU\n",
       "    Calculates the Jacobian matrix for the MOU dynamic system.\n",
       "LaplacianMatrix\n",
       "    Calculates the graph Laplacian.\n",
       "\n",
       "Generation of main tensors\n",
       "--------------------------\n",
       "Resp_DiscreteCascade\n",
       "    Computes the pair-wise responses over time for the discrete cascade model.\n",
       "Resp_RandomWalk\n",
       "    Computes the pair-wise responses over time for the simple random walk model.\n",
       "Resp_ContCascade\n",
       "    Computes the pair-wise responses over time for the continuous cascade model.\n",
       "Resp_LeakyCascade\n",
       "    Computes the pair-wise responses over time for the leaky-cascade model.\n",
       "Resp_ContDiffusion\n",
       "    Computes the pair-wise responses over time for the linear diffusive model.\n",
       "\n",
       "\n",
       "**Reference and Citation**\n",
       "\n",
       "1) G. Zamora-Lopez and M. Gilson \"An integrative dynamical perspective for graph\n",
       "theory and the analysis of complex networks\" arXiv:2307.02449 (2023).\n",
       "DOI: `https://doi.org/10.48550/arXiv.2307.02449\n",
       "<https://doi.org/10.48550/arXiv.2307.02449>`_\n",
       "\n",
       "2) M. Gilson, N. Kouvaris, et al. \"Network analysis of whole-brain fMRI\n",
       "dynamics: A new framework based on dynamic communicability\" NeuroImage 201,\n",
       "116007 (2019).\n",
       "\n",
       "3) M. Gilson, N. Kouvaris, G. Deco & G.Zamora-Lopez \"Framework based on communi-\n",
       "cability and flow to analyze complex networks\" Phys. Rev. E 97, 052301 (2018)."
      ]
     },
     "metadata": {},
     "output_type": "display_data"
    }
   ],
   "source": [
    "## Explore the help functions of SiReNetA\n",
    "\n",
    "sna.responses?\n",
    "#sna.metrics?\n",
    "#sna.simulate?\n",
    "#sna.tools?"
   ]
  },
  {
   "cell_type": "markdown",
   "metadata": {},
   "source": [
    "Finally, check the description of individual functions, the expected parameters and their outputs. For example:"
   ]
  },
  {
   "cell_type": "code",
   "execution_count": 4,
   "metadata": {},
   "outputs": [
    {
     "data": {
      "text/plain": [
       "\u001b[0;31mSignature:\u001b[0m \u001b[0msna\u001b[0m\u001b[0;34m.\u001b[0m\u001b[0mresponses\u001b[0m\u001b[0;34m.\u001b[0m\u001b[0mTransitionMatrix\u001b[0m\u001b[0;34m(\u001b[0m\u001b[0mcon\u001b[0m\u001b[0;34m,\u001b[0m \u001b[0mrwcase\u001b[0m\u001b[0;34m=\u001b[0m\u001b[0;34m'simple'\u001b[0m\u001b[0;34m)\u001b[0m\u001b[0;34m\u001b[0m\u001b[0;34m\u001b[0m\u001b[0m\n",
       "\u001b[0;31mDocstring:\u001b[0m\n",
       "Returns the transition probability matrix for random walks.\n",
       "\n",
       "TODO: ADD RANDOM WALK WITH TELEPORTATION\n",
       "\n",
       "- If rwcase='simple'\n",
       "Given a connectivity matrix A, where Aij represents the (weighted)\n",
       "connection from i to j, the transition probability matrix for a simple\n",
       "random walk is computed as Tij = Aij / deg(i), where deg(i) is the output\n",
       "(weighted) degree of node i.\n",
       "\n",
       "Parameters\n",
       "----------\n",
       "con : ndarray (2d) of shape (N,N).\n",
       "    The connectivity matrix of the network.\n",
       "rwcase : string, optional\n",
       "    Default 'simple' returns the transition probability matrix for the\n",
       "    simple random walk.\n",
       "\n",
       "Returns\n",
       "-------\n",
       "tp_matrix : ndarray of rank-2 and shape (N,N).\n",
       "    The transition probability matrix.\n",
       "\n",
       "NOTE\n",
       "----\n",
       "For now only the simple random walk is supported. Optional parameter\n",
       "available to cover different classes of random walks in future\n",
       "releases.\n",
       "\u001b[0;31mFile:\u001b[0m      ~/.conda/envs/compneuro/lib/python3.11/site-packages/sireneta/responses.py\n",
       "\u001b[0;31mType:\u001b[0m      function"
      ]
     },
     "metadata": {},
     "output_type": "display_data"
    }
   ],
   "source": [
    "sna.responses.TransitionMatrix?\n",
    "#sna.responses.Resp_DiscreteCascade?\n",
    "#sna.responses.Resp_LeakyCascade?\n",
    "#sna.metrics.GlobalResponse?\n",
    "#sna.metrics.TimeToPeak?\n",
    "#sna.simulate.Sim_RandomWalk?\n"
   ]
  },
  {
   "cell_type": "markdown",
   "metadata": {},
   "source": [
    "<br>\n",
    "\n",
    "## 1.3. A first example of Stimulus-Response Network Analysis (SRNA)\n",
    "\n",
    "The core idea behind *SRNA* is to reveal the properties of networks by probing how they respond to localised perturbations. That is, to apply a stimulus of unit amplitude at one node and then observe how the rest of nodes respond over time. The manner in which the stimulus propagates throughout the network depends both on the structure of the network and the dynamical propagation model. Under *SRNA* network structure and dynamics are studied jointly. A typical analysis consists of **four steps**:\n",
    "\n",
    "1. Identify the key dynamical constraints of the real system investigated.\n",
    "2. Choose a canonical propagation propagation model.\n",
    "3. Compute the pair-wise network responses $\\mathcal{R}_{ij}(t)$ of the network.\n",
    "4. Extract spatio-temporal network metrics out of $\\mathcal{R}_{ij}(t)$.\n",
    "\n",
    "\n",
    "Suppose we wanted to study the example \"brain connectivity\" below that can be reduced into a graph of *N = 8* nodes.\n",
    "\n",
    "\n",
    "<img alt=\"Sample Graph, n=8 nodes\" src=\"img/TestNet_N8_Brain.jpg\" width=\"480\">\n"
   ]
  },
  {
   "cell_type": "markdown",
   "metadata": {},
   "source": [
    "### Step 1 …\n",
    "\n",
    "... consists of identifying minimal dynamical conditions and properties of propagation in the real system. In this example, the brain at the macroscopic level is considered as a **_dissipative system_** in which **_continuous signals_**  broadcasted by a region travel to all the connected neighbours (cascading fashion). Importantly, due to the dissipative nature of the propagation, these signals fade over time, but do not constantly reverberate.\n",
    "\n",
    "<img alt=\"XXX SHOW FIG ABOUT E.G. TMS\" src = \"xxx.jpg\" width=480>"
   ]
  },
  {
   "cell_type": "markdown",
   "metadata": {},
   "source": [
    "### Step 2 …\n",
    "\n",
    "... is about finding a suitable canonical propagation model that fulfils these conditions. Here we consider the *leaky-cascade*:\n",
    "\n",
    "$$\\dot{\\mathbf{x}}(t) = - \\frac{1}{\\tau} \\mathbf{x}(t) \\,+\\, A \\, \\mathbf{x}(t) $$\n",
    "\n",
    "where $\\mathbf{x}(t)$ is are the *N* signals and $\\tau$ is a leakage time-constant controlling for the dissipation rate. See [Canonical Models](3_Basics_CanonModels.ipynb) for the details of the propagation model and comparison with others."
   ]
  },
  {
   "cell_type": "markdown",
   "metadata": {},
   "source": [
    "### Step 3 …\n",
    "\n",
    "… is the computation if the temporal evolution of the pair-wise, conditional response matrices over time $\\mathcal{R}(t)$. In particular, each element $\\mathcal{R}_{ij}(t)$ is a curve representing the transient response of node *i* to a stimulus of unit amplitude applied at node *j* at time *t = 0*, as illustrated below.\n",
    "\n",
    "<img alt=\"Sample Graph, n=8 nodes\" src=\"img/TestNet_N8_StimResp.jpg\" width=\"480\">\n",
    "\n",
    "For that, we first need to load the necessary libraries and enter the conditions for the \"simulation\"."
   ]
  },
  {
   "cell_type": "code",
   "execution_count": 5,
   "metadata": {},
   "outputs": [],
   "source": [
    "# Python standard & third-party library imports\n",
    "from timeit import default_timer as timer\n",
    "\n",
    "import matplotlib.pyplot as plt\n",
    "import numpy as np"
   ]
  },
  {
   "cell_type": "code",
   "execution_count": 6,
   "metadata": {},
   "outputs": [],
   "source": [
    "# Some plotting options to control visualization\n",
    "%matplotlib inline\n",
    "# Define the default scale for the plots\n",
    "plt.rcParams['figure.dpi'] = 72\n",
    "plt.rcParams['text.usetex'] = True"
   ]
  },
  {
   "cell_type": "markdown",
   "metadata": {},
   "source": [
    "We consider the network determined by the following binary matrix."
   ]
  },
  {
   "cell_type": "code",
   "execution_count": 7,
   "metadata": {},
   "outputs": [],
   "source": [
    "# Load the sample graph to study\n",
    "net = np.loadtxt('../Data/Testnet_N8.txt', dtype=int)\n",
    "# Number of nodes\n",
    "N = len(net)"
   ]
  },
  {
   "cell_type": "code",
   "execution_count": 8,
   "metadata": {},
   "outputs": [
    {
     "data": {
      "image/png": "[encoded data removed]",
      "text/plain": [
       "<Figure size 460.8x345.6 with 2 Axes>"
      ]
     },
     "metadata": {},
     "output_type": "display_data"
    }
   ],
   "source": [
    "# Visualize the connectivity matrix\n",
    "plt.figure()\n",
    "plt.title('Connectivity matrix', fontsize=16)\n",
    "plt.imshow(net, cmap='gray_r')\n",
    "plt.clim(0,net.max())\n",
    "plt.colorbar()\n",
    "plt.xlabel('node index', fontsize=14)\n",
    "plt.ylabel('node index', fontsize=14)\n",
    "\n",
    "plt.tight_layout()"
   ]
  },
  {
   "cell_type": "markdown",
   "metadata": {},
   "source": [
    "Convergence of the leaky-cascade model depends on the leakage time-constant, when $\\tau \\leq 1 \\,/\\, \\lambda_{max}$. Find the largest eigenvalue of connectivity *A* and the critical $\\tau_{max}$."
   ]
  },
  {
   "cell_type": "code",
   "execution_count": 9,
   "metadata": {},
   "outputs": [
    {
     "name": "stdout",
     "output_type": "stream",
     "text": [
      "Spectral radius:\t3.03407\n",
      "Largest possible tau:\t0.32959\n"
     ]
    }
   ],
   "source": [
    "# Find the largest eigenvalue of the connectivity matrix A\n",
    "evs = np.linalg.eigvals(net)\n",
    "evmax = evs.real.max()\n",
    "# Calculate the largest possible tau\n",
    "taumax = 1.0 / evmax\n",
    "\n",
    "print( f'Spectral radius:\\t{evmax:2.5f}' )\n",
    "print( f'Largest possible tau:\\t{taumax:2.5f}' )"
   ]
  },
  {
   "cell_type": "markdown",
   "metadata": {},
   "source": [
    "Prepare to compute the response matrices $\\mathcal{R}(t)$."
   ]
  },
  {
   "cell_type": "code",
   "execution_count": 10,
   "metadata": {},
   "outputs": [],
   "source": [
    "# Define the simulation parameters\n",
    "# Set the temporal resolution\n",
    "tfinal = 10\n",
    "dt = 0.01\n",
    "tpoints = np.arange(0.0, tfinal+dt, dt)\n",
    "nsteps = len(tpoints)\n",
    "\n",
    "# Set the leakage time-constants τ, proportional to taumax\n",
    "tau = 0.8 * taumax\n",
    "\n",
    "# Define the stimulation amplitude to every node\n",
    "stim = 1.0"
   ]
  },
  {
   "cell_type": "code",
   "execution_count": 11,
   "metadata": {},
   "outputs": [
    {
     "name": "stdout",
     "output_type": "stream",
     "text": [
      "\n",
      "Calculating ... pair-wise response tensors, from t=0 to t=10.0, with step=0.010 ...\n",
      "Computation time: 0.060 seconds\n"
     ]
    }
   ],
   "source": [
    "# Calculate temporal evolution of the pair-wise responses R(t)\n",
    "print( f'\\nCalculating ... pair-wise response tensors, from t=0 to t={tfinal:3.1f}, with step={dt:3.3f} ...' )\n",
    "time1 = timer()\n",
    "Rmats = sna.Resp_LeakyCascade(net.T, S0=stim, tau=tau, tmax=tfinal, timestep=dt)\n",
    "time2 = timer()\n",
    "print( f'Computation time: {time2-time1:1.3f} seconds' )"
   ]
  },
  {
   "cell_type": "code",
   "execution_count": 12,
   "metadata": {},
   "outputs": [
    {
     "data": {
      "image/png": "[encoded data removed]",
      "text/plain": [
       "<Figure size 864x432 with 12 Axes>"
      ]
     },
     "metadata": {},
     "output_type": "display_data"
    }
   ],
   "source": [
    "# Visualise the pair-wise response matrices at times t = 0.1, 0.3, 0.5, 1.0, 2.0, 3.0\n",
    "maxresp = Rmats.max()\n",
    "\n",
    "tidxlist = [10,20,50,100,200,500]\n",
    "plt.figure(figsize=[12,6])\n",
    "for i, tidx in enumerate(tidxlist):\n",
    "    t = tpoints[tidx]\n",
    "    plt.subplot(2,3,i+1)\n",
    "    plt.title( f'$\\mathcal{{R}}(t)$ response matrix at t={t:1.1f}' )\n",
    "    plt.imshow(Rmats[tidx], cmap='gray_r')\n",
    "    plt.clim(0,maxresp)\n",
    "    plt.colorbar()\n",
    "    plt.xticks(np.arange(N), np.arange(N)+1)\n",
    "    plt.yticks(np.arange(N), np.arange(N)+1)\n",
    "    plt.xlabel('source node')\n",
    "    plt.ylabel('target node')\n",
    "\n",
    "plt.tight_layout()"
   ]
  },
  {
   "cell_type": "markdown",
   "metadata": {},
   "source": [
    "The above matrices are the pair-wise (source/target) responses for all pairs of nodes, at different times. Therefore, each pair forms a curve over time. We now visualize these for the responses $\\mathcal{R}_{i1}(t)$ of nodes *i = 2, 3, ...,8* to the stimulus initially applied at *j = 1*.\n",
    "\n",
    "For comparison, the gray dashed curve represents the global network response (rescaled by the number of weights for comparison), to illustrate how the specific responses differ from the global one."
   ]
  },
  {
   "cell_type": "code",
   "execution_count": 13,
   "metadata": {},
   "outputs": [
    {
     "data": {
      "image/png": "[encoded data removed]",
      "text/plain": [
       "<Figure size 460.8x216 with 1 Axes>"
      ]
     },
     "metadata": {},
     "output_type": "display_data"
    }
   ],
   "source": [
    "# Compute the global network response\n",
    "Rglob = sna.GlobalResponse(Rmats)\n",
    "\n",
    "# Plot the responses to stimulus applied at j = 1.\n",
    "plt.figure(figsize=(6.4,3))\n",
    "for i in range(1,N):\n",
    "    plt.plot(tpoints, Rmats[:,i,0], label='1 -> %d' %(i+1))\n",
    "plt.plot(tpoints, Rglob / N**2, label='Global', c='gray', ls='--', lw=4)\n",
    "plt.xlabel('Time (a.u.)')\n",
    "plt.ylabel('Pair-wise Response')\n",
    "plt.legend(frameon=False)\n",
    "\n",
    "plt.tight_layout()"
   ]
  },
  {
   "cell_type": "markdown",
   "metadata": {},
   "source": [
    "As observed, the largest (*and fastest* !) responses correspond to *i = 2, 3* which are directly connected to *j = 1*, followed by *4* and *6* which are the nodes with more connections in the network."
   ]
  },
  {
   "cell_type": "markdown",
   "metadata": {},
   "source": [
    "### Step 4 …\n",
    "\n",
    "… is finally to _**extract network metrics out of**_ $\\mathcal{R}\\_{ij}(t)$, in the form of spatio-temporal properties of the response propagation. There are many such metrics that could be derived. Here we only estimate two for illustration (see [Calculating Response to Stimulus and Metrics](2_Basics_StimRespMetrics.ipynb) for further metrics):\n",
    "\n",
    "\n",
    "- Time-to-peak distance $D^{ttp}_{ij}$, which analogous to the graph distance, and …\n",
    "- the total node responses, $\\bar{r}_i$, which is reminiscent of the degree or centrality of a node.\n",
    "\n"
   ]
  },
  {
   "cell_type": "markdown",
   "metadata": {},
   "source": [
    "The pair-wise responses $\\mathcal{R}_{i \\gets 1}(t)$ plotted above showed that every pair-wise interaction peaks at different times $t^*_{i1}$. This pair-wise time-to-peak can be employed to redefine the distance between nodes in a network ($D^{ttp}_{ij} = t^*_{ij}$) and thus  generalize the usual path distance in graphs. See [Network Distance](5_UseCase_NetDist.ipynb) and [Zamora-López & Gilson, Chaos (2024)](https://doi.org/10.1063/5.0202241) for further details.\n",
    "\n",
    "In the following we compute and visualize this distance matrix:"
   ]
  },
  {
   "cell_type": "code",
   "execution_count": 14,
   "metadata": {},
   "outputs": [
    {
     "data": {
      "image/png": "[encoded data removed]",
      "text/plain": [
       "<Figure size 720x216 with 4 Axes>"
      ]
     },
     "metadata": {},
     "output_type": "display_data"
    }
   ],
   "source": [
    "# Compute the time-to-peak distance \n",
    "ttpdist = sna.Time2Peak(Rmats, timestep=dt)\n",
    "\n",
    "plt.figure(figsize=(10,3))\n",
    "# Plot the adjacency matrix\n",
    "plt.subplot(1,2,1)\n",
    "plt.title('Adjacency matrix')\n",
    "plt.imshow(net, cmap='gray_r')\n",
    "plt.colorbar()\n",
    "plt.xlabel( 'Node index' )\n",
    "plt.ylabel( 'Node index' )\n",
    "\n",
    "# Plot the time-2-peak distance matrix\n",
    "plt.subplot(1,2,2)\n",
    "plt.title('Time-to-peak distance')\n",
    "plt.imshow(ttpdist)\n",
    "plt.colorbar()\n",
    "plt.xlabel( 'Node index' )\n",
    "plt.ylabel( 'Node index' )\n",
    "\n",
    "plt.tight_layout()"
   ]
  },
  {
   "cell_type": "markdown",
   "metadata": {},
   "source": [
    "As expected from the $\\mathcal{R}_{i \\gets 1}(t)$ curves above, the nodes that are directly connected peak earlier to the stimuli and are thus \"closer\".\n",
    "\n",
    "Finally, we compute the total node responses $\\bar{r}_i$. For that, we first compute the (summed) response $r_i(t)$ of *i* to the stimuli in all other *j*. Then $\\bar{r}_i$ is the accumulated response of *i* over time (integral or area-under-the-curve of $r_i(t)$)."
   ]
  },
  {
   "cell_type": "code",
   "execution_count": 15,
   "metadata": {},
   "outputs": [
    {
     "data": {
      "image/png": "[encoded data removed]",
      "text/plain": [
       "<Figure size 460.8x273.6 with 1 Axes>"
      ]
     },
     "metadata": {},
     "output_type": "display_data"
    }
   ],
   "source": [
    "# Compute and visualise the node responses\n",
    "r_nodes = sna.NodeResponses(Rmats)[0]\n",
    "\n",
    "# Visualize the node responses over time\n",
    "plt.figure(figsize=(6.4,3.8))\n",
    "for i in range(N):\n",
    "    plt.plot(tpoints, r_nodes[:,i], label='Node %d' %(i+1))\n",
    "plt.plot(tpoints, Rglob / N, label='Global', c='gray', ls='--', lw=4)\n",
    "plt.xlabel('Time (a.u.)')\n",
    "plt.ylabel('Node Response')\n",
    "plt.legend(frameon=False)\n",
    "\n",
    "plt.tight_layout()"
   ]
  },
  {
   "cell_type": "markdown",
   "metadata": {},
   "source": [
    "Nodes *i = 4* and *6* are those with largest responses, since they are the most connected. On the contrary, *i = 5* and *7* have only one connection and thus display the smallest responses.\n",
    "\n",
    "We now reduce this into one value per node, the total node response $\\bar{r}_i$ and compare to their degrees $k_i$."
   ]
  },
  {
   "cell_type": "code",
   "execution_count": 16,
   "metadata": {
    "scrolled": true
   },
   "outputs": [
    {
     "data": {
      "image/png": "[encoded data removed]",
      "text/plain": [
       "<Figure size 720x216 with 2 Axes>"
      ]
     },
     "metadata": {},
     "output_type": "display_data"
    }
   ],
   "source": [
    "# Compute the total node responses\n",
    "totr_nodes = sna.AreaUnderCurve(r_nodes, dt)\n",
    "\n",
    "# Visualize the total node responses\n",
    "plt.figure(figsize=(10,3))\n",
    "plt.subplot(1,2,1)\n",
    "for i in range(N):\n",
    "    plt.bar((i+1), totr_nodes[i])\n",
    "plt.xlabel( 'Node index' )\n",
    "plt.ylabel( 'Total node resp.  $\\\\bar{r}_i$' );\n",
    "\n",
    "# Visualize their relation with the degree\n",
    "deg = net.sum(axis=0)\n",
    "\n",
    "plt.subplot(1,2,2)\n",
    "plt.scatter(deg, totr_nodes)\n",
    "plt.xlabel('Degree of node, $k_i$')\n",
    "plt.ylabel( 'Total node resp.  $\\\\bar{r}_i$' )\n",
    "\n",
    "plt.tight_layout()"
   ]
  },
  {
   "cell_type": "markdown",
   "metadata": {},
   "source": [
    "Last, we can explore _**the relation between the centrality of a node and their total response**_. \n",
    "\n",
    "In classical graph theory, the degree of a node is a first-order measure of centrality. The  closeness centrality $c_i$ is defined as the sum of (geodesic) distances from node *i* to the others: $c_i = \\sum_{k=1}^N D_{ik}$. Both degree and closeness centrality are typically related via a negative correlation: the more connected a node (like a hub), the closer it is on average to other nodes via network paths.\n",
    "\n",
    "Analogously, closeness centrality can be defined from the time-to-peak distance matrix as $c_i = \\sum_{k=1}^N  D^{ttp}_{ik}$. Below, we compare this closeness centrality with the degree and the total node responses."
   ]
  },
  {
   "cell_type": "code",
   "execution_count": 17,
   "metadata": {},
   "outputs": [
    {
     "data": {
      "image/png": "[encoded data removed]",
      "text/plain": [
       "<Figure size 720x216 with 2 Axes>"
      ]
     },
     "metadata": {},
     "output_type": "display_data"
    }
   ],
   "source": [
    "# Compute closeness centrality from time-to-peak distances\n",
    "c_nodes = ttpdist.sum(axis=1)\n",
    "\n",
    "plt.figure(figsize=(10,3))\n",
    "# Compare centrality with degree\n",
    "plt.subplot(1,2,1)\n",
    "plt.scatter(deg,c_nodes)\n",
    "plt.xlabel('Degree of Node, $k_i$')\n",
    "plt.ylabel( 'Closeness cent.')\n",
    "\n",
    "# Compare centrality with total node responses\n",
    "plt.subplot(1,2,2)\n",
    "plt.scatter(totr_nodes,c_nodes)\n",
    "plt.xlabel( 'Total node resp.  $\\\\bar{r}_i$' )\n",
    "plt.ylabel( 'Closeness cent.')\n",
    "\n",
    "plt.tight_layout()"
   ]
  },
  {
   "cell_type": "markdown",
   "metadata": {},
   "source": [
    "We see the expected negative correlations in both figures, the second one following because the degree and the total response are positively correlated. This shows that, for this example small network, nodes that have high degree (a local property) are also those \"important\" for the centrality (a global property that takes the whole network into account).\n",
    "\n",
    "Note that the claimed correspondance between geodesic distance and time-to-peak is valid **because the considered network is undirected**. However, the dynamical measures here proposed are also straight-forwardly applicable to weighted and directed networks, unlike many graph metrics: for instance, a weight could correspond to a cost (like with the geodesic distance) or an efficacy to propagate the signal. Care must thus be taken when applying and interpreting spatio-temporal measures applied to a particular network. See [Weighted Networks](6_Basics_WeightedNets.ipynb) for examples of the applications to directed and weighted cases."
   ]
  },
  {
   "cell_type": "code",
   "execution_count": null,
   "metadata": {},
   "outputs": [],
   "source": []
  },
  {
   "cell_type": "code",
   "execution_count": null,
   "metadata": {},
   "outputs": [],
   "source": []
  },
  {
   "cell_type": "code",
   "execution_count": null,
   "metadata": {},
   "outputs": [],
   "source": []
  },
  {
   "cell_type": "code",
   "execution_count": null,
   "metadata": {},
   "outputs": [],
   "source": []
  }
 ],
 "metadata": {
  "kernelspec": {
   "display_name": "Python 3 (ipykernel)",
   "language": "python",
   "name": "python3"
  },
  "language_info": {
   "codemirror_mode": {
    "name": "ipython",
    "version": 3
   },
   "file_extension": ".py",
   "mimetype": "text/x-python",
   "name": "python",
   "nbconvert_exporter": "python",
   "pygments_lexer": "ipython3",
   "version": "3.9.12"
  }
 },
 "nbformat": 4,
 "nbformat_minor": 4
}
